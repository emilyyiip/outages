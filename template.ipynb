{
 "cells": [
  {
   "cell_type": "markdown",
   "metadata": {},
   "source": [
    "# Outages Exploratory Analysis\n",
    "\n",
    "**Name(s)**: Claire Wang, Emily Yip\n",
    "\n",
    "https://docs.lib.purdue.edu/cgi/viewcontent.cgi?params=/context/civeng/article/1035/&path_info=10.1016_j.dib.2018.06.067.pdf\n",
    "\n",
    "\n",
    "**Website Link**: (your website link)"
   ]
  },
  {
   "cell_type": "code",
   "execution_count": 76,
   "metadata": {
    "ExecuteTime": {
     "end_time": "2019-10-31T23:36:28.652554Z",
     "start_time": "2019-10-31T23:36:27.180520Z"
    }
   },
   "outputs": [],
   "source": [
    "import pandas as pd\n",
    "import numpy as np\n",
    "from pathlib import Path\n",
    "\n",
    "import plotly.express as px\n",
    "pd.options.plotting.backend = 'plotly'\n",
    "\n",
    "from dsc80_utils import * # Feel free to uncomment and use this."
   ]
  },
  {
   "cell_type": "markdown",
   "metadata": {},
   "source": [
    "## Step 1: Introduction"
   ]
  },
  {
   "cell_type": "code",
   "execution_count": 16,
   "metadata": {},
   "outputs": [
    {
     "data": {
      "text/html": [
       "<div>\n",
       "<style scoped>\n",
       "    .dataframe tbody tr th:only-of-type {\n",
       "        vertical-align: middle;\n",
       "    }\n",
       "\n",
       "    .dataframe tbody tr th {\n",
       "        vertical-align: top;\n",
       "    }\n",
       "\n",
       "    .dataframe thead th {\n",
       "        text-align: right;\n",
       "    }\n",
       "</style>\n",
       "<table border=\"1\" class=\"dataframe\">\n",
       "  <thead>\n",
       "    <tr style=\"text-align: right;\">\n",
       "      <th></th>\n",
       "      <th>OBS</th>\n",
       "      <th>YEAR</th>\n",
       "      <th>MONTH</th>\n",
       "      <th>U.S._STATE</th>\n",
       "      <th>POSTAL.CODE</th>\n",
       "      <th>NERC.REGION</th>\n",
       "      <th>CLIMATE.REGION</th>\n",
       "      <th>ANOMALY.LEVEL</th>\n",
       "      <th>CLIMATE.CATEGORY</th>\n",
       "      <th>OUTAGE.START.DATE</th>\n",
       "      <th>...</th>\n",
       "      <th>POPPCT_URBAN</th>\n",
       "      <th>POPPCT_UC</th>\n",
       "      <th>POPDEN_URBAN</th>\n",
       "      <th>POPDEN_UC</th>\n",
       "      <th>POPDEN_RURAL</th>\n",
       "      <th>AREAPCT_URBAN</th>\n",
       "      <th>AREAPCT_UC</th>\n",
       "      <th>PCT_LAND</th>\n",
       "      <th>PCT_WATER_TOT</th>\n",
       "      <th>PCT_WATER_INLAND</th>\n",
       "    </tr>\n",
       "  </thead>\n",
       "  <tbody>\n",
       "    <tr>\n",
       "      <th>0</th>\n",
       "      <td>1</td>\n",
       "      <td>2011</td>\n",
       "      <td>7</td>\n",
       "      <td>Minnesota</td>\n",
       "      <td>MN</td>\n",
       "      <td>MRO</td>\n",
       "      <td>East North Central</td>\n",
       "      <td>-0.3</td>\n",
       "      <td>normal</td>\n",
       "      <td>Friday, July 01, 2011</td>\n",
       "      <td>...</td>\n",
       "      <td>73.27</td>\n",
       "      <td>15.28</td>\n",
       "      <td>2279</td>\n",
       "      <td>1700.5</td>\n",
       "      <td>18.2</td>\n",
       "      <td>2.14</td>\n",
       "      <td>0.6</td>\n",
       "      <td>91.59266587</td>\n",
       "      <td>8.407334131</td>\n",
       "      <td>5.478742983</td>\n",
       "    </tr>\n",
       "    <tr>\n",
       "      <th>1</th>\n",
       "      <td>2</td>\n",
       "      <td>2014</td>\n",
       "      <td>5</td>\n",
       "      <td>Minnesota</td>\n",
       "      <td>MN</td>\n",
       "      <td>MRO</td>\n",
       "      <td>East North Central</td>\n",
       "      <td>-0.1</td>\n",
       "      <td>normal</td>\n",
       "      <td>Sunday, May 11, 2014</td>\n",
       "      <td>...</td>\n",
       "      <td>73.27</td>\n",
       "      <td>15.28</td>\n",
       "      <td>2279</td>\n",
       "      <td>1700.5</td>\n",
       "      <td>18.2</td>\n",
       "      <td>2.14</td>\n",
       "      <td>0.6</td>\n",
       "      <td>91.59266587</td>\n",
       "      <td>8.407334131</td>\n",
       "      <td>5.478742983</td>\n",
       "    </tr>\n",
       "    <tr>\n",
       "      <th>2</th>\n",
       "      <td>3</td>\n",
       "      <td>2010</td>\n",
       "      <td>10</td>\n",
       "      <td>Minnesota</td>\n",
       "      <td>MN</td>\n",
       "      <td>MRO</td>\n",
       "      <td>East North Central</td>\n",
       "      <td>-1.5</td>\n",
       "      <td>cold</td>\n",
       "      <td>Tuesday, October 26, 2010</td>\n",
       "      <td>...</td>\n",
       "      <td>73.27</td>\n",
       "      <td>15.28</td>\n",
       "      <td>2279</td>\n",
       "      <td>1700.5</td>\n",
       "      <td>18.2</td>\n",
       "      <td>2.14</td>\n",
       "      <td>0.6</td>\n",
       "      <td>91.59266587</td>\n",
       "      <td>8.407334131</td>\n",
       "      <td>5.478742983</td>\n",
       "    </tr>\n",
       "    <tr>\n",
       "      <th>3</th>\n",
       "      <td>4</td>\n",
       "      <td>2012</td>\n",
       "      <td>6</td>\n",
       "      <td>Minnesota</td>\n",
       "      <td>MN</td>\n",
       "      <td>MRO</td>\n",
       "      <td>East North Central</td>\n",
       "      <td>-0.1</td>\n",
       "      <td>normal</td>\n",
       "      <td>Tuesday, June 19, 2012</td>\n",
       "      <td>...</td>\n",
       "      <td>73.27</td>\n",
       "      <td>15.28</td>\n",
       "      <td>2279</td>\n",
       "      <td>1700.5</td>\n",
       "      <td>18.2</td>\n",
       "      <td>2.14</td>\n",
       "      <td>0.6</td>\n",
       "      <td>91.59266587</td>\n",
       "      <td>8.407334131</td>\n",
       "      <td>5.478742983</td>\n",
       "    </tr>\n",
       "    <tr>\n",
       "      <th>4</th>\n",
       "      <td>5</td>\n",
       "      <td>2015</td>\n",
       "      <td>7</td>\n",
       "      <td>Minnesota</td>\n",
       "      <td>MN</td>\n",
       "      <td>MRO</td>\n",
       "      <td>East North Central</td>\n",
       "      <td>1.2</td>\n",
       "      <td>warm</td>\n",
       "      <td>Saturday, July 18, 2015</td>\n",
       "      <td>...</td>\n",
       "      <td>73.27</td>\n",
       "      <td>15.28</td>\n",
       "      <td>2279</td>\n",
       "      <td>1700.5</td>\n",
       "      <td>18.2</td>\n",
       "      <td>2.14</td>\n",
       "      <td>0.6</td>\n",
       "      <td>91.59266587</td>\n",
       "      <td>8.407334131</td>\n",
       "      <td>5.478742983</td>\n",
       "    </tr>\n",
       "    <tr>\n",
       "      <th>...</th>\n",
       "      <td>...</td>\n",
       "      <td>...</td>\n",
       "      <td>...</td>\n",
       "      <td>...</td>\n",
       "      <td>...</td>\n",
       "      <td>...</td>\n",
       "      <td>...</td>\n",
       "      <td>...</td>\n",
       "      <td>...</td>\n",
       "      <td>...</td>\n",
       "      <td>...</td>\n",
       "      <td>...</td>\n",
       "      <td>...</td>\n",
       "      <td>...</td>\n",
       "      <td>...</td>\n",
       "      <td>...</td>\n",
       "      <td>...</td>\n",
       "      <td>...</td>\n",
       "      <td>...</td>\n",
       "      <td>...</td>\n",
       "      <td>...</td>\n",
       "    </tr>\n",
       "    <tr>\n",
       "      <th>1529</th>\n",
       "      <td>1530</td>\n",
       "      <td>2011</td>\n",
       "      <td>12</td>\n",
       "      <td>North Dakota</td>\n",
       "      <td>ND</td>\n",
       "      <td>MRO</td>\n",
       "      <td>West North Central</td>\n",
       "      <td>-0.9</td>\n",
       "      <td>cold</td>\n",
       "      <td>Tuesday, December 06, 2011</td>\n",
       "      <td>...</td>\n",
       "      <td>59.9</td>\n",
       "      <td>19.9</td>\n",
       "      <td>2192.2</td>\n",
       "      <td>1868.2</td>\n",
       "      <td>3.9</td>\n",
       "      <td>0.27</td>\n",
       "      <td>0.1</td>\n",
       "      <td>97.59964921</td>\n",
       "      <td>2.401765255</td>\n",
       "      <td>2.401765255</td>\n",
       "    </tr>\n",
       "    <tr>\n",
       "      <th>1530</th>\n",
       "      <td>1531</td>\n",
       "      <td>2006</td>\n",
       "      <td>NaN</td>\n",
       "      <td>North Dakota</td>\n",
       "      <td>ND</td>\n",
       "      <td>MRO</td>\n",
       "      <td>West North Central</td>\n",
       "      <td>NaN</td>\n",
       "      <td>NaN</td>\n",
       "      <td>NaN</td>\n",
       "      <td>...</td>\n",
       "      <td>59.9</td>\n",
       "      <td>19.9</td>\n",
       "      <td>2192.2</td>\n",
       "      <td>1868.2</td>\n",
       "      <td>3.9</td>\n",
       "      <td>0.27</td>\n",
       "      <td>0.1</td>\n",
       "      <td>97.59964921</td>\n",
       "      <td>2.401765255</td>\n",
       "      <td>2.401765255</td>\n",
       "    </tr>\n",
       "    <tr>\n",
       "      <th>1531</th>\n",
       "      <td>1532</td>\n",
       "      <td>2009</td>\n",
       "      <td>8</td>\n",
       "      <td>South Dakota</td>\n",
       "      <td>SD</td>\n",
       "      <td>RFC</td>\n",
       "      <td>West North Central</td>\n",
       "      <td>0.5</td>\n",
       "      <td>warm</td>\n",
       "      <td>Saturday, August 29, 2009</td>\n",
       "      <td>...</td>\n",
       "      <td>56.65</td>\n",
       "      <td>26.73</td>\n",
       "      <td>2038.3</td>\n",
       "      <td>1905.4</td>\n",
       "      <td>4.7</td>\n",
       "      <td>0.3</td>\n",
       "      <td>0.15</td>\n",
       "      <td>98.30774418</td>\n",
       "      <td>1.692255822</td>\n",
       "      <td>1.692255822</td>\n",
       "    </tr>\n",
       "    <tr>\n",
       "      <th>1532</th>\n",
       "      <td>1533</td>\n",
       "      <td>2009</td>\n",
       "      <td>8</td>\n",
       "      <td>South Dakota</td>\n",
       "      <td>SD</td>\n",
       "      <td>MRO</td>\n",
       "      <td>West North Central</td>\n",
       "      <td>0.5</td>\n",
       "      <td>warm</td>\n",
       "      <td>Saturday, August 29, 2009</td>\n",
       "      <td>...</td>\n",
       "      <td>56.65</td>\n",
       "      <td>26.73</td>\n",
       "      <td>2038.3</td>\n",
       "      <td>1905.4</td>\n",
       "      <td>4.7</td>\n",
       "      <td>0.3</td>\n",
       "      <td>0.15</td>\n",
       "      <td>98.30774418</td>\n",
       "      <td>1.692255822</td>\n",
       "      <td>1.692255822</td>\n",
       "    </tr>\n",
       "    <tr>\n",
       "      <th>1533</th>\n",
       "      <td>1534</td>\n",
       "      <td>2000</td>\n",
       "      <td>NaN</td>\n",
       "      <td>Alaska</td>\n",
       "      <td>AK</td>\n",
       "      <td>ASCC</td>\n",
       "      <td>NaN</td>\n",
       "      <td>NaN</td>\n",
       "      <td>NaN</td>\n",
       "      <td>NaN</td>\n",
       "      <td>...</td>\n",
       "      <td>66.02</td>\n",
       "      <td>21.56</td>\n",
       "      <td>1802.6</td>\n",
       "      <td>1276</td>\n",
       "      <td>0.4</td>\n",
       "      <td>0.05</td>\n",
       "      <td>0.02</td>\n",
       "      <td>85.76115446</td>\n",
       "      <td>14.23884554</td>\n",
       "      <td>2.901181874</td>\n",
       "    </tr>\n",
       "  </tbody>\n",
       "</table>\n",
       "<p>1534 rows × 56 columns</p>\n",
       "</div>"
      ],
      "text/plain": [
       "       OBS  YEAR MONTH    U.S._STATE POSTAL.CODE NERC.REGION  \\\n",
       "0        1  2011     7     Minnesota          MN         MRO   \n",
       "1        2  2014     5     Minnesota          MN         MRO   \n",
       "2        3  2010    10     Minnesota          MN         MRO   \n",
       "3        4  2012     6     Minnesota          MN         MRO   \n",
       "4        5  2015     7     Minnesota          MN         MRO   \n",
       "...    ...   ...   ...           ...         ...         ...   \n",
       "1529  1530  2011    12  North Dakota          ND         MRO   \n",
       "1530  1531  2006   NaN  North Dakota          ND         MRO   \n",
       "1531  1532  2009     8  South Dakota          SD         RFC   \n",
       "1532  1533  2009     8  South Dakota          SD         MRO   \n",
       "1533  1534  2000   NaN        Alaska          AK        ASCC   \n",
       "\n",
       "          CLIMATE.REGION ANOMALY.LEVEL CLIMATE.CATEGORY  \\\n",
       "0     East North Central          -0.3           normal   \n",
       "1     East North Central          -0.1           normal   \n",
       "2     East North Central          -1.5             cold   \n",
       "3     East North Central          -0.1           normal   \n",
       "4     East North Central           1.2             warm   \n",
       "...                  ...           ...              ...   \n",
       "1529  West North Central          -0.9             cold   \n",
       "1530  West North Central           NaN              NaN   \n",
       "1531  West North Central           0.5             warm   \n",
       "1532  West North Central           0.5             warm   \n",
       "1533                 NaN           NaN              NaN   \n",
       "\n",
       "               OUTAGE.START.DATE  ... POPPCT_URBAN POPPCT_UC POPDEN_URBAN  \\\n",
       "0          Friday, July 01, 2011  ...        73.27     15.28         2279   \n",
       "1           Sunday, May 11, 2014  ...        73.27     15.28         2279   \n",
       "2      Tuesday, October 26, 2010  ...        73.27     15.28         2279   \n",
       "3         Tuesday, June 19, 2012  ...        73.27     15.28         2279   \n",
       "4        Saturday, July 18, 2015  ...        73.27     15.28         2279   \n",
       "...                          ...  ...          ...       ...          ...   \n",
       "1529  Tuesday, December 06, 2011  ...         59.9      19.9       2192.2   \n",
       "1530                         NaN  ...         59.9      19.9       2192.2   \n",
       "1531   Saturday, August 29, 2009  ...        56.65     26.73       2038.3   \n",
       "1532   Saturday, August 29, 2009  ...        56.65     26.73       2038.3   \n",
       "1533                         NaN  ...        66.02     21.56       1802.6   \n",
       "\n",
       "     POPDEN_UC POPDEN_RURAL AREAPCT_URBAN AREAPCT_UC     PCT_LAND  \\\n",
       "0       1700.5         18.2          2.14        0.6  91.59266587   \n",
       "1       1700.5         18.2          2.14        0.6  91.59266587   \n",
       "2       1700.5         18.2          2.14        0.6  91.59266587   \n",
       "3       1700.5         18.2          2.14        0.6  91.59266587   \n",
       "4       1700.5         18.2          2.14        0.6  91.59266587   \n",
       "...        ...          ...           ...        ...          ...   \n",
       "1529    1868.2          3.9          0.27        0.1  97.59964921   \n",
       "1530    1868.2          3.9          0.27        0.1  97.59964921   \n",
       "1531    1905.4          4.7           0.3       0.15  98.30774418   \n",
       "1532    1905.4          4.7           0.3       0.15  98.30774418   \n",
       "1533      1276          0.4          0.05       0.02  85.76115446   \n",
       "\n",
       "     PCT_WATER_TOT PCT_WATER_INLAND  \n",
       "0      8.407334131      5.478742983  \n",
       "1      8.407334131      5.478742983  \n",
       "2      8.407334131      5.478742983  \n",
       "3      8.407334131      5.478742983  \n",
       "4      8.407334131      5.478742983  \n",
       "...            ...              ...  \n",
       "1529   2.401765255      2.401765255  \n",
       "1530   2.401765255      2.401765255  \n",
       "1531   1.692255822      1.692255822  \n",
       "1532   1.692255822      1.692255822  \n",
       "1533   14.23884554      2.901181874  \n",
       "\n",
       "[1534 rows x 56 columns]"
      ]
     },
     "execution_count": 16,
     "metadata": {},
     "output_type": "execute_result"
    }
   ],
   "source": [
    "outages = pd.read_csv('data/outages.csv')\n",
    "outages.columns = ['index'] + list(outages.iloc[4].iloc[1:])\n",
    "outages = outages.iloc[6:]\n",
    "outages = outages.reset_index().drop(columns=['level_0', 'index'])\n",
    "outages"
   ]
  },
  {
   "cell_type": "markdown",
   "metadata": {},
   "source": [
    "## Step 2: Data Cleaning and Exploratory Data Analysis"
   ]
  },
  {
   "cell_type": "code",
   "execution_count": 18,
   "metadata": {},
   "outputs": [
    {
     "data": {
      "text/plain": [
       "np.int64(9)"
      ]
     },
     "execution_count": 18,
     "metadata": {},
     "output_type": "execute_result"
    }
   ],
   "source": [
    "outages['OUTAGE.START.TIME'].isna().sum()"
   ]
  },
  {
   "cell_type": "code",
   "execution_count": 71,
   "metadata": {
    "ExecuteTime": {
     "end_time": "2019-10-31T23:36:28.657068Z",
     "start_time": "2019-10-31T23:36:28.654650Z"
    }
   },
   "outputs": [
    {
     "name": "stderr",
     "output_type": "stream",
     "text": [
      "/var/folders/r6/j2xslqfj0lg0bxy1nj8b6fzm0000gn/T/ipykernel_18058/2550448153.py:5: SettingWithCopyWarning:\n",
      "\n",
      "\n",
      "A value is trying to be set on a copy of a slice from a DataFrame.\n",
      "Try using .loc[row_indexer,col_indexer] = value instead\n",
      "\n",
      "See the caveats in the documentation: https://pandas.pydata.org/pandas-docs/stable/user_guide/indexing.html#returning-a-view-versus-a-copy\n",
      "\n",
      "/var/folders/r6/j2xslqfj0lg0bxy1nj8b6fzm0000gn/T/ipykernel_18058/2550448153.py:7: SettingWithCopyWarning:\n",
      "\n",
      "\n",
      "A value is trying to be set on a copy of a slice from a DataFrame.\n",
      "Try using .loc[row_indexer,col_indexer] = value instead\n",
      "\n",
      "See the caveats in the documentation: https://pandas.pydata.org/pandas-docs/stable/user_guide/indexing.html#returning-a-view-versus-a-copy\n",
      "\n",
      "/var/folders/r6/j2xslqfj0lg0bxy1nj8b6fzm0000gn/T/ipykernel_18058/2550448153.py:8: SettingWithCopyWarning:\n",
      "\n",
      "\n",
      "A value is trying to be set on a copy of a slice from a DataFrame.\n",
      "Try using .loc[row_indexer,col_indexer] = value instead\n",
      "\n",
      "See the caveats in the documentation: https://pandas.pydata.org/pandas-docs/stable/user_guide/indexing.html#returning-a-view-versus-a-copy\n",
      "\n"
     ]
    },
    {
     "data": {
      "text/html": [
       "<div>\n",
       "<style scoped>\n",
       "    .dataframe tbody tr th:only-of-type {\n",
       "        vertical-align: middle;\n",
       "    }\n",
       "\n",
       "    .dataframe tbody tr th {\n",
       "        vertical-align: top;\n",
       "    }\n",
       "\n",
       "    .dataframe thead th {\n",
       "        text-align: right;\n",
       "    }\n",
       "</style>\n",
       "<table border=\"1\" class=\"dataframe\">\n",
       "  <thead>\n",
       "    <tr style=\"text-align: right;\">\n",
       "      <th></th>\n",
       "      <th>obs</th>\n",
       "      <th>year</th>\n",
       "      <th>month</th>\n",
       "      <th>postal_code</th>\n",
       "      <th>nerc_region</th>\n",
       "      <th>climate_region</th>\n",
       "      <th>anomaly_level</th>\n",
       "      <th>climate_category</th>\n",
       "      <th>cause_category</th>\n",
       "      <th>cause_category_detail</th>\n",
       "      <th>...</th>\n",
       "      <th>popden_urban</th>\n",
       "      <th>popden_uc</th>\n",
       "      <th>popden_rural</th>\n",
       "      <th>areapct_urban</th>\n",
       "      <th>areapct_uc</th>\n",
       "      <th>pct_land</th>\n",
       "      <th>pct_water_tot</th>\n",
       "      <th>pct_water_inland</th>\n",
       "      <th>exact_start_time</th>\n",
       "      <th>exact_restoration_time</th>\n",
       "    </tr>\n",
       "  </thead>\n",
       "  <tbody>\n",
       "    <tr>\n",
       "      <th>0</th>\n",
       "      <td>1</td>\n",
       "      <td>2011</td>\n",
       "      <td>7</td>\n",
       "      <td>MN</td>\n",
       "      <td>MRO</td>\n",
       "      <td>East North Central</td>\n",
       "      <td>-0.3</td>\n",
       "      <td>normal</td>\n",
       "      <td>severe weather</td>\n",
       "      <td>NaN</td>\n",
       "      <td>...</td>\n",
       "      <td>2279</td>\n",
       "      <td>1700.5</td>\n",
       "      <td>18.2</td>\n",
       "      <td>2.14</td>\n",
       "      <td>0.6</td>\n",
       "      <td>91.59266587</td>\n",
       "      <td>8.407334131</td>\n",
       "      <td>5.478742983</td>\n",
       "      <td>2011-07-01 17:00:00</td>\n",
       "      <td>2011-07-03 20:00:00</td>\n",
       "    </tr>\n",
       "    <tr>\n",
       "      <th>1</th>\n",
       "      <td>2</td>\n",
       "      <td>2014</td>\n",
       "      <td>5</td>\n",
       "      <td>MN</td>\n",
       "      <td>MRO</td>\n",
       "      <td>East North Central</td>\n",
       "      <td>-0.1</td>\n",
       "      <td>normal</td>\n",
       "      <td>intentional attack</td>\n",
       "      <td>vandalism</td>\n",
       "      <td>...</td>\n",
       "      <td>2279</td>\n",
       "      <td>1700.5</td>\n",
       "      <td>18.2</td>\n",
       "      <td>2.14</td>\n",
       "      <td>0.6</td>\n",
       "      <td>91.59266587</td>\n",
       "      <td>8.407334131</td>\n",
       "      <td>5.478742983</td>\n",
       "      <td>2014-05-11 18:38:00</td>\n",
       "      <td>2014-05-11 18:39:00</td>\n",
       "    </tr>\n",
       "    <tr>\n",
       "      <th>2</th>\n",
       "      <td>3</td>\n",
       "      <td>2010</td>\n",
       "      <td>10</td>\n",
       "      <td>MN</td>\n",
       "      <td>MRO</td>\n",
       "      <td>East North Central</td>\n",
       "      <td>-1.5</td>\n",
       "      <td>cold</td>\n",
       "      <td>severe weather</td>\n",
       "      <td>heavy wind</td>\n",
       "      <td>...</td>\n",
       "      <td>2279</td>\n",
       "      <td>1700.5</td>\n",
       "      <td>18.2</td>\n",
       "      <td>2.14</td>\n",
       "      <td>0.6</td>\n",
       "      <td>91.59266587</td>\n",
       "      <td>8.407334131</td>\n",
       "      <td>5.478742983</td>\n",
       "      <td>2010-10-26 20:00:00</td>\n",
       "      <td>2010-10-28 22:00:00</td>\n",
       "    </tr>\n",
       "    <tr>\n",
       "      <th>3</th>\n",
       "      <td>4</td>\n",
       "      <td>2012</td>\n",
       "      <td>6</td>\n",
       "      <td>MN</td>\n",
       "      <td>MRO</td>\n",
       "      <td>East North Central</td>\n",
       "      <td>-0.1</td>\n",
       "      <td>normal</td>\n",
       "      <td>severe weather</td>\n",
       "      <td>thunderstorm</td>\n",
       "      <td>...</td>\n",
       "      <td>2279</td>\n",
       "      <td>1700.5</td>\n",
       "      <td>18.2</td>\n",
       "      <td>2.14</td>\n",
       "      <td>0.6</td>\n",
       "      <td>91.59266587</td>\n",
       "      <td>8.407334131</td>\n",
       "      <td>5.478742983</td>\n",
       "      <td>2012-06-19 04:30:00</td>\n",
       "      <td>2012-06-20 23:00:00</td>\n",
       "    </tr>\n",
       "    <tr>\n",
       "      <th>4</th>\n",
       "      <td>5</td>\n",
       "      <td>2015</td>\n",
       "      <td>7</td>\n",
       "      <td>MN</td>\n",
       "      <td>MRO</td>\n",
       "      <td>East North Central</td>\n",
       "      <td>1.2</td>\n",
       "      <td>warm</td>\n",
       "      <td>severe weather</td>\n",
       "      <td>NaN</td>\n",
       "      <td>...</td>\n",
       "      <td>2279</td>\n",
       "      <td>1700.5</td>\n",
       "      <td>18.2</td>\n",
       "      <td>2.14</td>\n",
       "      <td>0.6</td>\n",
       "      <td>91.59266587</td>\n",
       "      <td>8.407334131</td>\n",
       "      <td>5.478742983</td>\n",
       "      <td>2015-07-18 02:00:00</td>\n",
       "      <td>2015-07-19 07:00:00</td>\n",
       "    </tr>\n",
       "    <tr>\n",
       "      <th>...</th>\n",
       "      <td>...</td>\n",
       "      <td>...</td>\n",
       "      <td>...</td>\n",
       "      <td>...</td>\n",
       "      <td>...</td>\n",
       "      <td>...</td>\n",
       "      <td>...</td>\n",
       "      <td>...</td>\n",
       "      <td>...</td>\n",
       "      <td>...</td>\n",
       "      <td>...</td>\n",
       "      <td>...</td>\n",
       "      <td>...</td>\n",
       "      <td>...</td>\n",
       "      <td>...</td>\n",
       "      <td>...</td>\n",
       "      <td>...</td>\n",
       "      <td>...</td>\n",
       "      <td>...</td>\n",
       "      <td>...</td>\n",
       "      <td>...</td>\n",
       "    </tr>\n",
       "    <tr>\n",
       "      <th>1526</th>\n",
       "      <td>1527</td>\n",
       "      <td>2016</td>\n",
       "      <td>3</td>\n",
       "      <td>ID</td>\n",
       "      <td>WECC</td>\n",
       "      <td>Northwest</td>\n",
       "      <td>1.6</td>\n",
       "      <td>warm</td>\n",
       "      <td>intentional attack</td>\n",
       "      <td>sabotage</td>\n",
       "      <td>...</td>\n",
       "      <td>2216.8</td>\n",
       "      <td>2004.7</td>\n",
       "      <td>5.6</td>\n",
       "      <td>0.6</td>\n",
       "      <td>0.19</td>\n",
       "      <td>98.89193361</td>\n",
       "      <td>1.108066388</td>\n",
       "      <td>1.108066388</td>\n",
       "      <td>2016-03-08 00:00:00</td>\n",
       "      <td>2016-03-08 00:00:00</td>\n",
       "    </tr>\n",
       "    <tr>\n",
       "      <th>1528</th>\n",
       "      <td>1529</td>\n",
       "      <td>2016</td>\n",
       "      <td>7</td>\n",
       "      <td>ID</td>\n",
       "      <td>WECC</td>\n",
       "      <td>Northwest</td>\n",
       "      <td>-0.3</td>\n",
       "      <td>normal</td>\n",
       "      <td>system operability disruption</td>\n",
       "      <td>uncontrolled loss</td>\n",
       "      <td>...</td>\n",
       "      <td>2216.8</td>\n",
       "      <td>2004.7</td>\n",
       "      <td>5.6</td>\n",
       "      <td>0.6</td>\n",
       "      <td>0.19</td>\n",
       "      <td>98.89193361</td>\n",
       "      <td>1.108066388</td>\n",
       "      <td>1.108066388</td>\n",
       "      <td>2016-07-19 15:45:00</td>\n",
       "      <td>2016-07-19 19:25:00</td>\n",
       "    </tr>\n",
       "    <tr>\n",
       "      <th>1529</th>\n",
       "      <td>1530</td>\n",
       "      <td>2011</td>\n",
       "      <td>12</td>\n",
       "      <td>ND</td>\n",
       "      <td>MRO</td>\n",
       "      <td>West North Central</td>\n",
       "      <td>-0.9</td>\n",
       "      <td>cold</td>\n",
       "      <td>public appeal</td>\n",
       "      <td>NaN</td>\n",
       "      <td>...</td>\n",
       "      <td>2192.2</td>\n",
       "      <td>1868.2</td>\n",
       "      <td>3.9</td>\n",
       "      <td>0.27</td>\n",
       "      <td>0.1</td>\n",
       "      <td>97.59964921</td>\n",
       "      <td>2.401765255</td>\n",
       "      <td>2.401765255</td>\n",
       "      <td>2011-12-06 08:00:00</td>\n",
       "      <td>2011-12-06 20:00:00</td>\n",
       "    </tr>\n",
       "    <tr>\n",
       "      <th>1531</th>\n",
       "      <td>1532</td>\n",
       "      <td>2009</td>\n",
       "      <td>8</td>\n",
       "      <td>SD</td>\n",
       "      <td>RFC</td>\n",
       "      <td>West North Central</td>\n",
       "      <td>0.5</td>\n",
       "      <td>warm</td>\n",
       "      <td>islanding</td>\n",
       "      <td>NaN</td>\n",
       "      <td>...</td>\n",
       "      <td>2038.3</td>\n",
       "      <td>1905.4</td>\n",
       "      <td>4.7</td>\n",
       "      <td>0.3</td>\n",
       "      <td>0.15</td>\n",
       "      <td>98.30774418</td>\n",
       "      <td>1.692255822</td>\n",
       "      <td>1.692255822</td>\n",
       "      <td>2009-08-29 22:54:00</td>\n",
       "      <td>2009-08-29 23:53:00</td>\n",
       "    </tr>\n",
       "    <tr>\n",
       "      <th>1532</th>\n",
       "      <td>1533</td>\n",
       "      <td>2009</td>\n",
       "      <td>8</td>\n",
       "      <td>SD</td>\n",
       "      <td>MRO</td>\n",
       "      <td>West North Central</td>\n",
       "      <td>0.5</td>\n",
       "      <td>warm</td>\n",
       "      <td>islanding</td>\n",
       "      <td>NaN</td>\n",
       "      <td>...</td>\n",
       "      <td>2038.3</td>\n",
       "      <td>1905.4</td>\n",
       "      <td>4.7</td>\n",
       "      <td>0.3</td>\n",
       "      <td>0.15</td>\n",
       "      <td>98.30774418</td>\n",
       "      <td>1.692255822</td>\n",
       "      <td>1.692255822</td>\n",
       "      <td>2009-08-29 11:00:00</td>\n",
       "      <td>2009-08-29 14:01:00</td>\n",
       "    </tr>\n",
       "  </tbody>\n",
       "</table>\n",
       "<p>1476 rows × 53 columns</p>\n",
       "</div>"
      ],
      "text/plain": [
       "       obs  year  month postal_code nerc_region      climate_region  \\\n",
       "0        1  2011      7          MN         MRO  East North Central   \n",
       "1        2  2014      5          MN         MRO  East North Central   \n",
       "2        3  2010     10          MN         MRO  East North Central   \n",
       "3        4  2012      6          MN         MRO  East North Central   \n",
       "4        5  2015      7          MN         MRO  East North Central   \n",
       "...    ...   ...    ...         ...         ...                 ...   \n",
       "1526  1527  2016      3          ID        WECC           Northwest   \n",
       "1528  1529  2016      7          ID        WECC           Northwest   \n",
       "1529  1530  2011     12          ND         MRO  West North Central   \n",
       "1531  1532  2009      8          SD         RFC  West North Central   \n",
       "1532  1533  2009      8          SD         MRO  West North Central   \n",
       "\n",
       "     anomaly_level climate_category                 cause_category  \\\n",
       "0             -0.3           normal                 severe weather   \n",
       "1             -0.1           normal             intentional attack   \n",
       "2             -1.5             cold                 severe weather   \n",
       "3             -0.1           normal                 severe weather   \n",
       "4              1.2             warm                 severe weather   \n",
       "...            ...              ...                            ...   \n",
       "1526           1.6             warm             intentional attack   \n",
       "1528          -0.3           normal  system operability disruption   \n",
       "1529          -0.9             cold                  public appeal   \n",
       "1531           0.5             warm                      islanding   \n",
       "1532           0.5             warm                      islanding   \n",
       "\n",
       "     cause_category_detail  ... popden_urban  popden_uc popden_rural  \\\n",
       "0                      NaN  ...         2279     1700.5         18.2   \n",
       "1                vandalism  ...         2279     1700.5         18.2   \n",
       "2               heavy wind  ...         2279     1700.5         18.2   \n",
       "3             thunderstorm  ...         2279     1700.5         18.2   \n",
       "4                      NaN  ...         2279     1700.5         18.2   \n",
       "...                    ...  ...          ...        ...          ...   \n",
       "1526              sabotage  ...       2216.8     2004.7          5.6   \n",
       "1528     uncontrolled loss  ...       2216.8     2004.7          5.6   \n",
       "1529                   NaN  ...       2192.2     1868.2          3.9   \n",
       "1531                   NaN  ...       2038.3     1905.4          4.7   \n",
       "1532                   NaN  ...       2038.3     1905.4          4.7   \n",
       "\n",
       "     areapct_urban areapct_uc     pct_land pct_water_tot pct_water_inland  \\\n",
       "0             2.14        0.6  91.59266587   8.407334131      5.478742983   \n",
       "1             2.14        0.6  91.59266587   8.407334131      5.478742983   \n",
       "2             2.14        0.6  91.59266587   8.407334131      5.478742983   \n",
       "3             2.14        0.6  91.59266587   8.407334131      5.478742983   \n",
       "4             2.14        0.6  91.59266587   8.407334131      5.478742983   \n",
       "...            ...        ...          ...           ...              ...   \n",
       "1526           0.6       0.19  98.89193361   1.108066388      1.108066388   \n",
       "1528           0.6       0.19  98.89193361   1.108066388      1.108066388   \n",
       "1529          0.27        0.1  97.59964921   2.401765255      2.401765255   \n",
       "1531           0.3       0.15  98.30774418   1.692255822      1.692255822   \n",
       "1532           0.3       0.15  98.30774418   1.692255822      1.692255822   \n",
       "\n",
       "        exact_start_time exact_restoration_time  \n",
       "0    2011-07-01 17:00:00    2011-07-03 20:00:00  \n",
       "1    2014-05-11 18:38:00    2014-05-11 18:39:00  \n",
       "2    2010-10-26 20:00:00    2010-10-28 22:00:00  \n",
       "3    2012-06-19 04:30:00    2012-06-20 23:00:00  \n",
       "4    2015-07-18 02:00:00    2015-07-19 07:00:00  \n",
       "...                  ...                    ...  \n",
       "1526 2016-03-08 00:00:00    2016-03-08 00:00:00  \n",
       "1528 2016-07-19 15:45:00    2016-07-19 19:25:00  \n",
       "1529 2011-12-06 08:00:00    2011-12-06 20:00:00  \n",
       "1531 2009-08-29 22:54:00    2009-08-29 23:53:00  \n",
       "1532 2009-08-29 11:00:00    2009-08-29 14:01:00  \n",
       "\n",
       "[1476 rows x 53 columns]"
      ]
     },
     "execution_count": 71,
     "metadata": {},
     "output_type": "execute_result"
    }
   ],
   "source": [
    "# clean start and restoration dates. Drop missing values because there aren't many\n",
    "# turn into pandas date time\n",
    "def clean_time(df):\n",
    "    df = df.dropna(subset = ['OUTAGE.START.DATE'])\n",
    "    df['OUTAGE.START.DATE'] = df['OUTAGE.START.DATE'].transform(lambda x: x.split(', ')[1:])\n",
    "    date_series = df['OUTAGE.START.DATE'].transform(lambda x: x[0] + ', ' + x[1])\n",
    "    df['exact_start_time'] = date_series + ' ' + df['OUTAGE.START.TIME']\n",
    "    df['exact_start_time'] = pd.to_datetime(df['exact_start_time'], format=\"%B %d, %Y %I:%M:%S %p\")\n",
    "\n",
    "    df = df.dropna(subset = ['OUTAGE.RESTORATION.DATE'])\n",
    "    df['OUTAGE.RESTORATION.DATE'] = df['OUTAGE.RESTORATION.DATE'].transform(lambda x: x.split(', ')[1:])\n",
    "    date_series = df['OUTAGE.RESTORATION.DATE'].transform(lambda x: x[0] + ', ' + x[1])\n",
    "    df['exact_restoration_time'] = date_series + ' '+ df['OUTAGE.RESTORATION.TIME']\n",
    "    df['exact_restoration_time'] = pd.to_datetime(df['exact_restoration_time'], format=\"%B %d, %Y %I:%M:%S %p\")\n",
    "    \n",
    "    df = df.drop(columns=['OUTAGE.RESTORATION.DATE', 'OUTAGE.START.DATE', 'OUTAGE.START.TIME',\n",
    "                          'OUTAGE.RESTORATION.TIME'])\n",
    "    return df\n",
    "\n",
    "# change the columns so they are lower cased and use _ instead of .\n",
    "def clean_columns(df):\n",
    "    columns_clean = pd.Series(df.columns).str.replace('.', '_').str.lower()\n",
    "    df.columns = columns_clean\n",
    "    return df\n",
    "\n",
    "# turn these variables into ints\n",
    "def clean_month_and_duration(df):\n",
    "    df['month'] = df['month'].astype(int)\n",
    "    df['outage_duration'] =  df['outage_duration'].astype(int)\n",
    "    return df\n",
    "\n",
    "outages_cleaned = (outages\n",
    "                   .pipe(clean_time)\n",
    "                   .pipe(clean_columns)\n",
    "                   .pipe(clean_month_and_duration)\n",
    ")\n",
    "outages_cleaned = outages_cleaned.drop(columns=['u_s__state'])\n",
    "outages_cleaned"
   ]
  },
  {
   "cell_type": "code",
   "execution_count": 72,
   "metadata": {},
   "outputs": [
    {
     "data": {
      "application/vnd.plotly.v1+json": {
       "config": {
        "plotlyServerURL": "https://plot.ly"
       },
       "data": [
        {
         "alignmentgroup": "True",
         "bingroup": "x",
         "hovertemplate": "month=%{x}<br>count=%{y}<extra></extra>",
         "legendgroup": "",
         "marker": {
          "color": "#636efa",
          "line": {
           "color": "white",
           "width": 1.5
          },
          "pattern": {
           "shape": ""
          }
         },
         "name": "",
         "offsetgroup": "",
         "orientation": "v",
         "showlegend": false,
         "type": "histogram",
         "x": [
          1,
          1,
          1,
          1,
          1,
          1,
          1,
          1,
          1,
          1,
          1,
          1,
          1,
          1,
          1,
          1,
          1,
          1,
          1,
          1,
          1,
          1,
          1,
          1,
          1,
          1,
          1,
          1,
          1,
          1,
          1,
          1,
          1,
          1,
          1,
          1,
          1,
          1,
          1,
          1,
          1,
          1,
          1,
          1,
          1,
          1,
          1,
          1,
          1,
          1,
          1,
          1,
          1,
          1,
          1,
          1,
          1,
          1,
          1,
          1,
          1,
          1,
          1,
          1,
          1,
          1,
          1,
          1,
          1,
          1,
          1,
          1,
          1,
          1,
          1,
          1,
          1,
          1,
          1,
          1,
          1,
          1,
          1,
          1,
          1,
          1,
          1,
          1,
          1,
          1,
          1,
          1,
          1,
          1,
          1,
          1,
          1,
          1,
          1,
          1,
          1,
          1,
          1,
          1,
          1,
          1,
          1,
          1,
          1,
          1,
          1,
          1,
          1,
          1,
          1,
          1,
          1,
          1,
          1,
          1,
          1,
          1,
          1,
          1,
          1,
          1,
          1,
          1,
          1,
          1,
          1,
          1,
          1,
          2,
          2,
          2,
          2,
          2,
          2,
          2,
          2,
          2,
          2,
          2,
          2,
          2,
          2,
          2,
          2,
          2,
          2,
          2,
          2,
          2,
          2,
          2,
          2,
          2,
          2,
          2,
          2,
          2,
          2,
          2,
          2,
          2,
          2,
          2,
          2,
          2,
          2,
          2,
          2,
          2,
          2,
          2,
          2,
          2,
          2,
          2,
          2,
          2,
          2,
          2,
          2,
          2,
          2,
          2,
          2,
          2,
          2,
          2,
          2,
          2,
          2,
          2,
          2,
          2,
          2,
          2,
          2,
          2,
          2,
          2,
          2,
          2,
          2,
          2,
          2,
          2,
          2,
          2,
          2,
          2,
          2,
          2,
          2,
          2,
          2,
          2,
          2,
          2,
          2,
          2,
          2,
          2,
          2,
          2,
          2,
          2,
          2,
          2,
          2,
          2,
          2,
          2,
          2,
          2,
          2,
          2,
          2,
          2,
          2,
          2,
          2,
          2,
          2,
          2,
          2,
          2,
          2,
          2,
          2,
          2,
          2,
          2,
          2,
          2,
          2,
          2,
          2,
          2,
          2,
          2,
          2,
          3,
          3,
          3,
          3,
          3,
          3,
          3,
          3,
          3,
          3,
          3,
          3,
          3,
          3,
          3,
          3,
          3,
          3,
          3,
          3,
          3,
          3,
          3,
          3,
          3,
          3,
          3,
          3,
          3,
          3,
          3,
          3,
          3,
          3,
          3,
          3,
          3,
          3,
          3,
          3,
          3,
          3,
          3,
          3,
          3,
          3,
          3,
          3,
          3,
          3,
          3,
          3,
          3,
          3,
          3,
          3,
          3,
          3,
          3,
          3,
          3,
          3,
          3,
          3,
          3,
          3,
          3,
          3,
          3,
          3,
          3,
          3,
          3,
          3,
          3,
          3,
          3,
          3,
          3,
          3,
          3,
          3,
          3,
          3,
          3,
          3,
          3,
          3,
          3,
          3,
          3,
          3,
          3,
          3,
          4,
          4,
          4,
          4,
          4,
          4,
          4,
          4,
          4,
          4,
          4,
          4,
          4,
          4,
          4,
          4,
          4,
          4,
          4,
          4,
          4,
          4,
          4,
          4,
          4,
          4,
          4,
          4,
          4,
          4,
          4,
          4,
          4,
          4,
          4,
          4,
          4,
          4,
          4,
          4,
          4,
          4,
          4,
          4,
          4,
          4,
          4,
          4,
          4,
          4,
          4,
          4,
          4,
          4,
          4,
          4,
          4,
          4,
          4,
          4,
          4,
          4,
          4,
          4,
          4,
          4,
          4,
          4,
          4,
          4,
          4,
          4,
          4,
          4,
          4,
          4,
          4,
          4,
          4,
          4,
          4,
          4,
          4,
          4,
          4,
          4,
          4,
          4,
          4,
          4,
          4,
          4,
          4,
          4,
          4,
          4,
          4,
          4,
          4,
          4,
          4,
          4,
          4,
          4,
          4,
          4,
          4,
          5,
          5,
          5,
          5,
          5,
          5,
          5,
          5,
          5,
          5,
          5,
          5,
          5,
          5,
          5,
          5,
          5,
          5,
          5,
          5,
          5,
          5,
          5,
          5,
          5,
          5,
          5,
          5,
          5,
          5,
          5,
          5,
          5,
          5,
          5,
          5,
          5,
          5,
          5,
          5,
          5,
          5,
          5,
          5,
          5,
          5,
          5,
          5,
          5,
          5,
          5,
          5,
          5,
          5,
          5,
          5,
          5,
          5,
          5,
          5,
          5,
          5,
          5,
          5,
          5,
          5,
          5,
          5,
          5,
          5,
          5,
          5,
          5,
          5,
          5,
          5,
          5,
          5,
          5,
          5,
          5,
          5,
          5,
          5,
          5,
          5,
          5,
          5,
          5,
          5,
          5,
          5,
          5,
          5,
          5,
          5,
          5,
          5,
          5,
          5,
          5,
          5,
          5,
          5,
          5,
          5,
          5,
          5,
          5,
          5,
          5,
          5,
          5,
          5,
          5,
          5,
          5,
          5,
          5,
          6,
          6,
          6,
          6,
          6,
          6,
          6,
          6,
          6,
          6,
          6,
          6,
          6,
          6,
          6,
          6,
          6,
          6,
          6,
          6,
          6,
          6,
          6,
          6,
          6,
          6,
          6,
          6,
          6,
          6,
          6,
          6,
          6,
          6,
          6,
          6,
          6,
          6,
          6,
          6,
          6,
          6,
          6,
          6,
          6,
          6,
          6,
          6,
          6,
          6,
          6,
          6,
          6,
          6,
          6,
          6,
          6,
          6,
          6,
          6,
          6,
          6,
          6,
          6,
          6,
          6,
          6,
          6,
          6,
          6,
          6,
          6,
          6,
          6,
          6,
          6,
          6,
          6,
          6,
          6,
          6,
          6,
          6,
          6,
          6,
          6,
          6,
          6,
          6,
          6,
          6,
          6,
          6,
          6,
          6,
          6,
          6,
          6,
          6,
          6,
          6,
          6,
          6,
          6,
          6,
          6,
          6,
          6,
          6,
          6,
          6,
          6,
          6,
          6,
          6,
          6,
          6,
          6,
          6,
          6,
          6,
          6,
          6,
          6,
          6,
          6,
          6,
          6,
          6,
          6,
          6,
          6,
          6,
          6,
          6,
          6,
          6,
          6,
          6,
          6,
          6,
          6,
          6,
          6,
          6,
          6,
          6,
          6,
          6,
          6,
          6,
          6,
          6,
          6,
          6,
          6,
          6,
          6,
          6,
          6,
          6,
          6,
          6,
          6,
          6,
          6,
          6,
          6,
          6,
          6,
          6,
          6,
          6,
          6,
          6,
          6,
          6,
          6,
          6,
          6,
          6,
          6,
          6,
          6,
          6,
          6,
          7,
          7,
          7,
          7,
          7,
          7,
          7,
          7,
          7,
          7,
          7,
          7,
          7,
          7,
          7,
          7,
          7,
          7,
          7,
          7,
          7,
          7,
          7,
          7,
          7,
          7,
          7,
          7,
          7,
          7,
          7,
          7,
          7,
          7,
          7,
          7,
          7,
          7,
          7,
          7,
          7,
          7,
          7,
          7,
          7,
          7,
          7,
          7,
          7,
          7,
          7,
          7,
          7,
          7,
          7,
          7,
          7,
          7,
          7,
          7,
          7,
          7,
          7,
          7,
          7,
          7,
          7,
          7,
          7,
          7,
          7,
          7,
          7,
          7,
          7,
          7,
          7,
          7,
          7,
          7,
          7,
          7,
          7,
          7,
          7,
          7,
          7,
          7,
          7,
          7,
          7,
          7,
          7,
          7,
          7,
          7,
          7,
          7,
          7,
          7,
          7,
          7,
          7,
          7,
          7,
          7,
          7,
          7,
          7,
          7,
          7,
          7,
          7,
          7,
          7,
          7,
          7,
          7,
          7,
          7,
          7,
          7,
          7,
          7,
          7,
          7,
          7,
          7,
          7,
          7,
          7,
          7,
          7,
          7,
          7,
          7,
          7,
          7,
          7,
          7,
          7,
          7,
          7,
          7,
          7,
          7,
          7,
          7,
          7,
          7,
          7,
          7,
          7,
          7,
          7,
          7,
          7,
          7,
          7,
          7,
          7,
          7,
          7,
          7,
          7,
          7,
          7,
          7,
          7,
          7,
          7,
          7,
          7,
          7,
          7,
          7,
          7,
          8,
          8,
          8,
          8,
          8,
          8,
          8,
          8,
          8,
          8,
          8,
          8,
          8,
          8,
          8,
          8,
          8,
          8,
          8,
          8,
          8,
          8,
          8,
          8,
          8,
          8,
          8,
          8,
          8,
          8,
          8,
          8,
          8,
          8,
          8,
          8,
          8,
          8,
          8,
          8,
          8,
          8,
          8,
          8,
          8,
          8,
          8,
          8,
          8,
          8,
          8,
          8,
          8,
          8,
          8,
          8,
          8,
          8,
          8,
          8,
          8,
          8,
          8,
          8,
          8,
          8,
          8,
          8,
          8,
          8,
          8,
          8,
          8,
          8,
          8,
          8,
          8,
          8,
          8,
          8,
          8,
          8,
          8,
          8,
          8,
          8,
          8,
          8,
          8,
          8,
          8,
          8,
          8,
          8,
          8,
          8,
          8,
          8,
          8,
          8,
          8,
          8,
          8,
          8,
          8,
          8,
          8,
          8,
          8,
          8,
          8,
          8,
          8,
          8,
          8,
          8,
          8,
          8,
          8,
          8,
          8,
          8,
          8,
          8,
          8,
          8,
          8,
          8,
          8,
          8,
          8,
          8,
          8,
          8,
          8,
          8,
          8,
          8,
          8,
          8,
          8,
          8,
          8,
          8,
          8,
          8,
          8,
          8,
          8,
          8,
          8,
          9,
          9,
          9,
          9,
          9,
          9,
          9,
          9,
          9,
          9,
          9,
          9,
          9,
          9,
          9,
          9,
          9,
          9,
          9,
          9,
          9,
          9,
          9,
          9,
          9,
          9,
          9,
          9,
          9,
          9,
          9,
          9,
          9,
          9,
          9,
          9,
          9,
          9,
          9,
          9,
          9,
          9,
          9,
          9,
          9,
          9,
          9,
          9,
          9,
          9,
          9,
          9,
          9,
          9,
          9,
          9,
          9,
          9,
          9,
          9,
          9,
          9,
          9,
          9,
          9,
          9,
          9,
          9,
          9,
          9,
          9,
          9,
          9,
          9,
          9,
          9,
          9,
          9,
          9,
          9,
          9,
          9,
          9,
          9,
          9,
          9,
          9,
          9,
          9,
          9,
          9,
          9,
          10,
          10,
          10,
          10,
          10,
          10,
          10,
          10,
          10,
          10,
          10,
          10,
          10,
          10,
          10,
          10,
          10,
          10,
          10,
          10,
          10,
          10,
          10,
          10,
          10,
          10,
          10,
          10,
          10,
          10,
          10,
          10,
          10,
          10,
          10,
          10,
          10,
          10,
          10,
          10,
          10,
          10,
          10,
          10,
          10,
          10,
          10,
          10,
          10,
          10,
          10,
          10,
          10,
          10,
          10,
          10,
          10,
          10,
          10,
          10,
          10,
          10,
          10,
          10,
          10,
          10,
          10,
          10,
          10,
          10,
          10,
          10,
          10,
          10,
          10,
          10,
          10,
          10,
          10,
          10,
          10,
          10,
          10,
          10,
          10,
          10,
          10,
          10,
          10,
          10,
          10,
          10,
          10,
          10,
          10,
          10,
          10,
          10,
          10,
          10,
          10,
          10,
          10,
          10,
          10,
          10,
          10,
          10,
          11,
          11,
          11,
          11,
          11,
          11,
          11,
          11,
          11,
          11,
          11,
          11,
          11,
          11,
          11,
          11,
          11,
          11,
          11,
          11,
          11,
          11,
          11,
          11,
          11,
          11,
          11,
          11,
          11,
          11,
          11,
          11,
          11,
          11,
          11,
          11,
          11,
          11,
          11,
          11,
          11,
          11,
          11,
          11,
          11,
          11,
          11,
          11,
          11,
          11,
          11,
          11,
          11,
          11,
          11,
          11,
          11,
          11,
          11,
          11,
          11,
          11,
          11,
          11,
          11,
          11,
          11,
          11,
          11,
          12,
          12,
          12,
          12,
          12,
          12,
          12,
          12,
          12,
          12,
          12,
          12,
          12,
          12,
          12,
          12,
          12,
          12,
          12,
          12,
          12,
          12,
          12,
          12,
          12,
          12,
          12,
          12,
          12,
          12,
          12,
          12,
          12,
          12,
          12,
          12,
          12,
          12,
          12,
          12,
          12,
          12,
          12,
          12,
          12,
          12,
          12,
          12,
          12,
          12,
          12,
          12,
          12,
          12,
          12,
          12,
          12,
          12,
          12,
          12,
          12,
          12,
          12,
          12,
          12,
          12,
          12,
          12,
          12,
          12,
          12,
          12,
          12,
          12,
          12,
          12,
          12,
          12,
          12,
          12,
          12,
          12,
          12,
          12,
          12,
          12,
          12,
          12,
          12,
          12,
          12,
          12,
          12,
          12,
          12,
          12,
          12,
          12,
          12,
          12,
          12,
          12,
          12,
          12,
          12,
          12,
          12,
          12
         ],
         "xaxis": "x",
         "yaxis": "y"
        }
       ],
       "layout": {
        "barmode": "relative",
        "legend": {
         "tracegroupgap": 0
        },
        "margin": {
         "t": 60
        },
        "template": {
         "data": {
          "bar": [
           {
            "error_x": {
             "color": "#2a3f5f"
            },
            "error_y": {
             "color": "#2a3f5f"
            },
            "marker": {
             "line": {
              "color": "#E5ECF6",
              "width": 0.5
             },
             "pattern": {
              "fillmode": "overlay",
              "size": 10,
              "solidity": 0.2
             }
            },
            "type": "bar"
           }
          ],
          "barpolar": [
           {
            "marker": {
             "line": {
              "color": "#E5ECF6",
              "width": 0.5
             },
             "pattern": {
              "fillmode": "overlay",
              "size": 10,
              "solidity": 0.2
             }
            },
            "type": "barpolar"
           }
          ],
          "carpet": [
           {
            "aaxis": {
             "endlinecolor": "#2a3f5f",
             "gridcolor": "white",
             "linecolor": "white",
             "minorgridcolor": "white",
             "startlinecolor": "#2a3f5f"
            },
            "baxis": {
             "endlinecolor": "#2a3f5f",
             "gridcolor": "white",
             "linecolor": "white",
             "minorgridcolor": "white",
             "startlinecolor": "#2a3f5f"
            },
            "type": "carpet"
           }
          ],
          "choropleth": [
           {
            "colorbar": {
             "outlinewidth": 0,
             "ticks": ""
            },
            "type": "choropleth"
           }
          ],
          "contour": [
           {
            "colorbar": {
             "outlinewidth": 0,
             "ticks": ""
            },
            "colorscale": [
             [
              0,
              "#0d0887"
             ],
             [
              0.1111111111111111,
              "#46039f"
             ],
             [
              0.2222222222222222,
              "#7201a8"
             ],
             [
              0.3333333333333333,
              "#9c179e"
             ],
             [
              0.4444444444444444,
              "#bd3786"
             ],
             [
              0.5555555555555556,
              "#d8576b"
             ],
             [
              0.6666666666666666,
              "#ed7953"
             ],
             [
              0.7777777777777778,
              "#fb9f3a"
             ],
             [
              0.8888888888888888,
              "#fdca26"
             ],
             [
              1,
              "#f0f921"
             ]
            ],
            "type": "contour"
           }
          ],
          "contourcarpet": [
           {
            "colorbar": {
             "outlinewidth": 0,
             "ticks": ""
            },
            "type": "contourcarpet"
           }
          ],
          "heatmap": [
           {
            "colorbar": {
             "outlinewidth": 0,
             "ticks": ""
            },
            "colorscale": [
             [
              0,
              "#0d0887"
             ],
             [
              0.1111111111111111,
              "#46039f"
             ],
             [
              0.2222222222222222,
              "#7201a8"
             ],
             [
              0.3333333333333333,
              "#9c179e"
             ],
             [
              0.4444444444444444,
              "#bd3786"
             ],
             [
              0.5555555555555556,
              "#d8576b"
             ],
             [
              0.6666666666666666,
              "#ed7953"
             ],
             [
              0.7777777777777778,
              "#fb9f3a"
             ],
             [
              0.8888888888888888,
              "#fdca26"
             ],
             [
              1,
              "#f0f921"
             ]
            ],
            "type": "heatmap"
           }
          ],
          "heatmapgl": [
           {
            "colorbar": {
             "outlinewidth": 0,
             "ticks": ""
            },
            "colorscale": [
             [
              0,
              "#0d0887"
             ],
             [
              0.1111111111111111,
              "#46039f"
             ],
             [
              0.2222222222222222,
              "#7201a8"
             ],
             [
              0.3333333333333333,
              "#9c179e"
             ],
             [
              0.4444444444444444,
              "#bd3786"
             ],
             [
              0.5555555555555556,
              "#d8576b"
             ],
             [
              0.6666666666666666,
              "#ed7953"
             ],
             [
              0.7777777777777778,
              "#fb9f3a"
             ],
             [
              0.8888888888888888,
              "#fdca26"
             ],
             [
              1,
              "#f0f921"
             ]
            ],
            "type": "heatmapgl"
           }
          ],
          "histogram": [
           {
            "marker": {
             "pattern": {
              "fillmode": "overlay",
              "size": 10,
              "solidity": 0.2
             }
            },
            "type": "histogram"
           }
          ],
          "histogram2d": [
           {
            "colorbar": {
             "outlinewidth": 0,
             "ticks": ""
            },
            "colorscale": [
             [
              0,
              "#0d0887"
             ],
             [
              0.1111111111111111,
              "#46039f"
             ],
             [
              0.2222222222222222,
              "#7201a8"
             ],
             [
              0.3333333333333333,
              "#9c179e"
             ],
             [
              0.4444444444444444,
              "#bd3786"
             ],
             [
              0.5555555555555556,
              "#d8576b"
             ],
             [
              0.6666666666666666,
              "#ed7953"
             ],
             [
              0.7777777777777778,
              "#fb9f3a"
             ],
             [
              0.8888888888888888,
              "#fdca26"
             ],
             [
              1,
              "#f0f921"
             ]
            ],
            "type": "histogram2d"
           }
          ],
          "histogram2dcontour": [
           {
            "colorbar": {
             "outlinewidth": 0,
             "ticks": ""
            },
            "colorscale": [
             [
              0,
              "#0d0887"
             ],
             [
              0.1111111111111111,
              "#46039f"
             ],
             [
              0.2222222222222222,
              "#7201a8"
             ],
             [
              0.3333333333333333,
              "#9c179e"
             ],
             [
              0.4444444444444444,
              "#bd3786"
             ],
             [
              0.5555555555555556,
              "#d8576b"
             ],
             [
              0.6666666666666666,
              "#ed7953"
             ],
             [
              0.7777777777777778,
              "#fb9f3a"
             ],
             [
              0.8888888888888888,
              "#fdca26"
             ],
             [
              1,
              "#f0f921"
             ]
            ],
            "type": "histogram2dcontour"
           }
          ],
          "mesh3d": [
           {
            "colorbar": {
             "outlinewidth": 0,
             "ticks": ""
            },
            "type": "mesh3d"
           }
          ],
          "parcoords": [
           {
            "line": {
             "colorbar": {
              "outlinewidth": 0,
              "ticks": ""
             }
            },
            "type": "parcoords"
           }
          ],
          "pie": [
           {
            "automargin": true,
            "type": "pie"
           }
          ],
          "scatter": [
           {
            "fillpattern": {
             "fillmode": "overlay",
             "size": 10,
             "solidity": 0.2
            },
            "type": "scatter"
           }
          ],
          "scatter3d": [
           {
            "line": {
             "colorbar": {
              "outlinewidth": 0,
              "ticks": ""
             }
            },
            "marker": {
             "colorbar": {
              "outlinewidth": 0,
              "ticks": ""
             }
            },
            "type": "scatter3d"
           }
          ],
          "scattercarpet": [
           {
            "marker": {
             "colorbar": {
              "outlinewidth": 0,
              "ticks": ""
             }
            },
            "type": "scattercarpet"
           }
          ],
          "scattergeo": [
           {
            "marker": {
             "colorbar": {
              "outlinewidth": 0,
              "ticks": ""
             }
            },
            "type": "scattergeo"
           }
          ],
          "scattergl": [
           {
            "marker": {
             "colorbar": {
              "outlinewidth": 0,
              "ticks": ""
             }
            },
            "type": "scattergl"
           }
          ],
          "scattermapbox": [
           {
            "marker": {
             "colorbar": {
              "outlinewidth": 0,
              "ticks": ""
             }
            },
            "type": "scattermapbox"
           }
          ],
          "scatterpolar": [
           {
            "marker": {
             "colorbar": {
              "outlinewidth": 0,
              "ticks": ""
             }
            },
            "type": "scatterpolar"
           }
          ],
          "scatterpolargl": [
           {
            "marker": {
             "colorbar": {
              "outlinewidth": 0,
              "ticks": ""
             }
            },
            "type": "scatterpolargl"
           }
          ],
          "scatterternary": [
           {
            "marker": {
             "colorbar": {
              "outlinewidth": 0,
              "ticks": ""
             }
            },
            "type": "scatterternary"
           }
          ],
          "surface": [
           {
            "colorbar": {
             "outlinewidth": 0,
             "ticks": ""
            },
            "colorscale": [
             [
              0,
              "#0d0887"
             ],
             [
              0.1111111111111111,
              "#46039f"
             ],
             [
              0.2222222222222222,
              "#7201a8"
             ],
             [
              0.3333333333333333,
              "#9c179e"
             ],
             [
              0.4444444444444444,
              "#bd3786"
             ],
             [
              0.5555555555555556,
              "#d8576b"
             ],
             [
              0.6666666666666666,
              "#ed7953"
             ],
             [
              0.7777777777777778,
              "#fb9f3a"
             ],
             [
              0.8888888888888888,
              "#fdca26"
             ],
             [
              1,
              "#f0f921"
             ]
            ],
            "type": "surface"
           }
          ],
          "table": [
           {
            "cells": {
             "fill": {
              "color": "#EBF0F8"
             },
             "line": {
              "color": "white"
             }
            },
            "header": {
             "fill": {
              "color": "#C8D4E3"
             },
             "line": {
              "color": "white"
             }
            },
            "type": "table"
           }
          ]
         },
         "layout": {
          "annotationdefaults": {
           "arrowcolor": "#2a3f5f",
           "arrowhead": 0,
           "arrowwidth": 1
          },
          "autotypenumbers": "strict",
          "coloraxis": {
           "colorbar": {
            "outlinewidth": 0,
            "ticks": ""
           }
          },
          "colorscale": {
           "diverging": [
            [
             0,
             "#8e0152"
            ],
            [
             0.1,
             "#c51b7d"
            ],
            [
             0.2,
             "#de77ae"
            ],
            [
             0.3,
             "#f1b6da"
            ],
            [
             0.4,
             "#fde0ef"
            ],
            [
             0.5,
             "#f7f7f7"
            ],
            [
             0.6,
             "#e6f5d0"
            ],
            [
             0.7,
             "#b8e186"
            ],
            [
             0.8,
             "#7fbc41"
            ],
            [
             0.9,
             "#4d9221"
            ],
            [
             1,
             "#276419"
            ]
           ],
           "sequential": [
            [
             0,
             "#0d0887"
            ],
            [
             0.1111111111111111,
             "#46039f"
            ],
            [
             0.2222222222222222,
             "#7201a8"
            ],
            [
             0.3333333333333333,
             "#9c179e"
            ],
            [
             0.4444444444444444,
             "#bd3786"
            ],
            [
             0.5555555555555556,
             "#d8576b"
            ],
            [
             0.6666666666666666,
             "#ed7953"
            ],
            [
             0.7777777777777778,
             "#fb9f3a"
            ],
            [
             0.8888888888888888,
             "#fdca26"
            ],
            [
             1,
             "#f0f921"
            ]
           ],
           "sequentialminus": [
            [
             0,
             "#0d0887"
            ],
            [
             0.1111111111111111,
             "#46039f"
            ],
            [
             0.2222222222222222,
             "#7201a8"
            ],
            [
             0.3333333333333333,
             "#9c179e"
            ],
            [
             0.4444444444444444,
             "#bd3786"
            ],
            [
             0.5555555555555556,
             "#d8576b"
            ],
            [
             0.6666666666666666,
             "#ed7953"
            ],
            [
             0.7777777777777778,
             "#fb9f3a"
            ],
            [
             0.8888888888888888,
             "#fdca26"
            ],
            [
             1,
             "#f0f921"
            ]
           ]
          },
          "colorway": [
           "#636efa",
           "#EF553B",
           "#00cc96",
           "#ab63fa",
           "#FFA15A",
           "#19d3f3",
           "#FF6692",
           "#B6E880",
           "#FF97FF",
           "#FECB52"
          ],
          "font": {
           "color": "#2a3f5f"
          },
          "geo": {
           "bgcolor": "white",
           "lakecolor": "white",
           "landcolor": "#E5ECF6",
           "showlakes": true,
           "showland": true,
           "subunitcolor": "white"
          },
          "hoverlabel": {
           "align": "left"
          },
          "hovermode": "closest",
          "mapbox": {
           "style": "light"
          },
          "paper_bgcolor": "white",
          "plot_bgcolor": "#E5ECF6",
          "polar": {
           "angularaxis": {
            "gridcolor": "white",
            "linecolor": "white",
            "ticks": ""
           },
           "bgcolor": "#E5ECF6",
           "radialaxis": {
            "gridcolor": "white",
            "linecolor": "white",
            "ticks": ""
           }
          },
          "scene": {
           "xaxis": {
            "backgroundcolor": "#E5ECF6",
            "gridcolor": "white",
            "gridwidth": 2,
            "linecolor": "white",
            "showbackground": true,
            "ticks": "",
            "zerolinecolor": "white"
           },
           "yaxis": {
            "backgroundcolor": "#E5ECF6",
            "gridcolor": "white",
            "gridwidth": 2,
            "linecolor": "white",
            "showbackground": true,
            "ticks": "",
            "zerolinecolor": "white"
           },
           "zaxis": {
            "backgroundcolor": "#E5ECF6",
            "gridcolor": "white",
            "gridwidth": 2,
            "linecolor": "white",
            "showbackground": true,
            "ticks": "",
            "zerolinecolor": "white"
           }
          },
          "shapedefaults": {
           "line": {
            "color": "#2a3f5f"
           }
          },
          "ternary": {
           "aaxis": {
            "gridcolor": "white",
            "linecolor": "white",
            "ticks": ""
           },
           "baxis": {
            "gridcolor": "white",
            "linecolor": "white",
            "ticks": ""
           },
           "bgcolor": "#E5ECF6",
           "caxis": {
            "gridcolor": "white",
            "linecolor": "white",
            "ticks": ""
           }
          },
          "title": {
           "x": 0.05
          },
          "xaxis": {
           "automargin": true,
           "gridcolor": "white",
           "linecolor": "white",
           "ticks": "",
           "title": {
            "standoff": 15
           },
           "zerolinecolor": "white",
           "zerolinewidth": 2
          },
          "yaxis": {
           "automargin": true,
           "gridcolor": "white",
           "linecolor": "white",
           "ticks": "",
           "title": {
            "standoff": 15
           },
           "zerolinecolor": "white",
           "zerolinewidth": 2
          }
         }
        },
        "title": {
         "text": "Distribution of Outages by Month"
        },
        "xaxis": {
         "anchor": "y",
         "domain": [
          0,
          1
         ],
         "ticktext": [
          "1",
          "2",
          "3",
          "4",
          "5",
          "6",
          "7",
          "8",
          "9",
          "10",
          "11",
          "12"
         ],
         "tickvals": [
          1,
          2,
          3,
          4,
          5,
          6,
          7,
          8,
          9,
          10,
          11,
          12
         ],
         "title": {
          "text": "month"
         }
        },
        "yaxis": {
         "anchor": "x",
         "domain": [
          0,
          1
         ],
         "title": {
          "text": "count"
         }
        }
       }
      }
     },
     "metadata": {},
     "output_type": "display_data"
    }
   ],
   "source": [
    "fig = px.histogram(outages_cleaned.sort_values(by='month'), x='month')\n",
    "fig.update_traces(marker_line_color=\"white\", marker_line_width=1.5)\n",
    "fig.update_layout(\n",
    "    xaxis=dict(\n",
    "        tickvals=list(range(1, 13)),  # Positions where ticks will appear\n",
    "        ticktext=['1', '2', '3', '4', '5', '6', '7', '8', '9', '10', '11', '12'],  # Custom labels for ticks\n",
    "    ),\n",
    "    title='Distribution of Outages by Month'\n",
    ")\n",
    "fig.show()"
   ]
  },
  {
   "cell_type": "code",
   "execution_count": 73,
   "metadata": {},
   "outputs": [
    {
     "data": {
      "application/vnd.plotly.v1+json": {
       "config": {
        "plotlyServerURL": "https://plot.ly"
       },
       "data": [
        {
         "alignmentgroup": "True",
         "hovertemplate": "cause_category=equipment failure<br>month=%{x}<br>obs=%{y}<extra></extra>",
         "legendgroup": "equipment failure",
         "marker": {
          "color": "#636efa",
          "pattern": {
           "shape": ""
          }
         },
         "name": "equipment failure",
         "offsetgroup": "equipment failure",
         "orientation": "v",
         "showlegend": true,
         "textposition": "auto",
         "type": "bar",
         "x": [
          1,
          2,
          3,
          4,
          5,
          6,
          7,
          8,
          9,
          11,
          12
         ],
         "xaxis": "x",
         "y": [
          3,
          4,
          4,
          7,
          6,
          6,
          12,
          3,
          4,
          2,
          4
         ],
         "yaxis": "y"
        },
        {
         "alignmentgroup": "True",
         "hovertemplate": "cause_category=fuel supply emergency<br>month=%{x}<br>obs=%{y}<extra></extra>",
         "legendgroup": "fuel supply emergency",
         "marker": {
          "color": "#EF553B",
          "pattern": {
           "shape": ""
          }
         },
         "name": "fuel supply emergency",
         "offsetgroup": "fuel supply emergency",
         "orientation": "v",
         "showlegend": true,
         "textposition": "auto",
         "type": "bar",
         "x": [
          1,
          2,
          3,
          4,
          5,
          6,
          7,
          8,
          9,
          11,
          12
         ],
         "xaxis": "x",
         "y": [
          4,
          8,
          5,
          1,
          1,
          2,
          5,
          5,
          1,
          2,
          4
         ],
         "yaxis": "y"
        },
        {
         "alignmentgroup": "True",
         "hovertemplate": "cause_category=intentional attack<br>month=%{x}<br>obs=%{y}<extra></extra>",
         "legendgroup": "intentional attack",
         "marker": {
          "color": "#00cc96",
          "pattern": {
           "shape": ""
          }
         },
         "name": "intentional attack",
         "offsetgroup": "intentional attack",
         "orientation": "v",
         "showlegend": true,
         "textposition": "auto",
         "type": "bar",
         "x": [
          1,
          2,
          3,
          4,
          5,
          6,
          7,
          8,
          9,
          10,
          11,
          12
         ],
         "xaxis": "x",
         "y": [
          47,
          38,
          38,
          41,
          44,
          34,
          33,
          26,
          21,
          34,
          24,
          23
         ],
         "yaxis": "y"
        },
        {
         "alignmentgroup": "True",
         "hovertemplate": "cause_category=public appeal<br>month=%{x}<br>obs=%{y}<extra></extra>",
         "legendgroup": "public appeal",
         "marker": {
          "color": "#ab63fa",
          "pattern": {
           "shape": ""
          }
         },
         "name": "public appeal",
         "offsetgroup": "public appeal",
         "orientation": "v",
         "showlegend": true,
         "textposition": "auto",
         "type": "bar",
         "x": [
          1,
          2,
          3,
          5,
          6,
          7,
          8,
          9,
          10,
          12
         ],
         "xaxis": "x",
         "y": [
          4,
          5,
          2,
          5,
          16,
          14,
          18,
          1,
          2,
          2
         ],
         "yaxis": "y"
        },
        {
         "alignmentgroup": "True",
         "hovertemplate": "cause_category=severe weather<br>month=%{x}<br>obs=%{y}<extra></extra>",
         "legendgroup": "severe weather",
         "marker": {
          "color": "#FFA15A",
          "pattern": {
           "shape": ""
          }
         },
         "name": "severe weather",
         "offsetgroup": "severe weather",
         "orientation": "v",
         "showlegend": true,
         "textposition": "auto",
         "type": "bar",
         "x": [
          1,
          2,
          3,
          4,
          5,
          6,
          7,
          8,
          9,
          10,
          11,
          12
         ],
         "xaxis": "x",
         "y": [
          67,
          60,
          29,
          44,
          47,
          100,
          98,
          82,
          58,
          61,
          35,
          63
         ],
         "yaxis": "y"
        },
        {
         "alignmentgroup": "True",
         "hovertemplate": "cause_category=system operability disruption<br>month=%{x}<br>obs=%{y}<extra></extra>",
         "legendgroup": "system operability disruption",
         "marker": {
          "color": "#19d3f3",
          "pattern": {
           "shape": ""
          }
         },
         "name": "system operability disruption",
         "offsetgroup": "system operability disruption",
         "orientation": "v",
         "showlegend": true,
         "textposition": "auto",
         "type": "bar",
         "x": [
          1,
          2,
          3,
          4,
          5,
          6,
          7,
          8,
          9,
          10,
          11,
          12
         ],
         "xaxis": "x",
         "y": [
          8,
          11,
          13,
          12,
          12,
          18,
          12,
          13,
          4,
          8,
          3,
          9
         ],
         "yaxis": "y"
        },
        {
         "alignmentgroup": "True",
         "hovertemplate": "cause_category=islanding<br>month=%{x}<br>obs=%{y}<extra></extra>",
         "legendgroup": "islanding",
         "marker": {
          "color": "#FF6692",
          "pattern": {
           "shape": ""
          }
         },
         "name": "islanding",
         "offsetgroup": "islanding",
         "orientation": "v",
         "showlegend": true,
         "textposition": "auto",
         "type": "bar",
         "x": [
          2,
          3,
          4,
          5,
          6,
          7,
          8,
          9,
          10,
          11,
          12
         ],
         "xaxis": "x",
         "y": [
          6,
          3,
          2,
          4,
          10,
          3,
          4,
          3,
          3,
          3,
          3
         ],
         "yaxis": "y"
        }
       ],
       "layout": {
        "barmode": "group",
        "legend": {
         "title": {
          "text": "cause_category"
         },
         "tracegroupgap": 0
        },
        "template": {
         "data": {
          "bar": [
           {
            "error_x": {
             "color": "#2a3f5f"
            },
            "error_y": {
             "color": "#2a3f5f"
            },
            "marker": {
             "line": {
              "color": "#E5ECF6",
              "width": 0.5
             },
             "pattern": {
              "fillmode": "overlay",
              "size": 10,
              "solidity": 0.2
             }
            },
            "type": "bar"
           }
          ],
          "barpolar": [
           {
            "marker": {
             "line": {
              "color": "#E5ECF6",
              "width": 0.5
             },
             "pattern": {
              "fillmode": "overlay",
              "size": 10,
              "solidity": 0.2
             }
            },
            "type": "barpolar"
           }
          ],
          "carpet": [
           {
            "aaxis": {
             "endlinecolor": "#2a3f5f",
             "gridcolor": "white",
             "linecolor": "white",
             "minorgridcolor": "white",
             "startlinecolor": "#2a3f5f"
            },
            "baxis": {
             "endlinecolor": "#2a3f5f",
             "gridcolor": "white",
             "linecolor": "white",
             "minorgridcolor": "white",
             "startlinecolor": "#2a3f5f"
            },
            "type": "carpet"
           }
          ],
          "choropleth": [
           {
            "colorbar": {
             "outlinewidth": 0,
             "ticks": ""
            },
            "type": "choropleth"
           }
          ],
          "contour": [
           {
            "colorbar": {
             "outlinewidth": 0,
             "ticks": ""
            },
            "colorscale": [
             [
              0,
              "#0d0887"
             ],
             [
              0.1111111111111111,
              "#46039f"
             ],
             [
              0.2222222222222222,
              "#7201a8"
             ],
             [
              0.3333333333333333,
              "#9c179e"
             ],
             [
              0.4444444444444444,
              "#bd3786"
             ],
             [
              0.5555555555555556,
              "#d8576b"
             ],
             [
              0.6666666666666666,
              "#ed7953"
             ],
             [
              0.7777777777777778,
              "#fb9f3a"
             ],
             [
              0.8888888888888888,
              "#fdca26"
             ],
             [
              1,
              "#f0f921"
             ]
            ],
            "type": "contour"
           }
          ],
          "contourcarpet": [
           {
            "colorbar": {
             "outlinewidth": 0,
             "ticks": ""
            },
            "type": "contourcarpet"
           }
          ],
          "heatmap": [
           {
            "colorbar": {
             "outlinewidth": 0,
             "ticks": ""
            },
            "colorscale": [
             [
              0,
              "#0d0887"
             ],
             [
              0.1111111111111111,
              "#46039f"
             ],
             [
              0.2222222222222222,
              "#7201a8"
             ],
             [
              0.3333333333333333,
              "#9c179e"
             ],
             [
              0.4444444444444444,
              "#bd3786"
             ],
             [
              0.5555555555555556,
              "#d8576b"
             ],
             [
              0.6666666666666666,
              "#ed7953"
             ],
             [
              0.7777777777777778,
              "#fb9f3a"
             ],
             [
              0.8888888888888888,
              "#fdca26"
             ],
             [
              1,
              "#f0f921"
             ]
            ],
            "type": "heatmap"
           }
          ],
          "heatmapgl": [
           {
            "colorbar": {
             "outlinewidth": 0,
             "ticks": ""
            },
            "colorscale": [
             [
              0,
              "#0d0887"
             ],
             [
              0.1111111111111111,
              "#46039f"
             ],
             [
              0.2222222222222222,
              "#7201a8"
             ],
             [
              0.3333333333333333,
              "#9c179e"
             ],
             [
              0.4444444444444444,
              "#bd3786"
             ],
             [
              0.5555555555555556,
              "#d8576b"
             ],
             [
              0.6666666666666666,
              "#ed7953"
             ],
             [
              0.7777777777777778,
              "#fb9f3a"
             ],
             [
              0.8888888888888888,
              "#fdca26"
             ],
             [
              1,
              "#f0f921"
             ]
            ],
            "type": "heatmapgl"
           }
          ],
          "histogram": [
           {
            "marker": {
             "pattern": {
              "fillmode": "overlay",
              "size": 10,
              "solidity": 0.2
             }
            },
            "type": "histogram"
           }
          ],
          "histogram2d": [
           {
            "colorbar": {
             "outlinewidth": 0,
             "ticks": ""
            },
            "colorscale": [
             [
              0,
              "#0d0887"
             ],
             [
              0.1111111111111111,
              "#46039f"
             ],
             [
              0.2222222222222222,
              "#7201a8"
             ],
             [
              0.3333333333333333,
              "#9c179e"
             ],
             [
              0.4444444444444444,
              "#bd3786"
             ],
             [
              0.5555555555555556,
              "#d8576b"
             ],
             [
              0.6666666666666666,
              "#ed7953"
             ],
             [
              0.7777777777777778,
              "#fb9f3a"
             ],
             [
              0.8888888888888888,
              "#fdca26"
             ],
             [
              1,
              "#f0f921"
             ]
            ],
            "type": "histogram2d"
           }
          ],
          "histogram2dcontour": [
           {
            "colorbar": {
             "outlinewidth": 0,
             "ticks": ""
            },
            "colorscale": [
             [
              0,
              "#0d0887"
             ],
             [
              0.1111111111111111,
              "#46039f"
             ],
             [
              0.2222222222222222,
              "#7201a8"
             ],
             [
              0.3333333333333333,
              "#9c179e"
             ],
             [
              0.4444444444444444,
              "#bd3786"
             ],
             [
              0.5555555555555556,
              "#d8576b"
             ],
             [
              0.6666666666666666,
              "#ed7953"
             ],
             [
              0.7777777777777778,
              "#fb9f3a"
             ],
             [
              0.8888888888888888,
              "#fdca26"
             ],
             [
              1,
              "#f0f921"
             ]
            ],
            "type": "histogram2dcontour"
           }
          ],
          "mesh3d": [
           {
            "colorbar": {
             "outlinewidth": 0,
             "ticks": ""
            },
            "type": "mesh3d"
           }
          ],
          "parcoords": [
           {
            "line": {
             "colorbar": {
              "outlinewidth": 0,
              "ticks": ""
             }
            },
            "type": "parcoords"
           }
          ],
          "pie": [
           {
            "automargin": true,
            "type": "pie"
           }
          ],
          "scatter": [
           {
            "fillpattern": {
             "fillmode": "overlay",
             "size": 10,
             "solidity": 0.2
            },
            "type": "scatter"
           }
          ],
          "scatter3d": [
           {
            "line": {
             "colorbar": {
              "outlinewidth": 0,
              "ticks": ""
             }
            },
            "marker": {
             "colorbar": {
              "outlinewidth": 0,
              "ticks": ""
             }
            },
            "type": "scatter3d"
           }
          ],
          "scattercarpet": [
           {
            "marker": {
             "colorbar": {
              "outlinewidth": 0,
              "ticks": ""
             }
            },
            "type": "scattercarpet"
           }
          ],
          "scattergeo": [
           {
            "marker": {
             "colorbar": {
              "outlinewidth": 0,
              "ticks": ""
             }
            },
            "type": "scattergeo"
           }
          ],
          "scattergl": [
           {
            "marker": {
             "colorbar": {
              "outlinewidth": 0,
              "ticks": ""
             }
            },
            "type": "scattergl"
           }
          ],
          "scattermapbox": [
           {
            "marker": {
             "colorbar": {
              "outlinewidth": 0,
              "ticks": ""
             }
            },
            "type": "scattermapbox"
           }
          ],
          "scatterpolar": [
           {
            "marker": {
             "colorbar": {
              "outlinewidth": 0,
              "ticks": ""
             }
            },
            "type": "scatterpolar"
           }
          ],
          "scatterpolargl": [
           {
            "marker": {
             "colorbar": {
              "outlinewidth": 0,
              "ticks": ""
             }
            },
            "type": "scatterpolargl"
           }
          ],
          "scatterternary": [
           {
            "marker": {
             "colorbar": {
              "outlinewidth": 0,
              "ticks": ""
             }
            },
            "type": "scatterternary"
           }
          ],
          "surface": [
           {
            "colorbar": {
             "outlinewidth": 0,
             "ticks": ""
            },
            "colorscale": [
             [
              0,
              "#0d0887"
             ],
             [
              0.1111111111111111,
              "#46039f"
             ],
             [
              0.2222222222222222,
              "#7201a8"
             ],
             [
              0.3333333333333333,
              "#9c179e"
             ],
             [
              0.4444444444444444,
              "#bd3786"
             ],
             [
              0.5555555555555556,
              "#d8576b"
             ],
             [
              0.6666666666666666,
              "#ed7953"
             ],
             [
              0.7777777777777778,
              "#fb9f3a"
             ],
             [
              0.8888888888888888,
              "#fdca26"
             ],
             [
              1,
              "#f0f921"
             ]
            ],
            "type": "surface"
           }
          ],
          "table": [
           {
            "cells": {
             "fill": {
              "color": "#EBF0F8"
             },
             "line": {
              "color": "white"
             }
            },
            "header": {
             "fill": {
              "color": "#C8D4E3"
             },
             "line": {
              "color": "white"
             }
            },
            "type": "table"
           }
          ]
         },
         "layout": {
          "annotationdefaults": {
           "arrowcolor": "#2a3f5f",
           "arrowhead": 0,
           "arrowwidth": 1
          },
          "autotypenumbers": "strict",
          "coloraxis": {
           "colorbar": {
            "outlinewidth": 0,
            "ticks": ""
           }
          },
          "colorscale": {
           "diverging": [
            [
             0,
             "#8e0152"
            ],
            [
             0.1,
             "#c51b7d"
            ],
            [
             0.2,
             "#de77ae"
            ],
            [
             0.3,
             "#f1b6da"
            ],
            [
             0.4,
             "#fde0ef"
            ],
            [
             0.5,
             "#f7f7f7"
            ],
            [
             0.6,
             "#e6f5d0"
            ],
            [
             0.7,
             "#b8e186"
            ],
            [
             0.8,
             "#7fbc41"
            ],
            [
             0.9,
             "#4d9221"
            ],
            [
             1,
             "#276419"
            ]
           ],
           "sequential": [
            [
             0,
             "#0d0887"
            ],
            [
             0.1111111111111111,
             "#46039f"
            ],
            [
             0.2222222222222222,
             "#7201a8"
            ],
            [
             0.3333333333333333,
             "#9c179e"
            ],
            [
             0.4444444444444444,
             "#bd3786"
            ],
            [
             0.5555555555555556,
             "#d8576b"
            ],
            [
             0.6666666666666666,
             "#ed7953"
            ],
            [
             0.7777777777777778,
             "#fb9f3a"
            ],
            [
             0.8888888888888888,
             "#fdca26"
            ],
            [
             1,
             "#f0f921"
            ]
           ],
           "sequentialminus": [
            [
             0,
             "#0d0887"
            ],
            [
             0.1111111111111111,
             "#46039f"
            ],
            [
             0.2222222222222222,
             "#7201a8"
            ],
            [
             0.3333333333333333,
             "#9c179e"
            ],
            [
             0.4444444444444444,
             "#bd3786"
            ],
            [
             0.5555555555555556,
             "#d8576b"
            ],
            [
             0.6666666666666666,
             "#ed7953"
            ],
            [
             0.7777777777777778,
             "#fb9f3a"
            ],
            [
             0.8888888888888888,
             "#fdca26"
            ],
            [
             1,
             "#f0f921"
            ]
           ]
          },
          "colorway": [
           "#636efa",
           "#EF553B",
           "#00cc96",
           "#ab63fa",
           "#FFA15A",
           "#19d3f3",
           "#FF6692",
           "#B6E880",
           "#FF97FF",
           "#FECB52"
          ],
          "font": {
           "color": "#2a3f5f"
          },
          "geo": {
           "bgcolor": "white",
           "lakecolor": "white",
           "landcolor": "#E5ECF6",
           "showlakes": true,
           "showland": true,
           "subunitcolor": "white"
          },
          "hoverlabel": {
           "align": "left"
          },
          "hovermode": "closest",
          "mapbox": {
           "style": "light"
          },
          "paper_bgcolor": "white",
          "plot_bgcolor": "#E5ECF6",
          "polar": {
           "angularaxis": {
            "gridcolor": "white",
            "linecolor": "white",
            "ticks": ""
           },
           "bgcolor": "#E5ECF6",
           "radialaxis": {
            "gridcolor": "white",
            "linecolor": "white",
            "ticks": ""
           }
          },
          "scene": {
           "xaxis": {
            "backgroundcolor": "#E5ECF6",
            "gridcolor": "white",
            "gridwidth": 2,
            "linecolor": "white",
            "showbackground": true,
            "ticks": "",
            "zerolinecolor": "white"
           },
           "yaxis": {
            "backgroundcolor": "#E5ECF6",
            "gridcolor": "white",
            "gridwidth": 2,
            "linecolor": "white",
            "showbackground": true,
            "ticks": "",
            "zerolinecolor": "white"
           },
           "zaxis": {
            "backgroundcolor": "#E5ECF6",
            "gridcolor": "white",
            "gridwidth": 2,
            "linecolor": "white",
            "showbackground": true,
            "ticks": "",
            "zerolinecolor": "white"
           }
          },
          "shapedefaults": {
           "line": {
            "color": "#2a3f5f"
           }
          },
          "ternary": {
           "aaxis": {
            "gridcolor": "white",
            "linecolor": "white",
            "ticks": ""
           },
           "baxis": {
            "gridcolor": "white",
            "linecolor": "white",
            "ticks": ""
           },
           "bgcolor": "#E5ECF6",
           "caxis": {
            "gridcolor": "white",
            "linecolor": "white",
            "ticks": ""
           }
          },
          "title": {
           "x": 0.05
          },
          "xaxis": {
           "automargin": true,
           "gridcolor": "white",
           "linecolor": "white",
           "ticks": "",
           "title": {
            "standoff": 15
           },
           "zerolinecolor": "white",
           "zerolinewidth": 2
          },
          "yaxis": {
           "automargin": true,
           "gridcolor": "white",
           "linecolor": "white",
           "ticks": "",
           "title": {
            "standoff": 15
           },
           "zerolinecolor": "white",
           "zerolinewidth": 2
          }
         }
        },
        "title": {
         "text": "Causes by Month"
        },
        "xaxis": {
         "anchor": "y",
         "domain": [
          0,
          1
         ],
         "title": {
          "text": "month"
         }
        },
        "yaxis": {
         "anchor": "x",
         "domain": [
          0,
          1
         ],
         "title": {
          "text": "obs"
         }
        }
       }
      }
     },
     "metadata": {},
     "output_type": "display_data"
    }
   ],
   "source": [
    "hist_df = outages_cleaned.groupby(['month', 'cause_category']).count().reset_index()\n",
    "hist_df\n",
    "fig = px.bar(hist_df, x='month', y='obs', color='cause_category', barmode='group', title='Causes by Month')\n",
    "fig.show()"
   ]
  },
  {
   "cell_type": "code",
   "execution_count": 75,
   "metadata": {},
   "outputs": [
    {
     "data": {
      "application/vnd.plotly.v1+json": {
       "config": {
        "plotlyServerURL": "https://plot.ly"
       },
       "data": [
        {
         "alignmentgroup": "True",
         "hovertemplate": "cause_category=%{x}<br>outage_duration=%{y}<extra></extra>",
         "legendgroup": "",
         "marker": {
          "color": "#636efa"
         },
         "name": "",
         "notched": false,
         "offsetgroup": "",
         "orientation": "v",
         "showlegend": false,
         "type": "box",
         "x": [
          "equipment failure",
          "intentional attack",
          "severe weather",
          "system operability disruption",
          "equipment failure",
          "fuel supply emergency",
          "intentional attack",
          "islanding",
          "severe weather",
          "intentional attack",
          "islanding",
          "intentional attack",
          "islanding",
          "intentional attack",
          "severe weather",
          "intentional attack",
          "islanding",
          "system operability disruption",
          "system operability disruption",
          "equipment failure",
          "intentional attack",
          "severe weather",
          "intentional attack",
          "severe weather",
          "intentional attack",
          "islanding",
          "islanding",
          "intentional attack",
          "islanding",
          "severe weather",
          "system operability disruption",
          "islanding",
          "equipment failure",
          "intentional attack",
          "islanding",
          "severe weather",
          "intentional attack",
          "severe weather",
          "islanding",
          "system operability disruption",
          "intentional attack",
          "intentional attack",
          "islanding",
          "severe weather",
          "system operability disruption",
          "intentional attack",
          "system operability disruption",
          "islanding",
          "intentional attack",
          "intentional attack",
          "intentional attack",
          "public appeal",
          "severe weather",
          "intentional attack",
          "system operability disruption",
          "islanding",
          "severe weather",
          "system operability disruption",
          "intentional attack",
          "system operability disruption",
          "equipment failure",
          "system operability disruption",
          "severe weather",
          "system operability disruption",
          "equipment failure",
          "intentional attack",
          "system operability disruption",
          "system operability disruption",
          "system operability disruption",
          "intentional attack",
          "islanding",
          "public appeal",
          "system operability disruption",
          "equipment failure",
          "islanding",
          "severe weather",
          "system operability disruption",
          "system operability disruption",
          "severe weather",
          "equipment failure",
          "intentional attack",
          "islanding",
          "system operability disruption",
          "system operability disruption",
          "islanding",
          "severe weather",
          "severe weather",
          "system operability disruption",
          "intentional attack",
          "islanding",
          "system operability disruption",
          "intentional attack",
          "islanding",
          "severe weather",
          "intentional attack",
          "severe weather",
          "equipment failure",
          "system operability disruption",
          "public appeal",
          "system operability disruption",
          "equipment failure",
          "system operability disruption",
          "intentional attack",
          "system operability disruption",
          "severe weather",
          "intentional attack",
          "system operability disruption",
          "severe weather",
          "intentional attack",
          "intentional attack",
          "intentional attack",
          "public appeal",
          "fuel supply emergency",
          "severe weather",
          "intentional attack",
          "intentional attack",
          "severe weather",
          "intentional attack",
          "equipment failure",
          "severe weather",
          "intentional attack",
          "public appeal",
          "system operability disruption",
          "intentional attack",
          "severe weather",
          "system operability disruption",
          "intentional attack",
          "system operability disruption",
          "intentional attack",
          "intentional attack",
          "intentional attack",
          "system operability disruption",
          "intentional attack",
          "islanding",
          "intentional attack",
          "islanding",
          "equipment failure",
          "intentional attack",
          "intentional attack",
          "severe weather",
          "system operability disruption",
          "fuel supply emergency",
          "equipment failure",
          "intentional attack",
          "intentional attack",
          "severe weather",
          "intentional attack",
          "system operability disruption",
          "intentional attack",
          "severe weather",
          "intentional attack",
          "intentional attack",
          "severe weather",
          "intentional attack",
          "intentional attack",
          "public appeal",
          "severe weather",
          "system operability disruption",
          "islanding",
          "intentional attack",
          "system operability disruption",
          "equipment failure",
          "severe weather",
          "intentional attack",
          "severe weather",
          "intentional attack",
          "system operability disruption",
          "severe weather",
          "system operability disruption",
          "severe weather",
          "system operability disruption",
          "system operability disruption",
          "intentional attack",
          "islanding",
          "severe weather",
          "public appeal",
          "system operability disruption",
          "islanding",
          "severe weather",
          "severe weather",
          "severe weather",
          "equipment failure",
          "severe weather",
          "intentional attack",
          "system operability disruption",
          "equipment failure",
          "intentional attack",
          "system operability disruption",
          "islanding",
          "equipment failure",
          "public appeal",
          "intentional attack",
          "severe weather",
          "intentional attack",
          "system operability disruption",
          "equipment failure",
          "intentional attack",
          "severe weather",
          "severe weather",
          "intentional attack",
          "system operability disruption",
          "equipment failure",
          "severe weather",
          "system operability disruption",
          "severe weather",
          "intentional attack",
          "system operability disruption",
          "equipment failure",
          "intentional attack",
          "islanding",
          "severe weather",
          "islanding",
          "severe weather",
          "equipment failure",
          "severe weather",
          "severe weather",
          "equipment failure",
          "intentional attack",
          "intentional attack",
          "system operability disruption",
          "system operability disruption",
          "islanding",
          "intentional attack",
          "islanding",
          "system operability disruption",
          "severe weather",
          "public appeal",
          "severe weather",
          "system operability disruption",
          "equipment failure",
          "intentional attack",
          "severe weather",
          "intentional attack",
          "equipment failure",
          "system operability disruption",
          "intentional attack",
          "public appeal",
          "severe weather",
          "intentional attack",
          "public appeal",
          "severe weather",
          "intentional attack",
          "system operability disruption",
          "intentional attack",
          "islanding",
          "severe weather",
          "system operability disruption",
          "intentional attack",
          "public appeal",
          "system operability disruption",
          "equipment failure",
          "severe weather",
          "islanding",
          "public appeal",
          "severe weather",
          "system operability disruption",
          "public appeal",
          "equipment failure",
          "intentional attack",
          "equipment failure",
          "system operability disruption",
          "severe weather",
          "islanding",
          "system operability disruption",
          "severe weather",
          "system operability disruption",
          "system operability disruption",
          "intentional attack",
          "public appeal",
          "severe weather",
          "system operability disruption",
          "intentional attack",
          "system operability disruption",
          "public appeal",
          "public appeal",
          "system operability disruption",
          "system operability disruption",
          "intentional attack",
          "islanding",
          "severe weather",
          "severe weather",
          "fuel supply emergency",
          "intentional attack",
          "severe weather",
          "intentional attack",
          "islanding",
          "equipment failure",
          "islanding",
          "public appeal",
          "severe weather",
          "system operability disruption",
          "intentional attack",
          "intentional attack",
          "system operability disruption",
          "severe weather",
          "severe weather",
          "system operability disruption",
          "intentional attack",
          "severe weather",
          "severe weather",
          "intentional attack",
          "severe weather",
          "equipment failure",
          "intentional attack",
          "severe weather",
          "intentional attack",
          "public appeal",
          "severe weather",
          "system operability disruption",
          "system operability disruption",
          "intentional attack",
          "intentional attack",
          "intentional attack",
          "intentional attack",
          "system operability disruption",
          "equipment failure",
          "fuel supply emergency",
          "system operability disruption",
          "severe weather",
          "public appeal",
          "intentional attack",
          "severe weather",
          "system operability disruption",
          "system operability disruption",
          "intentional attack",
          "severe weather",
          "severe weather",
          "system operability disruption",
          "intentional attack",
          "intentional attack",
          "system operability disruption",
          "intentional attack",
          "severe weather",
          "severe weather",
          "intentional attack",
          "fuel supply emergency",
          "system operability disruption",
          "severe weather",
          "system operability disruption",
          "severe weather",
          "intentional attack",
          "equipment failure",
          "system operability disruption",
          "intentional attack",
          "severe weather",
          "public appeal",
          "severe weather",
          "intentional attack",
          "severe weather",
          "system operability disruption",
          "intentional attack",
          "public appeal",
          "equipment failure",
          "islanding",
          "public appeal",
          "intentional attack",
          "intentional attack",
          "public appeal",
          "equipment failure",
          "public appeal",
          "severe weather",
          "system operability disruption",
          "severe weather",
          "intentional attack",
          "public appeal",
          "public appeal",
          "intentional attack",
          "severe weather",
          "equipment failure",
          "severe weather",
          "system operability disruption",
          "intentional attack",
          "intentional attack",
          "severe weather",
          "severe weather",
          "intentional attack",
          "system operability disruption",
          "public appeal",
          "severe weather",
          "intentional attack",
          "intentional attack",
          "intentional attack",
          "public appeal",
          "intentional attack",
          "severe weather",
          "intentional attack",
          "public appeal",
          "severe weather",
          "severe weather",
          "intentional attack",
          "severe weather",
          "equipment failure",
          "intentional attack",
          "intentional attack",
          "public appeal",
          "intentional attack",
          "severe weather",
          "severe weather",
          "severe weather",
          "severe weather",
          "fuel supply emergency",
          "severe weather",
          "severe weather",
          "intentional attack",
          "system operability disruption",
          "public appeal",
          "system operability disruption",
          "intentional attack",
          "public appeal",
          "intentional attack",
          "intentional attack",
          "severe weather",
          "severe weather",
          "severe weather",
          "intentional attack",
          "equipment failure",
          "severe weather",
          "severe weather",
          "severe weather",
          "intentional attack",
          "equipment failure",
          "severe weather",
          "intentional attack",
          "severe weather",
          "equipment failure",
          "severe weather",
          "severe weather",
          "fuel supply emergency",
          "severe weather",
          "intentional attack",
          "severe weather",
          "system operability disruption",
          "severe weather",
          "severe weather",
          "severe weather",
          "intentional attack",
          "severe weather",
          "intentional attack",
          "public appeal",
          "severe weather",
          "severe weather",
          "system operability disruption",
          "equipment failure",
          "severe weather",
          "system operability disruption",
          "system operability disruption",
          "equipment failure",
          "system operability disruption",
          "equipment failure",
          "system operability disruption",
          "severe weather",
          "islanding",
          "severe weather",
          "severe weather",
          "severe weather",
          "severe weather",
          "system operability disruption",
          "equipment failure",
          "intentional attack",
          "intentional attack",
          "severe weather",
          "severe weather",
          "equipment failure",
          "severe weather",
          "fuel supply emergency",
          "system operability disruption",
          "intentional attack",
          "severe weather",
          "equipment failure",
          "system operability disruption",
          "islanding",
          "equipment failure",
          "severe weather",
          "fuel supply emergency",
          "severe weather",
          "equipment failure",
          "public appeal",
          "severe weather",
          "severe weather",
          "severe weather",
          "equipment failure",
          "severe weather",
          "system operability disruption",
          "intentional attack",
          "severe weather",
          "severe weather",
          "islanding",
          "severe weather",
          "intentional attack",
          "severe weather",
          "public appeal",
          "severe weather",
          "severe weather",
          "severe weather",
          "system operability disruption",
          "severe weather",
          "severe weather",
          "severe weather",
          "islanding",
          "severe weather",
          "severe weather",
          "severe weather",
          "intentional attack",
          "severe weather",
          "severe weather",
          "severe weather",
          "intentional attack",
          "severe weather",
          "intentional attack",
          "public appeal",
          "equipment failure",
          "severe weather",
          "severe weather",
          "severe weather",
          "severe weather",
          "severe weather",
          "severe weather",
          "intentional attack",
          "severe weather",
          "intentional attack",
          "severe weather",
          "severe weather",
          "public appeal",
          "severe weather",
          "intentional attack",
          "severe weather",
          "severe weather",
          "severe weather",
          "equipment failure",
          "severe weather",
          "intentional attack",
          "intentional attack",
          "severe weather",
          "severe weather",
          "intentional attack",
          "islanding",
          "fuel supply emergency",
          "severe weather",
          "severe weather",
          "severe weather",
          "intentional attack",
          "intentional attack",
          "severe weather",
          "severe weather",
          "severe weather",
          "severe weather",
          "intentional attack",
          "severe weather",
          "severe weather",
          "severe weather",
          "public appeal",
          "intentional attack",
          "severe weather",
          "system operability disruption",
          "severe weather",
          "severe weather",
          "severe weather",
          "public appeal",
          "intentional attack",
          "severe weather",
          "equipment failure",
          "severe weather",
          "intentional attack",
          "fuel supply emergency",
          "intentional attack",
          "severe weather",
          "system operability disruption",
          "intentional attack",
          "severe weather",
          "severe weather",
          "severe weather",
          "severe weather",
          "severe weather",
          "severe weather",
          "severe weather",
          "severe weather",
          "severe weather",
          "severe weather",
          "system operability disruption",
          "severe weather",
          "severe weather",
          "severe weather",
          "intentional attack",
          "public appeal",
          "severe weather",
          "public appeal",
          "severe weather",
          "severe weather",
          "intentional attack",
          "severe weather",
          "severe weather",
          "severe weather",
          "severe weather",
          "intentional attack",
          "intentional attack",
          "severe weather",
          "severe weather",
          "intentional attack",
          "intentional attack",
          "severe weather",
          "severe weather",
          "intentional attack",
          "severe weather",
          "fuel supply emergency",
          "severe weather",
          "severe weather",
          "severe weather",
          "intentional attack",
          "system operability disruption",
          "severe weather",
          "severe weather",
          "severe weather",
          "severe weather",
          "system operability disruption",
          "severe weather",
          "severe weather",
          "public appeal",
          "severe weather",
          "intentional attack",
          "severe weather",
          "severe weather",
          "severe weather",
          "system operability disruption",
          "severe weather",
          "severe weather",
          "severe weather",
          "severe weather",
          "severe weather",
          "severe weather",
          "intentional attack",
          "severe weather",
          "equipment failure",
          "intentional attack",
          "severe weather",
          "severe weather",
          "severe weather",
          "severe weather",
          "severe weather",
          "severe weather",
          "severe weather",
          "severe weather",
          "severe weather",
          "severe weather",
          "severe weather",
          "severe weather",
          "severe weather",
          "system operability disruption",
          "severe weather",
          "system operability disruption",
          "severe weather",
          "severe weather",
          "severe weather",
          "severe weather",
          "system operability disruption",
          "severe weather",
          "severe weather",
          "severe weather",
          "system operability disruption",
          "severe weather",
          "intentional attack",
          "severe weather",
          "severe weather",
          "severe weather",
          "public appeal",
          "severe weather",
          "severe weather",
          "severe weather",
          "severe weather",
          "severe weather",
          "severe weather",
          "fuel supply emergency",
          "intentional attack",
          "severe weather",
          "public appeal",
          "severe weather",
          "severe weather",
          "severe weather",
          "severe weather",
          "severe weather",
          "severe weather",
          "severe weather",
          "severe weather",
          "severe weather",
          "severe weather",
          "severe weather",
          "severe weather",
          "severe weather",
          "severe weather",
          "severe weather",
          "severe weather",
          "intentional attack",
          "severe weather",
          "severe weather",
          "severe weather",
          "severe weather",
          "severe weather",
          "severe weather",
          "severe weather",
          "intentional attack",
          "severe weather",
          "severe weather",
          "severe weather",
          "severe weather",
          "system operability disruption",
          "intentional attack",
          "public appeal",
          "severe weather",
          "severe weather",
          "severe weather",
          "severe weather",
          "severe weather",
          "fuel supply emergency",
          "public appeal",
          "severe weather",
          "severe weather",
          "severe weather",
          "severe weather",
          "intentional attack",
          "severe weather",
          "severe weather",
          "intentional attack",
          "fuel supply emergency",
          "intentional attack",
          "public appeal",
          "severe weather",
          "fuel supply emergency",
          "severe weather",
          "severe weather",
          "severe weather",
          "severe weather",
          "severe weather",
          "severe weather",
          "system operability disruption",
          "severe weather",
          "severe weather",
          "severe weather",
          "severe weather",
          "severe weather",
          "system operability disruption",
          "severe weather",
          "severe weather",
          "severe weather",
          "severe weather",
          "intentional attack",
          "intentional attack",
          "public appeal",
          "severe weather",
          "system operability disruption",
          "system operability disruption",
          "intentional attack",
          "severe weather",
          "severe weather",
          "severe weather",
          "system operability disruption",
          "severe weather",
          "severe weather",
          "public appeal",
          "severe weather",
          "public appeal",
          "severe weather",
          "severe weather",
          "severe weather",
          "severe weather",
          "severe weather",
          "severe weather",
          "severe weather",
          "severe weather",
          "severe weather",
          "severe weather",
          "severe weather",
          "severe weather",
          "severe weather",
          "severe weather",
          "severe weather",
          "fuel supply emergency",
          "severe weather",
          "severe weather",
          "severe weather",
          "severe weather",
          "severe weather",
          "severe weather",
          "severe weather",
          "severe weather",
          "intentional attack",
          "severe weather",
          "intentional attack",
          "severe weather",
          "severe weather",
          "severe weather",
          "severe weather",
          "severe weather",
          "severe weather",
          "severe weather",
          "severe weather",
          "severe weather",
          "severe weather",
          "severe weather",
          "severe weather",
          "severe weather",
          "severe weather",
          "severe weather",
          "severe weather",
          "severe weather",
          "severe weather",
          "severe weather",
          "severe weather",
          "severe weather",
          "severe weather",
          "severe weather",
          "severe weather",
          "severe weather",
          "intentional attack",
          "severe weather",
          "severe weather",
          "severe weather",
          "severe weather",
          "fuel supply emergency",
          "public appeal",
          "severe weather",
          "severe weather",
          "severe weather",
          "severe weather",
          "severe weather",
          "severe weather",
          "severe weather",
          "severe weather",
          "severe weather",
          "severe weather",
          "severe weather",
          "severe weather",
          "severe weather",
          "public appeal",
          "severe weather",
          "severe weather",
          "severe weather",
          "severe weather",
          "severe weather",
          "severe weather",
          "severe weather",
          "severe weather",
          "severe weather",
          "severe weather",
          "severe weather",
          "severe weather",
          "severe weather",
          "severe weather",
          "severe weather",
          "severe weather",
          "severe weather",
          "severe weather",
          "severe weather",
          "severe weather",
          "severe weather",
          "severe weather",
          "severe weather",
          "system operability disruption",
          "severe weather",
          "severe weather",
          "severe weather",
          "severe weather",
          "severe weather",
          "severe weather",
          "severe weather",
          "severe weather",
          "severe weather",
          "severe weather",
          "severe weather",
          "severe weather",
          "fuel supply emergency",
          "severe weather",
          "severe weather",
          "severe weather",
          "severe weather",
          "public appeal",
          "severe weather",
          "severe weather",
          "severe weather",
          "severe weather",
          "severe weather",
          "severe weather",
          "severe weather",
          "severe weather",
          "severe weather",
          "severe weather",
          "severe weather",
          "severe weather",
          "severe weather",
          "severe weather",
          "severe weather",
          "severe weather",
          "severe weather",
          "severe weather",
          "severe weather",
          "severe weather",
          "severe weather",
          "severe weather",
          "severe weather",
          "severe weather",
          "severe weather",
          "severe weather",
          "severe weather",
          "severe weather",
          "severe weather",
          "severe weather",
          "severe weather",
          "severe weather",
          "severe weather",
          "severe weather",
          "public appeal",
          "severe weather",
          "severe weather",
          "severe weather",
          "severe weather",
          "severe weather",
          "severe weather",
          "severe weather",
          "severe weather",
          "severe weather",
          "severe weather",
          "severe weather",
          "severe weather",
          "severe weather",
          "severe weather",
          "severe weather",
          "severe weather",
          "severe weather",
          "severe weather",
          "severe weather",
          "severe weather",
          "severe weather",
          "fuel supply emergency",
          "severe weather",
          "severe weather",
          "severe weather",
          "intentional attack",
          "severe weather",
          "severe weather",
          "severe weather",
          "severe weather",
          "severe weather",
          "severe weather",
          "severe weather",
          "severe weather",
          "severe weather",
          "severe weather",
          "severe weather",
          "severe weather",
          "severe weather",
          "severe weather",
          "severe weather",
          "severe weather",
          "severe weather",
          "fuel supply emergency",
          "severe weather",
          "severe weather",
          "severe weather",
          "severe weather",
          "severe weather",
          "severe weather",
          "severe weather",
          "severe weather",
          "severe weather",
          "severe weather",
          "severe weather",
          "severe weather",
          "severe weather",
          "severe weather",
          "intentional attack",
          "severe weather",
          "severe weather",
          "severe weather",
          "severe weather",
          "severe weather",
          "public appeal",
          "severe weather",
          "severe weather",
          "severe weather",
          "severe weather",
          "fuel supply emergency",
          "severe weather",
          "severe weather",
          "severe weather",
          "severe weather",
          "severe weather",
          "severe weather",
          "severe weather",
          "severe weather",
          "severe weather",
          "severe weather",
          "severe weather",
          "severe weather",
          "severe weather",
          "severe weather",
          "severe weather",
          "severe weather",
          "fuel supply emergency",
          "severe weather",
          "severe weather",
          "severe weather",
          "severe weather",
          "severe weather",
          "severe weather",
          "fuel supply emergency",
          "severe weather",
          "severe weather",
          "severe weather",
          "severe weather",
          "fuel supply emergency",
          "fuel supply emergency",
          "fuel supply emergency",
          "severe weather",
          "fuel supply emergency",
          "severe weather",
          "severe weather",
          "intentional attack",
          "severe weather",
          "severe weather",
          "fuel supply emergency",
          "system operability disruption",
          "fuel supply emergency",
          "severe weather",
          "severe weather",
          "fuel supply emergency",
          "severe weather",
          "fuel supply emergency",
          "severe weather",
          "severe weather",
          "severe weather",
          "fuel supply emergency",
          "fuel supply emergency",
          "equipment failure",
          "fuel supply emergency"
         ],
         "x0": " ",
         "xaxis": "x",
         "y": [
          0,
          0,
          0,
          0,
          1,
          1,
          1,
          1,
          1,
          2,
          2,
          3,
          3,
          4,
          4,
          5,
          5,
          5,
          6,
          7,
          7,
          8,
          10,
          10,
          11,
          11,
          12,
          13,
          13,
          13,
          13,
          14,
          15,
          15,
          15,
          15,
          17,
          17,
          19,
          19,
          20,
          21,
          21,
          21,
          21,
          25,
          25,
          26,
          27,
          28,
          30,
          30,
          30,
          31,
          31,
          32,
          32,
          32,
          33,
          33,
          35,
          35,
          37,
          38,
          39,
          39,
          39,
          40,
          42,
          44,
          44,
          45,
          45,
          46,
          47,
          47,
          47,
          48,
          49,
          50,
          50,
          50,
          50,
          52,
          53,
          53,
          54,
          55,
          56,
          56,
          56,
          57,
          59,
          59,
          60,
          60,
          61,
          61,
          62,
          63,
          64,
          64,
          65,
          65,
          66,
          70,
          70,
          72,
          73,
          74,
          75,
          75,
          76,
          76,
          77,
          78,
          78,
          83,
          84,
          85,
          87,
          89,
          89,
          90,
          90,
          90,
          91,
          91,
          92,
          93,
          95,
          95,
          96,
          96,
          98,
          98,
          100,
          100,
          103,
          103,
          103,
          104,
          105,
          105,
          106,
          106,
          108,
          108,
          110,
          110,
          113,
          114,
          115,
          117,
          120,
          120,
          120,
          121,
          122,
          123,
          124,
          125,
          125,
          126,
          126,
          128,
          129,
          130,
          130,
          131,
          132,
          133,
          135,
          135,
          136,
          140,
          141,
          144,
          144,
          145,
          148,
          149,
          150,
          152,
          152,
          155,
          155,
          155,
          157,
          159,
          159,
          160,
          160,
          161,
          161,
          164,
          164,
          165,
          166,
          167,
          167,
          168,
          168,
          171,
          174,
          175,
          177,
          179,
          180,
          180,
          180,
          181,
          181,
          182,
          182,
          185,
          186,
          187,
          189,
          189,
          191,
          193,
          195,
          195,
          195,
          196,
          197,
          198,
          199,
          200,
          200,
          200,
          201,
          202,
          204,
          206,
          206,
          208,
          210,
          210,
          210,
          213,
          213,
          214,
          214,
          215,
          215,
          219,
          220,
          220,
          221,
          221,
          223,
          224,
          224,
          224,
          225,
          227,
          227,
          230,
          230,
          232,
          233,
          234,
          235,
          236,
          237,
          240,
          240,
          240,
          241,
          245,
          245,
          247,
          248,
          249,
          250,
          251,
          251,
          251,
          252,
          255,
          255,
          255,
          258,
          268,
          269,
          270,
          270,
          270,
          271,
          274,
          276,
          278,
          280,
          283,
          284,
          285,
          285,
          290,
          292,
          294,
          295,
          295,
          299,
          300,
          300,
          300,
          300,
          304,
          307,
          310,
          313,
          314,
          316,
          318,
          324,
          326,
          327,
          330,
          331,
          333,
          334,
          336,
          340,
          347,
          348,
          352,
          353,
          355,
          355,
          360,
          360,
          365,
          369,
          370,
          372,
          373,
          373,
          374,
          375,
          376,
          380,
          385,
          385,
          388,
          388,
          390,
          390,
          391,
          394,
          394,
          396,
          400,
          402,
          405,
          410,
          414,
          418,
          420,
          420,
          420,
          424,
          428,
          430,
          431,
          432,
          435,
          437,
          437,
          439,
          440,
          448,
          448,
          450,
          451,
          451,
          455,
          455,
          457,
          465,
          467,
          467,
          476,
          479,
          480,
          480,
          480,
          485,
          487,
          488,
          494,
          502,
          507,
          510,
          513,
          513,
          523,
          528,
          538,
          540,
          540,
          543,
          548,
          550,
          554,
          554,
          557,
          557,
          563,
          565,
          569,
          570,
          572,
          575,
          600,
          600,
          617,
          618,
          619,
          620,
          624,
          634,
          645,
          652,
          656,
          659,
          660,
          660,
          663,
          673,
          681,
          685,
          690,
          692,
          697,
          705,
          717,
          720,
          720,
          721,
          732,
          749,
          751,
          757,
          759,
          761,
          761,
          762,
          766,
          796,
          797,
          803,
          805,
          810,
          816,
          816,
          829,
          838,
          840,
          840,
          847,
          854,
          855,
          865,
          868,
          870,
          870,
          871,
          871,
          881,
          885,
          885,
          900,
          900,
          909,
          913,
          930,
          935,
          940,
          945,
          950,
          959,
          960,
          960,
          962,
          984,
          985,
          989,
          989,
          990,
          990,
          1000,
          1005,
          1008,
          1019,
          1020,
          1025,
          1035,
          1037,
          1042,
          1044,
          1046,
          1050,
          1054,
          1060,
          1068,
          1072,
          1077,
          1078,
          1080,
          1080,
          1087,
          1099,
          1110,
          1120,
          1130,
          1135,
          1140,
          1183,
          1185,
          1187,
          1195,
          1196,
          1199,
          1200,
          1201,
          1203,
          1204,
          1205,
          1207,
          1219,
          1226,
          1230,
          1240,
          1254,
          1260,
          1260,
          1265,
          1272,
          1276,
          1282,
          1290,
          1301,
          1318,
          1320,
          1322,
          1324,
          1335,
          1336,
          1337,
          1350,
          1355,
          1365,
          1367,
          1372,
          1380,
          1381,
          1406,
          1414,
          1419,
          1420,
          1423,
          1440,
          1440,
          1440,
          1440,
          1450,
          1452,
          1455,
          1456,
          1460,
          1470,
          1485,
          1500,
          1508,
          1513,
          1523,
          1524,
          1526,
          1528,
          1530,
          1534,
          1548,
          1559,
          1560,
          1560,
          1565,
          1569,
          1574,
          1579,
          1588,
          1590,
          1605,
          1620,
          1620,
          1631,
          1637,
          1642,
          1656,
          1671,
          1673,
          1673,
          1676,
          1680,
          1690,
          1695,
          1697,
          1697,
          1698,
          1710,
          1714,
          1732,
          1732,
          1733,
          1740,
          1755,
          1757,
          1770,
          1800,
          1826,
          1830,
          1835,
          1840,
          1843,
          1860,
          1865,
          1867,
          1890,
          1895,
          1906,
          1914,
          1919,
          1920,
          1950,
          1955,
          1980,
          1995,
          1999,
          2009,
          2010,
          2016,
          2021,
          2040,
          2050,
          2054,
          2055,
          2070,
          2085,
          2089,
          2100,
          2108,
          2120,
          2129,
          2140,
          2142,
          2146,
          2159,
          2160,
          2161,
          2190,
          2220,
          2245,
          2275,
          2279,
          2280,
          2299,
          2319,
          2325,
          2340,
          2355,
          2363,
          2370,
          2400,
          2415,
          2420,
          2425,
          2435,
          2460,
          2464,
          2490,
          2507,
          2515,
          2520,
          2535,
          2550,
          2551,
          2580,
          2610,
          2612,
          2615,
          2639,
          2640,
          2645,
          2652,
          2655,
          2668,
          2670,
          2680,
          2680,
          2684,
          2690,
          2691,
          2694,
          2700,
          2700,
          2700,
          2710,
          2730,
          2759,
          2760,
          2761,
          2775,
          2790,
          2806,
          2818,
          2820,
          2843,
          2855,
          2865,
          2878,
          2880,
          2880,
          2880,
          2880,
          2891,
          2895,
          2939,
          2941,
          2970,
          2985,
          3000,
          3000,
          3015,
          3020,
          3037,
          3040,
          3050,
          3051,
          3058,
          3060,
          3067,
          3090,
          3100,
          3120,
          3120,
          3120,
          3137,
          3180,
          3186,
          3189,
          3232,
          3240,
          3255,
          3264,
          3300,
          3301,
          3305,
          3314,
          3314,
          3339,
          3360,
          3366,
          3388,
          3408,
          3480,
          3494,
          3507,
          3525,
          3540,
          3569,
          3570,
          3584,
          3599,
          3600,
          3600,
          3604,
          3621,
          3630,
          3637,
          3646,
          3667,
          3690,
          3698,
          3720,
          3842,
          3872,
          3894,
          3915,
          3938,
          3943,
          3960,
          4019,
          4032,
          4045,
          4050,
          4080,
          4110,
          4113,
          4122,
          4125,
          4139,
          4140,
          4150,
          4170,
          4177,
          4200,
          4232,
          4242,
          4254,
          4259,
          4260,
          4260,
          4285,
          4290,
          4313,
          4320,
          4320,
          4320,
          4338,
          4380,
          4410,
          4440,
          4458,
          4470,
          4485,
          4510,
          4517,
          4560,
          4590,
          4605,
          4680,
          4710,
          4740,
          4745,
          4792,
          4800,
          4830,
          4890,
          4920,
          4921,
          5034,
          5040,
          5054,
          5071,
          5115,
          5160,
          5227,
          5250,
          5310,
          5320,
          5340,
          5355,
          5400,
          5490,
          5513,
          5579,
          5580,
          5595,
          5610,
          5628,
          5670,
          5700,
          5730,
          5760,
          5790,
          5820,
          5840,
          5850,
          5855,
          5865,
          5880,
          5910,
          6000,
          6000,
          6030,
          6070,
          6074,
          6090,
          6240,
          6276,
          6300,
          6420,
          6480,
          6492,
          6510,
          6600,
          6660,
          6685,
          6690,
          6713,
          6780,
          6787,
          6840,
          6914,
          6938,
          6940,
          7020,
          7080,
          7200,
          7298,
          7319,
          7320,
          7371,
          7430,
          7440,
          7523,
          7530,
          7540,
          7560,
          7609,
          7620,
          7650,
          7700,
          7709,
          7740,
          7800,
          7803,
          7809,
          7920,
          7962,
          7987,
          8054,
          8077,
          8100,
          8160,
          8189,
          8221,
          8268,
          8430,
          8468,
          8472,
          8640,
          8670,
          8873,
          8880,
          8922,
          8940,
          8979,
          9150,
          9230,
          9360,
          9450,
          9480,
          9486,
          9576,
          9600,
          9630,
          9719,
          9855,
          9857,
          9886,
          10080,
          10080,
          10140,
          10274,
          10380,
          10499,
          10530,
          10619,
          10726,
          11058,
          11280,
          11296,
          11337,
          11420,
          11430,
          11525,
          11531,
          11580,
          11640,
          11700,
          11850,
          11867,
          11880,
          12060,
          12124,
          12180,
          12240,
          12240,
          12652,
          12890,
          13140,
          13201,
          13215,
          13381,
          13430,
          13488,
          13650,
          13679,
          13920,
          13972,
          14040,
          14101,
          14190,
          14400,
          14500,
          14639,
          15180,
          15420,
          15492,
          15950,
          17310,
          17339,
          17520,
          17812,
          17865,
          18240,
          18660,
          18717,
          18804,
          20160,
          20280,
          20416,
          21360,
          21540,
          22769,
          23040,
          23187,
          23700,
          23773,
          24780,
          25920,
          27698,
          28170,
          34390,
          46080,
          49320,
          49427,
          60480,
          78377,
          108653
         ],
         "y0": " ",
         "yaxis": "y"
        }
       ],
       "layout": {
        "boxmode": "group",
        "legend": {
         "tracegroupgap": 0
        },
        "template": {
         "data": {
          "bar": [
           {
            "error_x": {
             "color": "#2a3f5f"
            },
            "error_y": {
             "color": "#2a3f5f"
            },
            "marker": {
             "line": {
              "color": "#E5ECF6",
              "width": 0.5
             },
             "pattern": {
              "fillmode": "overlay",
              "size": 10,
              "solidity": 0.2
             }
            },
            "type": "bar"
           }
          ],
          "barpolar": [
           {
            "marker": {
             "line": {
              "color": "#E5ECF6",
              "width": 0.5
             },
             "pattern": {
              "fillmode": "overlay",
              "size": 10,
              "solidity": 0.2
             }
            },
            "type": "barpolar"
           }
          ],
          "carpet": [
           {
            "aaxis": {
             "endlinecolor": "#2a3f5f",
             "gridcolor": "white",
             "linecolor": "white",
             "minorgridcolor": "white",
             "startlinecolor": "#2a3f5f"
            },
            "baxis": {
             "endlinecolor": "#2a3f5f",
             "gridcolor": "white",
             "linecolor": "white",
             "minorgridcolor": "white",
             "startlinecolor": "#2a3f5f"
            },
            "type": "carpet"
           }
          ],
          "choropleth": [
           {
            "colorbar": {
             "outlinewidth": 0,
             "ticks": ""
            },
            "type": "choropleth"
           }
          ],
          "contour": [
           {
            "colorbar": {
             "outlinewidth": 0,
             "ticks": ""
            },
            "colorscale": [
             [
              0,
              "#0d0887"
             ],
             [
              0.1111111111111111,
              "#46039f"
             ],
             [
              0.2222222222222222,
              "#7201a8"
             ],
             [
              0.3333333333333333,
              "#9c179e"
             ],
             [
              0.4444444444444444,
              "#bd3786"
             ],
             [
              0.5555555555555556,
              "#d8576b"
             ],
             [
              0.6666666666666666,
              "#ed7953"
             ],
             [
              0.7777777777777778,
              "#fb9f3a"
             ],
             [
              0.8888888888888888,
              "#fdca26"
             ],
             [
              1,
              "#f0f921"
             ]
            ],
            "type": "contour"
           }
          ],
          "contourcarpet": [
           {
            "colorbar": {
             "outlinewidth": 0,
             "ticks": ""
            },
            "type": "contourcarpet"
           }
          ],
          "heatmap": [
           {
            "colorbar": {
             "outlinewidth": 0,
             "ticks": ""
            },
            "colorscale": [
             [
              0,
              "#0d0887"
             ],
             [
              0.1111111111111111,
              "#46039f"
             ],
             [
              0.2222222222222222,
              "#7201a8"
             ],
             [
              0.3333333333333333,
              "#9c179e"
             ],
             [
              0.4444444444444444,
              "#bd3786"
             ],
             [
              0.5555555555555556,
              "#d8576b"
             ],
             [
              0.6666666666666666,
              "#ed7953"
             ],
             [
              0.7777777777777778,
              "#fb9f3a"
             ],
             [
              0.8888888888888888,
              "#fdca26"
             ],
             [
              1,
              "#f0f921"
             ]
            ],
            "type": "heatmap"
           }
          ],
          "heatmapgl": [
           {
            "colorbar": {
             "outlinewidth": 0,
             "ticks": ""
            },
            "colorscale": [
             [
              0,
              "#0d0887"
             ],
             [
              0.1111111111111111,
              "#46039f"
             ],
             [
              0.2222222222222222,
              "#7201a8"
             ],
             [
              0.3333333333333333,
              "#9c179e"
             ],
             [
              0.4444444444444444,
              "#bd3786"
             ],
             [
              0.5555555555555556,
              "#d8576b"
             ],
             [
              0.6666666666666666,
              "#ed7953"
             ],
             [
              0.7777777777777778,
              "#fb9f3a"
             ],
             [
              0.8888888888888888,
              "#fdca26"
             ],
             [
              1,
              "#f0f921"
             ]
            ],
            "type": "heatmapgl"
           }
          ],
          "histogram": [
           {
            "marker": {
             "pattern": {
              "fillmode": "overlay",
              "size": 10,
              "solidity": 0.2
             }
            },
            "type": "histogram"
           }
          ],
          "histogram2d": [
           {
            "colorbar": {
             "outlinewidth": 0,
             "ticks": ""
            },
            "colorscale": [
             [
              0,
              "#0d0887"
             ],
             [
              0.1111111111111111,
              "#46039f"
             ],
             [
              0.2222222222222222,
              "#7201a8"
             ],
             [
              0.3333333333333333,
              "#9c179e"
             ],
             [
              0.4444444444444444,
              "#bd3786"
             ],
             [
              0.5555555555555556,
              "#d8576b"
             ],
             [
              0.6666666666666666,
              "#ed7953"
             ],
             [
              0.7777777777777778,
              "#fb9f3a"
             ],
             [
              0.8888888888888888,
              "#fdca26"
             ],
             [
              1,
              "#f0f921"
             ]
            ],
            "type": "histogram2d"
           }
          ],
          "histogram2dcontour": [
           {
            "colorbar": {
             "outlinewidth": 0,
             "ticks": ""
            },
            "colorscale": [
             [
              0,
              "#0d0887"
             ],
             [
              0.1111111111111111,
              "#46039f"
             ],
             [
              0.2222222222222222,
              "#7201a8"
             ],
             [
              0.3333333333333333,
              "#9c179e"
             ],
             [
              0.4444444444444444,
              "#bd3786"
             ],
             [
              0.5555555555555556,
              "#d8576b"
             ],
             [
              0.6666666666666666,
              "#ed7953"
             ],
             [
              0.7777777777777778,
              "#fb9f3a"
             ],
             [
              0.8888888888888888,
              "#fdca26"
             ],
             [
              1,
              "#f0f921"
             ]
            ],
            "type": "histogram2dcontour"
           }
          ],
          "mesh3d": [
           {
            "colorbar": {
             "outlinewidth": 0,
             "ticks": ""
            },
            "type": "mesh3d"
           }
          ],
          "parcoords": [
           {
            "line": {
             "colorbar": {
              "outlinewidth": 0,
              "ticks": ""
             }
            },
            "type": "parcoords"
           }
          ],
          "pie": [
           {
            "automargin": true,
            "type": "pie"
           }
          ],
          "scatter": [
           {
            "fillpattern": {
             "fillmode": "overlay",
             "size": 10,
             "solidity": 0.2
            },
            "type": "scatter"
           }
          ],
          "scatter3d": [
           {
            "line": {
             "colorbar": {
              "outlinewidth": 0,
              "ticks": ""
             }
            },
            "marker": {
             "colorbar": {
              "outlinewidth": 0,
              "ticks": ""
             }
            },
            "type": "scatter3d"
           }
          ],
          "scattercarpet": [
           {
            "marker": {
             "colorbar": {
              "outlinewidth": 0,
              "ticks": ""
             }
            },
            "type": "scattercarpet"
           }
          ],
          "scattergeo": [
           {
            "marker": {
             "colorbar": {
              "outlinewidth": 0,
              "ticks": ""
             }
            },
            "type": "scattergeo"
           }
          ],
          "scattergl": [
           {
            "marker": {
             "colorbar": {
              "outlinewidth": 0,
              "ticks": ""
             }
            },
            "type": "scattergl"
           }
          ],
          "scattermapbox": [
           {
            "marker": {
             "colorbar": {
              "outlinewidth": 0,
              "ticks": ""
             }
            },
            "type": "scattermapbox"
           }
          ],
          "scatterpolar": [
           {
            "marker": {
             "colorbar": {
              "outlinewidth": 0,
              "ticks": ""
             }
            },
            "type": "scatterpolar"
           }
          ],
          "scatterpolargl": [
           {
            "marker": {
             "colorbar": {
              "outlinewidth": 0,
              "ticks": ""
             }
            },
            "type": "scatterpolargl"
           }
          ],
          "scatterternary": [
           {
            "marker": {
             "colorbar": {
              "outlinewidth": 0,
              "ticks": ""
             }
            },
            "type": "scatterternary"
           }
          ],
          "surface": [
           {
            "colorbar": {
             "outlinewidth": 0,
             "ticks": ""
            },
            "colorscale": [
             [
              0,
              "#0d0887"
             ],
             [
              0.1111111111111111,
              "#46039f"
             ],
             [
              0.2222222222222222,
              "#7201a8"
             ],
             [
              0.3333333333333333,
              "#9c179e"
             ],
             [
              0.4444444444444444,
              "#bd3786"
             ],
             [
              0.5555555555555556,
              "#d8576b"
             ],
             [
              0.6666666666666666,
              "#ed7953"
             ],
             [
              0.7777777777777778,
              "#fb9f3a"
             ],
             [
              0.8888888888888888,
              "#fdca26"
             ],
             [
              1,
              "#f0f921"
             ]
            ],
            "type": "surface"
           }
          ],
          "table": [
           {
            "cells": {
             "fill": {
              "color": "#EBF0F8"
             },
             "line": {
              "color": "white"
             }
            },
            "header": {
             "fill": {
              "color": "#C8D4E3"
             },
             "line": {
              "color": "white"
             }
            },
            "type": "table"
           }
          ]
         },
         "layout": {
          "annotationdefaults": {
           "arrowcolor": "#2a3f5f",
           "arrowhead": 0,
           "arrowwidth": 1
          },
          "autotypenumbers": "strict",
          "coloraxis": {
           "colorbar": {
            "outlinewidth": 0,
            "ticks": ""
           }
          },
          "colorscale": {
           "diverging": [
            [
             0,
             "#8e0152"
            ],
            [
             0.1,
             "#c51b7d"
            ],
            [
             0.2,
             "#de77ae"
            ],
            [
             0.3,
             "#f1b6da"
            ],
            [
             0.4,
             "#fde0ef"
            ],
            [
             0.5,
             "#f7f7f7"
            ],
            [
             0.6,
             "#e6f5d0"
            ],
            [
             0.7,
             "#b8e186"
            ],
            [
             0.8,
             "#7fbc41"
            ],
            [
             0.9,
             "#4d9221"
            ],
            [
             1,
             "#276419"
            ]
           ],
           "sequential": [
            [
             0,
             "#0d0887"
            ],
            [
             0.1111111111111111,
             "#46039f"
            ],
            [
             0.2222222222222222,
             "#7201a8"
            ],
            [
             0.3333333333333333,
             "#9c179e"
            ],
            [
             0.4444444444444444,
             "#bd3786"
            ],
            [
             0.5555555555555556,
             "#d8576b"
            ],
            [
             0.6666666666666666,
             "#ed7953"
            ],
            [
             0.7777777777777778,
             "#fb9f3a"
            ],
            [
             0.8888888888888888,
             "#fdca26"
            ],
            [
             1,
             "#f0f921"
            ]
           ],
           "sequentialminus": [
            [
             0,
             "#0d0887"
            ],
            [
             0.1111111111111111,
             "#46039f"
            ],
            [
             0.2222222222222222,
             "#7201a8"
            ],
            [
             0.3333333333333333,
             "#9c179e"
            ],
            [
             0.4444444444444444,
             "#bd3786"
            ],
            [
             0.5555555555555556,
             "#d8576b"
            ],
            [
             0.6666666666666666,
             "#ed7953"
            ],
            [
             0.7777777777777778,
             "#fb9f3a"
            ],
            [
             0.8888888888888888,
             "#fdca26"
            ],
            [
             1,
             "#f0f921"
            ]
           ]
          },
          "colorway": [
           "#636efa",
           "#EF553B",
           "#00cc96",
           "#ab63fa",
           "#FFA15A",
           "#19d3f3",
           "#FF6692",
           "#B6E880",
           "#FF97FF",
           "#FECB52"
          ],
          "font": {
           "color": "#2a3f5f"
          },
          "geo": {
           "bgcolor": "white",
           "lakecolor": "white",
           "landcolor": "#E5ECF6",
           "showlakes": true,
           "showland": true,
           "subunitcolor": "white"
          },
          "hoverlabel": {
           "align": "left"
          },
          "hovermode": "closest",
          "mapbox": {
           "style": "light"
          },
          "paper_bgcolor": "white",
          "plot_bgcolor": "#E5ECF6",
          "polar": {
           "angularaxis": {
            "gridcolor": "white",
            "linecolor": "white",
            "ticks": ""
           },
           "bgcolor": "#E5ECF6",
           "radialaxis": {
            "gridcolor": "white",
            "linecolor": "white",
            "ticks": ""
           }
          },
          "scene": {
           "xaxis": {
            "backgroundcolor": "#E5ECF6",
            "gridcolor": "white",
            "gridwidth": 2,
            "linecolor": "white",
            "showbackground": true,
            "ticks": "",
            "zerolinecolor": "white"
           },
           "yaxis": {
            "backgroundcolor": "#E5ECF6",
            "gridcolor": "white",
            "gridwidth": 2,
            "linecolor": "white",
            "showbackground": true,
            "ticks": "",
            "zerolinecolor": "white"
           },
           "zaxis": {
            "backgroundcolor": "#E5ECF6",
            "gridcolor": "white",
            "gridwidth": 2,
            "linecolor": "white",
            "showbackground": true,
            "ticks": "",
            "zerolinecolor": "white"
           }
          },
          "shapedefaults": {
           "line": {
            "color": "#2a3f5f"
           }
          },
          "ternary": {
           "aaxis": {
            "gridcolor": "white",
            "linecolor": "white",
            "ticks": ""
           },
           "baxis": {
            "gridcolor": "white",
            "linecolor": "white",
            "ticks": ""
           },
           "bgcolor": "#E5ECF6",
           "caxis": {
            "gridcolor": "white",
            "linecolor": "white",
            "ticks": ""
           }
          },
          "title": {
           "x": 0.05
          },
          "xaxis": {
           "automargin": true,
           "gridcolor": "white",
           "linecolor": "white",
           "ticks": "",
           "title": {
            "standoff": 15
           },
           "zerolinecolor": "white",
           "zerolinewidth": 2
          },
          "yaxis": {
           "automargin": true,
           "gridcolor": "white",
           "linecolor": "white",
           "ticks": "",
           "title": {
            "standoff": 15
           },
           "zerolinecolor": "white",
           "zerolinewidth": 2
          }
         }
        },
        "title": {
         "text": "outage durations by cause category"
        },
        "xaxis": {
         "anchor": "y",
         "domain": [
          0,
          1
         ],
         "title": {
          "text": "cause_category"
         }
        },
        "yaxis": {
         "anchor": "x",
         "domain": [
          0,
          1
         ],
         "title": {
          "text": "outage_duration"
         }
        }
       }
      }
     },
     "metadata": {},
     "output_type": "display_data"
    }
   ],
   "source": [
    "box_df = outages_cleaned.groupby(['outage_duration', 'cause_category']).count().reset_index()\n",
    "fig = px.box(box_df, x='cause_category', y='outage_duration', title=\"outage durations by cause category\")\n",
    "fig.show()"
   ]
  },
  {
   "cell_type": "markdown",
   "metadata": {},
   "source": [
    "## Step 3: Assessment of Missingness"
   ]
  },
  {
   "cell_type": "code",
   "execution_count": 84,
   "metadata": {},
   "outputs": [
    {
     "name": "stdout",
     "output_type": "stream",
     "text": [
      "773.5465909090908\n"
     ]
    },
    {
     "data": {
      "text/html": [
       "<div>                            <div id=\"5a5ced2b-8f5a-4c6b-89c6-ebfb8937701c\" class=\"plotly-graph-div\" style=\"height:400px; width:600px;\"></div>            <script type=\"text/javascript\">                require([\"plotly\"], function(Plotly) {                    window.PLOTLYENV=window.PLOTLYENV || {};                                    if (document.getElementById(\"5a5ced2b-8f5a-4c6b-89c6-ebfb8937701c\")) {                    Plotly.newPlot(                        \"5a5ced2b-8f5a-4c6b-89c6-ebfb8937701c\",                        [{\"alignmentgroup\":\"True\",\"bingroup\":\"x\",\"hovertemplate\":\"variable=0\\u003cbr\\u003evalue=%{x}\\u003cbr\\u003ecount=%{y}\\u003cextra\\u003e\\u003c\\u002fextra\\u003e\",\"legendgroup\":\"0\",\"marker\":{\"color\":\"#1F77B4\",\"pattern\":{\"shape\":\"\"}},\"name\":\"0\",\"offsetgroup\":\"0\",\"orientation\":\"v\",\"showlegend\":true,\"x\":[180.69724025974028,-142.16112012987014,-19.184415584415547,-152.47435064935098,-186.80519480519524,383.60064935064975,-341.66672077922067,47.46387987012986,-219.26574675324673,-69.62240259740292,496.5636363636363,-328.3982954545454,305.9469155844158,268.5177759740259,757.4594155844156,347.78222402597385,-217.72491883116845,-281.63100649350645,300.8685064935062,199.89269480519488,407.25884740259744,474.58936688311724,584.0214285714287,-235.23311688311696,564.0505681818181,-249.18376623376662,133.89334415584426,-641.5657467532469,213.72353896103868,21.25649350649337,-501.07751623376635,-53.12922077922076,452.0992694805195,-453.0788961038961,-223.21599025974,274.6511363636364,514.2182629870131,283.58327922077933,276.2718344155842,405.20884740259726,-300.1642045454546,-383.1958603896105,123.2539772727273,113.12045454545432,274.0887175324674,-47.874431818182074,158.45008116883128,-126.68628246753224,40.43530844155839,-233.65900974025953,-341.5635551948053,223.64074675324673,82.1441558441561,-90.14237012986996,-284.2467532467531,-34.39634740259726,500.6103896103896,110.91404220779259,-265.4040584415584,-111.48766233766219,-1091.434253246753,-305.23928571428587,317.4415584415583,-334.8644480519479,239.83108766233772,64.11347402597403,-547.8448051948048,26.338230519480476,347.5892045454543,-377.897808441558,288.9012987012984,265.4327922077923,649.5914772727274,589.3061688311686,-363.96712662337677,27.938961038961224,159.6681006493509,90.41404220779214,-52.45698051948057,-133.63498376623374,-186.68538961038985,151.025487012987,89.79172077922067,-888.2280032467534,65.81737012987014,-131.0159090909092,-196.32305194805167,-36.75584415584399,-467.2991071428569,514.2016233766235,-555.5023538961041,403.4550324675324,610.2953733766235,223.7672077922075,-737.463149350649,29.183603896103705,-477.855275974026,-283.43474025974047,72.37004870129886,130.9647727272727,361.6829545454548,328.9961038961037,-551.1361201298705,140.30624999999964,243.275487012987,216.45243506493534,-907.0041396103898,20.890422077922267,560.2001623376623,24.910551948052216,568.287012987013,100.25803571428605,-263.1443993506491,277.18035714285725,-506.87475649350654,99.04001623376644,173.0563311688311,97.38936688311696,-597.6238636363637,10.277678571428623,27.013798701299038,-188.5290584415584,-99.26087662337659,135.09472402597385,-186.39253246753242,65.66761363636397,121.22394480519506,-150.5142045454545,430.5642857142857,-135.79480519480512,81.9777597402599,329.73490259740265,339.21615259740247,5.6452110389609516,-271.08482142857156,496.2341720779218,-606.8222402597403,213.9365259740257,72.06720779220768,452.45868506493525,-185.16120129870114,234.0271915584417,-490.7676136363639,21.81225649350654,-153.39618506493525,-68.99342532467517,238.36347402597403,-58.58035714285734,-88.58823051948048,74.27362012987032,47.59699675324691,-55.848133116882764,219.86022727272757,-706.0608766233768,480.5163961038961,-117.76079545454559,655.9977272727274,134.17288961038957,419.1129058441561,555.9137987012991,417.34910714285706,-23.820211038961133,-84.77443181818217,-1010.7221590909094,229.79740259740265,277.7394480519479,28.94399350649337,614.2922077922076,187.15673701298692,-214.88952922077897,-209.01574675324673,68.91899350649328,539.1244318181816,574.3205357142856,59.31793831168807,68.70600649350627,-255.47353896103914,-69.51923701298665,-112.67905844155803,678.5177759740259,159.56160714285716,267.5060876623379,-149.94512987013013,-149.18303571428578,264.4510551948051,-525.7939935064933,-184.25600649350645,-304.65024350649355,539.3773538961041,129.8266233766235,-472.83676948051925,-846.1697240259741,-586.4952922077923,173.89829545454586,-329.9923701298703,-189.20795454545487,-364.25665584415583,-168.72459415584444,8.057954545454777,89.60535714285743,280.724594155844,191.18685064935062,-108.48920454545487,-274.80876623376616,153.627922077922,-128.43676948051916,39.80300324675363,-260.7915584415582,-25.044886363636124,95.90178571428578,-85.61972402597394,-250.68798701298692,-231.74545454545432,-236.9203733766235,84.93628246753269,-200.3032467532471,-670.3556006493504,-237.14001623376635,-256.8679383116887,37.30373376623356,-224.18108766233763,-176.15584415584408,93.09967532467545,-87.95925324675363,-499.91274350649337,5.9380681818179255,-292.8294642857145,-64.78027597402615,269.89886363636333,96.69050324675345,-140.27751623376616,-65.49910714285716,-341.97288961038976,-110.75884740259698,-768.482711038961,268.5177759740259,-25.564042207792227,-243.28668831168852,-117.17175324675327,-1228.8607954545455,51.32426948051943,347.3795454545452,-124.5564123376621,110.2983766233765,237.59805194805222,-89.5999188311689,205.86631493506457,-199.8939123376622,-626.1940746753248,180.94350649350645,84.83311688311687,150.4131493506493,435.46631493506493,476.45300324675327,-388.6370129870129,107.91558441558436,126.52199675324664,148.96217532467563,-59.39569805194833,17.579139610389575,66.03701298701299,-44.35349025974028,309.6875,38.3387175324674,422.84683441558445,-32.679139610389484,-424.87475649350654,-334.1722402597402,-46.65641233766246,-28.036688311688522,87.61525974025972,318.4898538961038,-633.3491071428571,-546.7166396103894,156.30357142857156,-4.668019480519433,-251.10397727272766,36.574918831168816,258.72037337662323,-44.8426948051947,142.63246753246767,543.8534090909088,-99.80998376623393,-560.2346590909092,1.3854707792206682,21.729058441558664,-423.3505681818183,221.22467532467545,-224.0845779220781,-67.74212662337686,-280.2965097402598,-138.13766233766228,-462.99610389610416,325.8745129870131,351.2033279220782,215.30097402597403,-45.0090909090909,-65.16964285714312,-216.54683441558427,245.10917207792227,94.2045454545455,-23.78693181818153,615.8696428571429,166.53360389610407,152.24350649350663,-68.20137987012959,-208.2669642857145,-253.6897727272726,-64.11136363636388,520.201866883117,372.7482954545453,127.69675324675336,328.17410714285734,303.41103896103914,103.8688311688311,-435.1214285714286,781.8564123376623,354.8973214285711,783.6068993506492,375.34407467532446,534.2856331168828,389.5676136363636,130.78506493506484,-359.82386363636397,353.21339285714294,-344.3190746753248,189.70925324675363,409.2223214285714,62.58928571428578,66.5362012987016,198.8510551948052,146.57938311688304,169.8016233766234,-467.90146103896086,30.61793831168825,-685.0650162337665,-7.806249999999636,372.2125000000001,42.27564935064947,-86.62475649350654,-331.4200487012986,9.122889610389393,-48.14732142857156,-160.56120129870123,-192.67564935064956,44.71834415584408,342.9134740259742,170.41728896103905,-210.95259740259735,74.97581168831175,-527.4113636363636,253.7085227272728,-63.875081168831,-138.94634740259744,487.09902597402606,66.04699675324673,-281.38141233766237,-667.9162337662337,-51.32215909090928,-284.14691558441564,300.3560064935068,73.22532467532483,171.5221590909091,-90.92775974025972,-28.71225649350663,325.15900974026,-265.5904220779221,-2.3351461038960224,-476.33774350649355,-318.30137987012995,33.237012987012804,175.07305194805167,458.2392857142854,-403.62597402597385,447.1806006493507,-549.6551948051952,-59.012987012987196,-69.80876623376616,236.78603896103868,20.56428571428569,670.3909902597402,-99.57370129870105,-60.434009740259626,123.91290584415583,101.6624188311689,16.16477272727252,-339.8463474025971,32.55146103896095,111.92905844155848,206.76152597402597,705.8133928571428,455.23417207792227,-442.4328733766233,-199.88725649350636,-453.9108766233767,-571.3133116883118,-367.5812499999997,-389.67199675324673,-63.45243506493489,-112.64245129870142,-350.31266233766246,-15.720048701298765,-306.73352272727243,-30.649107142856792,-28.74553571428578,298.991558441558,823.7183441558439,151.22849025974028,-54.054383116882946,-405.5728084415582,-237.40625,-212.95600649350627,34.228733766233745,-29.244724025973937,195.68952922077915,585.6354707792207,280.35186688311705,23.592694805194697,63.927110389610334,-292.9825487012986,816.0607954545455,-89.50673701298683,-391.1529220779221,436.6776785714287,197.43003246753233,344.7637987012986,-243.8125,237.81769480519506,-391.5955357142857,-437.7737824675323,-157.50949675324682,-388.83668831168825,74.27362012987032,-117.125162337662,-243.54626623376635,170.5470779220782,337.91826298701335,234.4897727272728,142.67905844155848,226.0634740259743,-264.62532467532446,575.9711850649351,-519.5208603896103,-144.3841720779219,-481.69237012987014,277.99569805194824,572.6499188311691,-97.93969155844161,365.1806006493507,27.829139610389575,212.2226461038963,34.46834415584408,276.70446428571404,299.88676948051943,-88.624837662338,-86.28198051948038,-616.579707792208,113.84594155844161,-49.65487012987023,-251.02077922077933,-264.8383116883115,-361.8272727272729,734.6065746753247,43.07102272727252,241.22215909090937,225.68409090909063,234.8558441558439,-868.713068181818,-242.0453733766235,234.89577922077933,338.23774350649364,647.5814123376622,183.98855519480549,688.9574675324675,-170.93100649350663,513.3496753246754,-214.56339285714284,285.4236201298704,228.23327922077897,-19.69691558441582,12.284415584415456,457.1776785714287,-282.1801136363638,203.46688311688285,347.8221590909088,149.22840909090928,-504.73823051948057,310.86225649350627,228.60600649350636,-467.93474025974047,67.44139610389584,-6.511688311688431,504.3210227272725,-365.68100649350663,630.8719155844155,207.71663961038985,-148.9800324675325,426.6839285714286,718.0468344155843,558.7758116883115,40.555113636363785,-282.1202110389613,135.92004870129858,-626.4436688311689,-65.26615259740265,-578.648051948052,319.8443181818184,67.57118506493498,-653.5396103896105,153.45154220779204,-392.82021103896113,-548.6268668831167,353.95884740259726,229.12516233766246,-404.1484577922074,-408.64448051948057,33.12719155844161,-185.36420454545487,292.2425324675323,-343.1210227272727,522.897483766234,-125.86428571428542,534.6350649350647,34.81444805194769,-223.93149350649355,279.81274350649346,266.38790584415574,-163.9523538961039,402.48993506493525,291.36063311688304,409.508522727273,-926.4225649350651,427.8420454545453,312.3431818181816,-649.9354707792209,-2.0456168831169634,-245.2135551948054,-271.38100649350645,513.3762987012988,-444.113474025974,-81.50308441558445,-109.19805194805213,532.8745941558441,105.28652597402606,298.8784090909094,-223.9647727272727,60.23977272727234,-13.327272727272884,12.277759740259626,-418.16566558441536,3.5752435064932797,-531.6344967532468,53.500730519480385,-290.0473214285712,-578.5249188311691,-186.61217532467526,-37.48465909090919,-425.88644480519497,-614.5796266233765,40.49521103896086,446.77126623376626,223.63741883116882,102.56428571428569,-110.78547077922076,-488.8706980519478,29.39659090909072,-637.4923701298703,-35.54115259740229,-8.15900974025999,555.4578733766234,-208.77280844155803,-213.7380681818181,479.68774350649346,428.6573863636363,-2.95081168831166,201.97930194805167,70.88579545454559,77.16891233766228,-93.58011363636342,-487.3232142857146,421.9749188311689,13.525730519480476,98.534172077922,-153.8288149350651,160.35032467532437,-21.324269480519433,332.3772727272726,432.97702922077906,169.57199675324637,318.45990259740256,376.1061688311688,-562.4077922077922,400.6728896103896,-5.686363636363694,-46.25706168831175,-216.37378246753224,966.416314935065,319.75779220779214,261.8386363636364,-120.6361201298705,230.44967532467535,236.45657467532465,70.20357142857165,433.8689123376621,89.44561688311705,108.94058441558445,-501.05422077922094,589.0831980519479,80.48019480519497,26.225081168831366,199.28035714285716,-12.036038961038685,-188.94504870129913,2.7299512987015078,295.6103896103896,262.91355519480476,-323.23668831168834,-191.85032467532483,604.5447240259741,-133.00933441558436,-427.537094155844,-456.80949675324655,-557.5556818181822,209.1409902597402,-195.62418831168816,29.35665584415574,512.6574675324673,-257.86298701298665,-79.53961038961052,-293.9243506493508,-348.10957792207773,-1.1936688311689068,-150.494237012987,211.14772727272702,13.402597402597166,-70.30462662337641,850.7277597402599,-528.1268668831171,-56.3073863636364,396.19017857142853,322.0374188311689,272.6377435064933,-189.22126623376653,31.626298701298765,440.33173701298665,417.914853896104,-457.28206168831184,-661.8294642857145,-82.99066558441564,11.692045454545678,-194.46939935064938,-18.295860389610425,-100.26923701298665,-348.4357142857143,-43.19204545454568,-59.262581168831275,-189.66387987012968,-4.727922077921903,57.50422077922076,38.22889610389575,-486.02865259740247,-410.99732142857147,146.79569805194797,213.81339285714284,-145.41582792207782,7.35576298701335,71.29180194805167,-276.8920454545455,550.193100649351,-72.31469155844161,166.7066558441561,64.40300324675354,-245.85917207792227,-28.559172077922085,-377.91112012987014,6.177678571428714,-82.684496753247,137.78035714285716,78.85949675324673,-19.440665584415456,192.93733766233754,-7.756331168830911,-179.3373376623381,51.79017857142844,5.285795454545223,-260.3189935064938,11.186201298701235,256.77353896103887,-60.427353896103796,-209.72126623376607,527.8461038961041,51.087987012987014,-288.65625,167.22913961038967,-46.336931818182165,444.8543831168831,401.6246753246751,12.174594155844261,-258.82475649350636,-771.0784902597402,71.44488636363621,-107.12475649350654,-65.95836038961033,-303.4788149350652,4.576948051947966,269.94545454545414,756.8337662337663,-113.11168831168834,-65.30608766233763,190.39480519480503,-40.52970779220777,-62.64042207792227,24.577759740259808,196.77775974025963,-219.08936688311724,-43.84099025974001,-288.87589285714284,99.19642857142844,339.73863636363603,132.5688311688309,272.16517857142844,108.75754870129867,432.3613636363639,708.525649350649,-329.9025162337666,-288.58303571428587,-388.81339285714284,180.29123376623374,-27.757142857142753,1.8746753246750814,-142.56047077922085,-0.2884740259737555,-136.45706168831157,-256.72150974025953,-72.0051948051946,-400.980275974026,235.6046266233766,-466.67678571428587,599.9721590909089,118.44512987012968,-166.90754870129877,-23.68709415584408,50.1794642857144,224.2098214285711,-446.97548701298683,-120.58952922077924,-330.11550324675363,428.76720779220796,130.99139610389602,-37.557873376623775,202.16566558441582,527.2304383116884,473.8738636363637,67.10194805194806,460.46566558441555,-254.02589285714248,113.02394480519479,336.244318181818,-514.9882305194806,94.69374999999991,-119.09196428571431,-177.28400974026,351.1700487012986,-84.27857142857147,43.05105519480503,222.24634740259717,286.3654220779217,-27.703896103896113,270.9271915584418,254.26761363636388,-905.7295454545456,-553.8716720779221,582.8233766233766,-830.6549512987012,448.2056006493508,46.26249999999982,260.44423701298683,621.3540584415587,-696.8991071428572,614.5051948051951,222.59910714285752,219.70048701298674,-913.8197240259742,317.62126623376616,-243.3166396103893,350.44788961038967,-439.12824675324646,346.3112824675327,766.7909090909088,-27.36112012986996,288.4087662337661,496.7000811688313,-388.7235389610387,-558.8735389610392,-340.6749999999997,-109.54748376623365,-910.8245941558439,-154.7772727272727,200.14228896103896,-908.315340909091,-324.6410714285712,484.15381493506493,129.87654220779223,-109.89025974025981,37.66647727272766,-61.93157467532501,1076.0613636363637,-29.284659090908917,-342.9612824675328,227.83725649350617,-136.0443993506492,-260.05941558441555,-221.06948051948075,-553.236038961039,-302.85982142857165,-165.83928571428578,-111.74058441558464,305.2380681818181,-688.020211038961,-68.74715909090946,-263.3107954545453,-111.42775974025972,-92.76477272727288,462.8850649350652,-9.619967532467399,-608.6326298701297,-517.4508928571427,-165.8226461038962,-33.14504870129895,-23.81022727272739,587.6089285714284,-501.47686688311705,-84.13547077922067,-371.6213474025976,-698.6329545454541,36.61152597402588,199.0141233766235,-200.6260551948053,-600.6689123376623,-258.54853896103896,211.33409090909117,-323.27995129870123,474.72581168831175,111.96899350649346,-59.052922077922176,759.0102272727272,428.1215909090911,23.978733766233745,-527.3714285714286,192.29504870129904,325.78133116883146,115.50324675324691,812.5897727272727,-356.0466720779218,491.4386363636363,-334.68474025974,-57.50876623376598,126.5685876623379,-3.7994318181818016,53.18125000000009,-139.82491883116882,-148.44090909090892,410.3637987012985,500.8000811688312,-268.77857142857147,219.24788961038985,-983.519724025974,-321.12012987012986,89.18936688311669,-61.55219155844179,-28.45933441558418,442.27524350649355,-57.56534090909099,-60.24431818181802,-296.30048701298665,58.91193181818198,266.5010551948053,-206.66290584415583,-137.7017045454545,-53.06931818181829,-216.54683441558427,-39.56128246753224,114.34845779220768,52.99821428571431,32.927516233766255,-122.81923701298729,-1013.2746753246752,-456.4201298701296,81.07589285714266,-62.3708603896107,447.8129058441559,-387.90487012987023,-375.3685876623381,-92.9677759740257,327.64829545454586,-707.3554383116884,364.0724025974023,-180.565340909091,300.93839285714284,237.63465909090928,-138.67678571428587,-10.405357142857156,97.99504870129886,115.06063311688285,65.3647727272728,-117.96712662337677,227.3114448051947,-174.21899350649346,-190.1431006493508,-720.2278409090909,249.15592532467554,-302.8331980519479,-616.792694805195,273.82248376623374,-149.12978896103914,71.27183441558464,-310.5972402597404,-402.4545454545455,162.33709415584417,-845.6572240259738,6.816639610389302,-278.1500000000001,-155.46282467532455,253.6186688311691,-106.41258116883137,728.093831168831,-208.6463474025977,-40.196915584415365,88.03457792207791,386.68896103896077,-267.57053571428605,-222.593668831169,-685.9535714285712,-124.69951298701335,-22.222808441558755,-108.83198051948057,-382.34058441558454,527.9625811688315,29.855844155844352,-114.35965909090919,115.23035714285697,-66.51079545454513,-15.66014610389584,528.644805194805,-472.8334415584418,263.91525974025944,355.5828733766234,-12.967857142857156,155.56810064935053,-13.117613636363785,23.349756493506447,-258.42540584415565,-787.8245941558439,-111.52759740259717,-124.43327922077924,-197.51444805194797,380.4823863636361,-458.9626623376621,582.0812500000002,247.52191558441564,-26.878571428571377,-34.589366883117236,-421.05762987012986,114.8043831168834,37.78295454545423,-319.34634740259753,329.5751623376623,273.8923701298704,105.715827922078,199.74626623376616,220.5158279220782,-78.46136363636379,-305.59537337662323,46.06282467532492,-26.239610389610334,42.069318181817835,149.69431818181783,229.8739448051947,352.65097402597394,-467.2092532467532,-541.8046266233764,-91.6965097402599,61.39456168831157,377.99975649350654,-242.6943181818183,-368.36331168831157,-190.66225649350645,-105.38092532467499,143.14829545454586,61.128327922077915,-408.1852272727274,248.01777597402588,108.67435064935034,224.31631493506484,256.77353896103887,-348.3724837662335,32.737824675324646,-342.73498376623365,277.39334415584426,-538.326948051948],\"xaxis\":\"x\",\"yaxis\":\"y\",\"type\":\"histogram\"}],                        {\"template\":{\"data\":{\"barpolar\":[{\"marker\":{\"line\":{\"color\":\"white\",\"width\":0.5},\"pattern\":{\"fillmode\":\"overlay\",\"size\":10,\"solidity\":0.2}},\"type\":\"barpolar\"}],\"bar\":[{\"error_x\":{\"color\":\"rgb(36,36,36)\"},\"error_y\":{\"color\":\"rgb(36,36,36)\"},\"marker\":{\"line\":{\"color\":\"white\",\"width\":0.5},\"pattern\":{\"fillmode\":\"overlay\",\"size\":10,\"solidity\":0.2}},\"type\":\"bar\"}],\"carpet\":[{\"aaxis\":{\"endlinecolor\":\"rgb(36,36,36)\",\"gridcolor\":\"white\",\"linecolor\":\"white\",\"minorgridcolor\":\"white\",\"startlinecolor\":\"rgb(36,36,36)\"},\"baxis\":{\"endlinecolor\":\"rgb(36,36,36)\",\"gridcolor\":\"white\",\"linecolor\":\"white\",\"minorgridcolor\":\"white\",\"startlinecolor\":\"rgb(36,36,36)\"},\"type\":\"carpet\"}],\"choropleth\":[{\"colorbar\":{\"outlinewidth\":1,\"tickcolor\":\"rgb(36,36,36)\",\"ticks\":\"outside\"},\"type\":\"choropleth\"}],\"contourcarpet\":[{\"colorbar\":{\"outlinewidth\":1,\"tickcolor\":\"rgb(36,36,36)\",\"ticks\":\"outside\"},\"type\":\"contourcarpet\"}],\"contour\":[{\"colorbar\":{\"outlinewidth\":1,\"tickcolor\":\"rgb(36,36,36)\",\"ticks\":\"outside\"},\"colorscale\":[[0.0,\"#440154\"],[0.1111111111111111,\"#482878\"],[0.2222222222222222,\"#3e4989\"],[0.3333333333333333,\"#31688e\"],[0.4444444444444444,\"#26828e\"],[0.5555555555555556,\"#1f9e89\"],[0.6666666666666666,\"#35b779\"],[0.7777777777777778,\"#6ece58\"],[0.8888888888888888,\"#b5de2b\"],[1.0,\"#fde725\"]],\"type\":\"contour\"}],\"heatmapgl\":[{\"colorbar\":{\"outlinewidth\":1,\"tickcolor\":\"rgb(36,36,36)\",\"ticks\":\"outside\"},\"colorscale\":[[0.0,\"#440154\"],[0.1111111111111111,\"#482878\"],[0.2222222222222222,\"#3e4989\"],[0.3333333333333333,\"#31688e\"],[0.4444444444444444,\"#26828e\"],[0.5555555555555556,\"#1f9e89\"],[0.6666666666666666,\"#35b779\"],[0.7777777777777778,\"#6ece58\"],[0.8888888888888888,\"#b5de2b\"],[1.0,\"#fde725\"]],\"type\":\"heatmapgl\"}],\"heatmap\":[{\"colorbar\":{\"outlinewidth\":1,\"tickcolor\":\"rgb(36,36,36)\",\"ticks\":\"outside\"},\"colorscale\":[[0.0,\"#440154\"],[0.1111111111111111,\"#482878\"],[0.2222222222222222,\"#3e4989\"],[0.3333333333333333,\"#31688e\"],[0.4444444444444444,\"#26828e\"],[0.5555555555555556,\"#1f9e89\"],[0.6666666666666666,\"#35b779\"],[0.7777777777777778,\"#6ece58\"],[0.8888888888888888,\"#b5de2b\"],[1.0,\"#fde725\"]],\"type\":\"heatmap\"}],\"histogram2dcontour\":[{\"colorbar\":{\"outlinewidth\":1,\"tickcolor\":\"rgb(36,36,36)\",\"ticks\":\"outside\"},\"colorscale\":[[0.0,\"#440154\"],[0.1111111111111111,\"#482878\"],[0.2222222222222222,\"#3e4989\"],[0.3333333333333333,\"#31688e\"],[0.4444444444444444,\"#26828e\"],[0.5555555555555556,\"#1f9e89\"],[0.6666666666666666,\"#35b779\"],[0.7777777777777778,\"#6ece58\"],[0.8888888888888888,\"#b5de2b\"],[1.0,\"#fde725\"]],\"type\":\"histogram2dcontour\"}],\"histogram2d\":[{\"colorbar\":{\"outlinewidth\":1,\"tickcolor\":\"rgb(36,36,36)\",\"ticks\":\"outside\"},\"colorscale\":[[0.0,\"#440154\"],[0.1111111111111111,\"#482878\"],[0.2222222222222222,\"#3e4989\"],[0.3333333333333333,\"#31688e\"],[0.4444444444444444,\"#26828e\"],[0.5555555555555556,\"#1f9e89\"],[0.6666666666666666,\"#35b779\"],[0.7777777777777778,\"#6ece58\"],[0.8888888888888888,\"#b5de2b\"],[1.0,\"#fde725\"]],\"type\":\"histogram2d\"}],\"histogram\":[{\"marker\":{\"line\":{\"color\":\"white\",\"width\":0.6}},\"type\":\"histogram\"}],\"mesh3d\":[{\"colorbar\":{\"outlinewidth\":1,\"tickcolor\":\"rgb(36,36,36)\",\"ticks\":\"outside\"},\"type\":\"mesh3d\"}],\"parcoords\":[{\"line\":{\"colorbar\":{\"outlinewidth\":1,\"tickcolor\":\"rgb(36,36,36)\",\"ticks\":\"outside\"}},\"type\":\"parcoords\"}],\"pie\":[{\"automargin\":true,\"type\":\"pie\"}],\"scatter3d\":[{\"line\":{\"colorbar\":{\"outlinewidth\":1,\"tickcolor\":\"rgb(36,36,36)\",\"ticks\":\"outside\"}},\"marker\":{\"colorbar\":{\"outlinewidth\":1,\"tickcolor\":\"rgb(36,36,36)\",\"ticks\":\"outside\"}},\"type\":\"scatter3d\"}],\"scattercarpet\":[{\"marker\":{\"colorbar\":{\"outlinewidth\":1,\"tickcolor\":\"rgb(36,36,36)\",\"ticks\":\"outside\"}},\"type\":\"scattercarpet\"}],\"scattergeo\":[{\"marker\":{\"colorbar\":{\"outlinewidth\":1,\"tickcolor\":\"rgb(36,36,36)\",\"ticks\":\"outside\"}},\"type\":\"scattergeo\"}],\"scattergl\":[{\"marker\":{\"colorbar\":{\"outlinewidth\":1,\"tickcolor\":\"rgb(36,36,36)\",\"ticks\":\"outside\"}},\"type\":\"scattergl\"}],\"scattermapbox\":[{\"marker\":{\"colorbar\":{\"outlinewidth\":1,\"tickcolor\":\"rgb(36,36,36)\",\"ticks\":\"outside\"}},\"type\":\"scattermapbox\"}],\"scatterpolargl\":[{\"marker\":{\"colorbar\":{\"outlinewidth\":1,\"tickcolor\":\"rgb(36,36,36)\",\"ticks\":\"outside\"}},\"type\":\"scatterpolargl\"}],\"scatterpolar\":[{\"marker\":{\"colorbar\":{\"outlinewidth\":1,\"tickcolor\":\"rgb(36,36,36)\",\"ticks\":\"outside\"}},\"type\":\"scatterpolar\"}],\"scatter\":[{\"fillpattern\":{\"fillmode\":\"overlay\",\"size\":10,\"solidity\":0.2},\"type\":\"scatter\"}],\"scatterternary\":[{\"marker\":{\"colorbar\":{\"outlinewidth\":1,\"tickcolor\":\"rgb(36,36,36)\",\"ticks\":\"outside\"}},\"type\":\"scatterternary\"}],\"surface\":[{\"colorbar\":{\"outlinewidth\":1,\"tickcolor\":\"rgb(36,36,36)\",\"ticks\":\"outside\"},\"colorscale\":[[0.0,\"#440154\"],[0.1111111111111111,\"#482878\"],[0.2222222222222222,\"#3e4989\"],[0.3333333333333333,\"#31688e\"],[0.4444444444444444,\"#26828e\"],[0.5555555555555556,\"#1f9e89\"],[0.6666666666666666,\"#35b779\"],[0.7777777777777778,\"#6ece58\"],[0.8888888888888888,\"#b5de2b\"],[1.0,\"#fde725\"]],\"type\":\"surface\"}],\"table\":[{\"cells\":{\"fill\":{\"color\":\"rgb(237,237,237)\"},\"line\":{\"color\":\"white\"}},\"header\":{\"fill\":{\"color\":\"rgb(217,217,217)\"},\"line\":{\"color\":\"white\"}},\"type\":\"table\"}]},\"layout\":{\"annotationdefaults\":{\"arrowhead\":0,\"arrowwidth\":1},\"autotypenumbers\":\"strict\",\"coloraxis\":{\"colorbar\":{\"outlinewidth\":1,\"tickcolor\":\"rgb(36,36,36)\",\"ticks\":\"outside\"}},\"colorscale\":{\"diverging\":[[0.0,\"rgb(103,0,31)\"],[0.1,\"rgb(178,24,43)\"],[0.2,\"rgb(214,96,77)\"],[0.3,\"rgb(244,165,130)\"],[0.4,\"rgb(253,219,199)\"],[0.5,\"rgb(247,247,247)\"],[0.6,\"rgb(209,229,240)\"],[0.7,\"rgb(146,197,222)\"],[0.8,\"rgb(67,147,195)\"],[0.9,\"rgb(33,102,172)\"],[1.0,\"rgb(5,48,97)\"]],\"sequential\":[[0.0,\"#440154\"],[0.1111111111111111,\"#482878\"],[0.2222222222222222,\"#3e4989\"],[0.3333333333333333,\"#31688e\"],[0.4444444444444444,\"#26828e\"],[0.5555555555555556,\"#1f9e89\"],[0.6666666666666666,\"#35b779\"],[0.7777777777777778,\"#6ece58\"],[0.8888888888888888,\"#b5de2b\"],[1.0,\"#fde725\"]],\"sequentialminus\":[[0.0,\"#440154\"],[0.1111111111111111,\"#482878\"],[0.2222222222222222,\"#3e4989\"],[0.3333333333333333,\"#31688e\"],[0.4444444444444444,\"#26828e\"],[0.5555555555555556,\"#1f9e89\"],[0.6666666666666666,\"#35b779\"],[0.7777777777777778,\"#6ece58\"],[0.8888888888888888,\"#b5de2b\"],[1.0,\"#fde725\"]]},\"colorway\":[\"#1F77B4\",\"#FF7F0E\",\"#2CA02C\",\"#D62728\",\"#9467BD\",\"#8C564B\",\"#E377C2\",\"#7F7F7F\",\"#BCBD22\",\"#17BECF\"],\"font\":{\"color\":\"rgb(36,36,36)\"},\"geo\":{\"bgcolor\":\"white\",\"lakecolor\":\"white\",\"landcolor\":\"white\",\"showlakes\":true,\"showland\":true,\"subunitcolor\":\"white\"},\"hoverlabel\":{\"align\":\"left\"},\"hovermode\":\"closest\",\"mapbox\":{\"style\":\"light\"},\"paper_bgcolor\":\"white\",\"plot_bgcolor\":\"white\",\"polar\":{\"angularaxis\":{\"gridcolor\":\"rgb(232,232,232)\",\"linecolor\":\"rgb(36,36,36)\",\"showgrid\":false,\"showline\":true,\"ticks\":\"outside\"},\"bgcolor\":\"white\",\"radialaxis\":{\"gridcolor\":\"rgb(232,232,232)\",\"linecolor\":\"rgb(36,36,36)\",\"showgrid\":false,\"showline\":true,\"ticks\":\"outside\"}},\"scene\":{\"xaxis\":{\"backgroundcolor\":\"white\",\"gridcolor\":\"rgb(232,232,232)\",\"gridwidth\":2,\"linecolor\":\"rgb(36,36,36)\",\"showbackground\":true,\"showgrid\":false,\"showline\":true,\"ticks\":\"outside\",\"zeroline\":false,\"zerolinecolor\":\"rgb(36,36,36)\"},\"yaxis\":{\"backgroundcolor\":\"white\",\"gridcolor\":\"rgb(232,232,232)\",\"gridwidth\":2,\"linecolor\":\"rgb(36,36,36)\",\"showbackground\":true,\"showgrid\":false,\"showline\":true,\"ticks\":\"outside\",\"zeroline\":false,\"zerolinecolor\":\"rgb(36,36,36)\"},\"zaxis\":{\"backgroundcolor\":\"white\",\"gridcolor\":\"rgb(232,232,232)\",\"gridwidth\":2,\"linecolor\":\"rgb(36,36,36)\",\"showbackground\":true,\"showgrid\":false,\"showline\":true,\"ticks\":\"outside\",\"zeroline\":false,\"zerolinecolor\":\"rgb(36,36,36)\"}},\"shapedefaults\":{\"fillcolor\":\"black\",\"line\":{\"width\":0},\"opacity\":0.3},\"ternary\":{\"aaxis\":{\"gridcolor\":\"rgb(232,232,232)\",\"linecolor\":\"rgb(36,36,36)\",\"showgrid\":false,\"showline\":true,\"ticks\":\"outside\"},\"baxis\":{\"gridcolor\":\"rgb(232,232,232)\",\"linecolor\":\"rgb(36,36,36)\",\"showgrid\":false,\"showline\":true,\"ticks\":\"outside\"},\"bgcolor\":\"white\",\"caxis\":{\"gridcolor\":\"rgb(232,232,232)\",\"linecolor\":\"rgb(36,36,36)\",\"showgrid\":false,\"showline\":true,\"ticks\":\"outside\"}},\"title\":{\"x\":0.5,\"xanchor\":\"center\"},\"xaxis\":{\"automargin\":true,\"gridcolor\":\"rgb(232,232,232)\",\"linecolor\":\"rgb(36,36,36)\",\"showgrid\":true,\"showline\":true,\"ticks\":\"outside\",\"title\":{\"standoff\":15},\"zeroline\":false,\"zerolinecolor\":\"rgb(36,36,36)\"},\"yaxis\":{\"automargin\":true,\"gridcolor\":\"rgb(232,232,232)\",\"linecolor\":\"rgb(36,36,36)\",\"showgrid\":true,\"showline\":true,\"ticks\":\"outside\",\"title\":{\"standoff\":15},\"zeroline\":false,\"zerolinecolor\":\"rgb(36,36,36)\"},\"autosize\":true,\"height\":400,\"margin\":{\"b\":30,\"l\":30,\"r\":30,\"t\":30},\"width\":600}},\"xaxis\":{\"anchor\":\"y\",\"domain\":[0.0,1.0],\"title\":{\"text\":\"value\"}},\"yaxis\":{\"anchor\":\"x\",\"domain\":[0.0,1.0],\"title\":{\"text\":\"count\"}},\"legend\":{\"title\":{\"text\":\"variable\"},\"tracegroupgap\":0},\"barmode\":\"relative\"},                        {\"responsive\": true}                    ).then(function(){\n",
       "                            \n",
       "var gd = document.getElementById('5a5ced2b-8f5a-4c6b-89c6-ebfb8937701c');\n",
       "var x = new MutationObserver(function (mutations, observer) {{\n",
       "        var display = window.getComputedStyle(gd).display;\n",
       "        if (!display || display === 'none') {{\n",
       "            console.log([gd, 'removed!']);\n",
       "            Plotly.purge(gd);\n",
       "            observer.disconnect();\n",
       "        }}\n",
       "}});\n",
       "\n",
       "// Listen for the removal of the full notebook cells\n",
       "var notebookContainer = gd.closest('#notebook-container');\n",
       "if (notebookContainer) {{\n",
       "    x.observe(notebookContainer, {childList: true});\n",
       "}}\n",
       "\n",
       "// Listen for the clearing of the current output cell\n",
       "var outputEl = gd.closest('.output');\n",
       "if (outputEl) {{\n",
       "    x.observe(outputEl, {childList: true});\n",
       "}}\n",
       "\n",
       "                        })                };                });            </script>        </div>"
      ]
     },
     "metadata": {},
     "output_type": "display_data"
    },
    {
     "data": {
      "text/plain": [
       "np.float64(0.008)"
      ]
     },
     "execution_count": 84,
     "metadata": {},
     "output_type": "execute_result"
    }
   ],
   "source": [
    "# Is missingness of customers affected dependent (MAR) on outage duration? We will\n",
    "# perform a permutation test\n",
    "temp = outages_cleaned.assign(missing_customers = outages_cleaned['customers_affected'].isna())\n",
    "grouped = temp.groupby('missing_customers')['outage_duration'].mean()\n",
    "obs = grouped.loc[False] - grouped.loc[True]\n",
    "stats = []\n",
    "for i in range(1000):\n",
    "    outage_temp = outages_cleaned.assign(shuffled = np.random.permutation(temp['missing_customers']))\n",
    "    grouped = outage_temp.groupby('shuffled')['outage_duration'].mean()\n",
    "    stats.append(grouped.loc[False] - grouped.loc[True])\n",
    "\n",
    "stats = np.array(stats)\n",
    "fig = px.histogram(stats)\n",
    "print(obs)\n",
    "fig.show()\n",
    "p = (stats >= obs).mean()\n",
    "p\n"
   ]
  },
  {
   "cell_type": "code",
   "execution_count": null,
   "metadata": {},
   "outputs": [],
   "source": [
    "# This means not missing customer numbers has higher outage durations"
   ]
  },
  {
   "cell_type": "markdown",
   "metadata": {},
   "source": [
    "## Step 4: Hypothesis Testing"
   ]
  },
  {
   "cell_type": "markdown",
   "metadata": {},
   "source": [
    "We will perform a hypothesis test to determine whether outages caused by fuel supply emergencies tend to last longer. \n",
    "\n",
    "Null hypothesis: The median outage duration caused by fuel supply emergencies is the same as the population median outage duration. \n",
    "\n",
    "Alternative hypothesis: The median outage duration caused by fuel supply emergencies is more than the population median outage duration. \n",
    "\n",
    "We will bootstrap outage duration values and compare the observed median outage duration caused by fuel supply emergencies to that distribution. "
   ]
  },
  {
   "cell_type": "code",
   "execution_count": 87,
   "metadata": {
    "ExecuteTime": {
     "end_time": "2019-10-31T23:36:28.666489Z",
     "start_time": "2019-10-31T23:36:28.664381Z"
    }
   },
   "outputs": [
    {
     "data": {
      "text/html": [
       "<div>                            <div id=\"967e3bfc-922e-4f6b-95b1-12b062835039\" class=\"plotly-graph-div\" style=\"height:400px; width:600px;\"></div>            <script type=\"text/javascript\">                require([\"plotly\"], function(Plotly) {                    window.PLOTLYENV=window.PLOTLYENV || {};                                    if (document.getElementById(\"967e3bfc-922e-4f6b-95b1-12b062835039\")) {                    Plotly.newPlot(                        \"967e3bfc-922e-4f6b-95b1-12b062835039\",                        [{\"alignmentgroup\":\"True\",\"bingroup\":\"x\",\"hovertemplate\":\"variable=0\\u003cbr\\u003evalue=%{x}\\u003cbr\\u003ecount=%{y}\\u003cextra\\u003e\\u003c\\u002fextra\\u003e\",\"legendgroup\":\"0\",\"marker\":{\"color\":\"#1F77B4\",\"pattern\":{\"shape\":\"\"}},\"name\":\"0\",\"offsetgroup\":\"0\",\"orientation\":\"v\",\"showlegend\":true,\"x\":[315.0,974.5,1567.5,465.5,462.5,413.0,972.0,480.0,1036.5,907.5,554.0,1112.0,1046.0,452.0,182.5,691.5,1215.0,1275.0,1245.0,292.5,1113.0,443.5,502.0,1594.5,1178.5,1052.5,615.5,528.5,420.0,276.0,676.0,740.0,1110.0,952.5,402.0,480.5,1042.5,1155.0,410.0,1568.0,1155.0,553.5,407.0,964.0,402.5,399.0,1466.5,349.5,3030.0,885.0,499.0,1465.5,642.0,718.0,1770.0,1110.0,243.5,503.5,969.0,1428.0,714.0,438.0,937.5,1938.5,1614.0,905.0,1535.5,334.5,339.5,463.5,504.5,1916.5,206.5,658.0,2880.0,402.5,927.0,682.5,599.5,1613.5,404.0,302.0,1360.0,275.5,546.5,1010.0,236.0,1302.5,914.5,1347.0,467.5,1594.5,700.5,283.5,1619.5,490.0,286.0,329.5,868.0,1429.5,375.5,670.5,255.0,1650.0,1067.5,577.5,465.5,344.5,412.5,1551.5,551.0,377.0,1245.0,408.0,1736.0,1136.0,1390.5,640.0,1000.0,544.5,877.5,433.0,1093.0,418.0,617.5,753.5,563.5,1010.0,825.5,808.0,629.0,659.0,537.0,794.5,420.0,1000.0,482.0,686.5,360.0,2017.5,519.5,1950.0,380.0,696.5,1514.0,1736.0,584.0,557.0,764.5,1192.5,465.0,895.5,425.0,875.0,948.5,342.5,574.0,339.5,812.5,796.0,1813.0,370.0,1241.0,330.5,255.0,2394.0,1200.5,538.5,390.5,873.5,342.0,1572.5,1206.5,1556.5,833.5,836.5,682.5,465.5,645.0,262.5,1564.5,494.0,889.5,521.5,546.5,974.5,744.5,837.0,683.0,562.5,490.5,255.0,737.5,1327.5,801.0,672.5,288.5,331.0,838.0,326.0,873.0,510.0,631.5,1222.5,975.5,1397.5,1622.5,480.0,1057.0,929.5,312.0,666.5,297.5,1740.0,303.5,686.5,435.5,612.5,972.5,1429.5,336.0,974.0,1307.0,181.5,550.0,1361.0,229.0,1213.5,814.5,1163.5,1108.0,1365.0,1395.0,1223.0,1652.0,823.0,349.0,1268.5,1680.0,511.5,539.0,573.5,586.0,460.0,747.5,951.0,420.0,1015.0,984.0,614.5,690.5,1147.5,1658.0,375.0,1136.0,1163.5,731.0,571.0,584.5,404.5,1132.5,1042.0,367.5,459.5,491.5,1047.5,357.0,290.0,760.0,418.0,1533.5,282.0,558.5,621.0,1017.5,493.5,1335.0,278.0,1227.0,1033.0,1408.5,862.5,711.5,1062.0,642.0,705.5,1132.0,556.0,360.0,277.0,561.5,834.0,1004.5,840.0,140.5,404.0,370.5,1240.0,232.5,270.0,963.5,1211.0,1481.5,892.5,456.0,806.0,211.5,317.5,328.0,638.5,437.0,652.5,592.5,1200.0,541.0,1123.0,472.5,668.5,876.5,200.0,551.0,635.5,1286.0,1218.5,947.5,574.0,815.5,570.5,2322.5,192.0,411.0,990.0,915.0,215.0,796.0,900.0,504.0,1611.5,1095.0,1736.0,944.5,505.5,299.0,634.0,670.5,1192.5,440.5,922.5,722.0,166.5,1571.5,765.0,313.5,916.0,521.0,2004.5,930.0,1448.0,501.0,615.0,423.5,391.0,1470.0,929.0,631.0,330.0,253.0,383.0,593.5,615.0,633.0,1982.5,219.0,1515.0,540.0,1073.5,735.5,670.5,710.0,272.5,1048.0,401.0,421.5,567.5,1031.5,688.5,735.0,519.5,350.5,750.0,574.0,770.0,1440.0,658.5,1140.0,533.5,229.5,1848.0,756.0,483.0,446.0,668.5,717.0,1268.0,425.5,1276.0,1452.5,799.5,754.0,847.5,1019.0,608.5,401.0,388.0,684.5,1200.0,935.0,967.5,350.0,882.5,613.0,943.5,852.5,870.0,1201.0,340.0,2175.5,794.5,1799.5,235.5,1122.0,1575.0,1650.5,568.0,315.5,354.5,1034.5,495.0,425.5,1252.5,2748.5,587.0,420.0,869.0,772.5,441.5,389.0,515.0,940.0,922.5,878.0,1177.0,551.0,837.5,442.5,1267.5,941.5,394.0,533.5,1556.5,1093.0,659.5,360.5,303.5,1152.0,1905.0,1329.5,394.5,1521.0,634.5,692.0,1373.5,800.5,404.0,948.5,677.5,788.0,638.5,1082.5,327.0,747.5,1067.5,697.0,2437.5,407.0,937.5,421.0,1172.0,705.0,690.0,367.5,996.5,1179.5,945.0,300.0,627.5,909.5,1579.5,629.0,411.0,774.0,560.0,692.0,802.5,758.0,528.5,234.5,411.5,503.5,603.5,720.5,769.5,504.5,570.0,567.0,461.0,833.0,1499.0,339.0,1068.5,909.5,766.0,679.0,776.5,937.5,1032.5,1298.0,208.0,1147.5,1198.0,411.5,550.0,492.5,796.5,678.5,590.0,255.0,322.5,638.5,411.0,669.5,450.0,713.5,1068.0,1091.5,247.5,885.5,1182.0,367.5,330.0,610.5,843.0,838.0,831.5,383.5,930.0,230.0,1553.5,377.0,685.0,382.5,1163.5,408.0,835.0,398.0,905.5,863.0,1238.0,483.5,337.0,885.5,784.5,260.5,1628.0,303.5,1470.0,492.5,508.5,877.0,1280.5,226.5,406.0,566.0,871.0,386.5,1290.5,1085.0,436.5,425.5,495.0,819.5,382.0,1127.5,417.5,1345.5,749.5,1250.0,375.0,870.5,545.5,1002.0,441.5,1257.5,378.5,332.5,1329.5,1518.0,297.5,838.0,638.5,253.0,989.5,2420.0,202.5,269.5,1230.5,1172.0,558.5,813.5,1571.0,1016.0,213.0,158.5,250.0,990.5,599.5,332.5,855.0,325.5,1009.5,974.0,509.0,681.0,528.0,1440.0,459.0,461.0,436.0,564.0,518.0,366.5,449.0,450.5,299.0,400.0,932.5,1502.0,1233.0,378.0,381.5,617.5,504.0,358.0,372.5,1147.5,426.0,418.0,480.0,680.0,825.0,690.0,1003.5,368.5,370.0,642.5,1615.0,510.0,889.5,1458.0,286.5,1715.0,1320.0,1487.0,1619.5,1566.5,698.0,794.5,1339.5,244.0,425.0,580.5,1002.0,831.5,728.5,1072.0,1320.0,1092.0,332.5,1130.0,878.0,250.0,237.0,1574.0,1142.0,373.0,1005.0,749.0,494.5,1189.5,1201.0,518.5,300.0,1048.5,267.5,761.5,440.0,1476.5,799.5,345.5,1034.5,296.0,825.0,546.5,447.0,283.0,422.0,466.0,466.0,164.0,275.5,870.5,1055.0,907.0,645.5,365.0,436.5,815.5,960.0,973.5,520.0,336.5,1502.0,356.5,670.5,399.0,639.0,450.0,932.5,464.0,2172.5,1245.0,646.0,915.0,733.5,742.0,1172.5,395.0,350.5,890.5,839.0,1365.0,621.5,324.5,579.5,1473.5,1049.5,1193.5,1125.5,994.5,1650.0,292.5,297.5,765.0,1275.0,1171.0,852.5,972.0,1090.0,850.0,1483.0,619.5,385.0,915.5,1290.5,1197.5,1185.0,758.5,1360.0,1037.0,260.0,1260.5,505.5,608.5,383.5,1561.0,1134.0,1411.0,664.0,1730.0,1441.5,1562.5,187.5,563.0,561.5,1444.0,264.0,448.5,975.0,448.0,1460.0,188.5,777.0,569.5,885.0,1447.5,698.5,1445.0,314.0,523.0,634.0,407.0,502.5,377.0,1193.0,1035.0,905.0,1434.5,373.0,990.0,378.0,251.0,844.5,508.5,1058.5,690.5,305.0,510.0,850.0,228.5,1440.0,473.5,706.0,1043.5,405.0,588.0,291.0,1235.5,587.5,265.5,1424.0,627.5,320.0,1222.0,935.0,421.5,600.5,502.0,801.0,388.5,524.0,1356.5,1347.0,345.0,942.5,272.5,703.5,1363.5,1111.0,1292.0,767.0,358.5,494.5,1421.5,554.5,277.5,688.5,1548.0,526.5,583.0,374.0,488.0,1209.5,1695.0,459.5,476.0,326.0,952.0,1869.0,445.5,723.5,960.0,425.0,275.0,1104.0,707.0,267.5,1815.0,576.5,337.5,356.5,360.0,478.0,412.5,466.5,621.5,907.5,1019.0,1736.5,1021.0,1382.5,623.5,1685.5,308.0,1372.5,221.5,875.5,273.5,241.0,409.0,590.0,390.5,561.0,1070.0,548.5,607.0,728.5,1320.5,1862.5,343.5,773.5,443.5,817.0,1275.5,323.5,706.0,1125.0,1171.5,905.0,824.5,585.0,666.5,705.0,1094.5,666.5,783.0,689.5,242.5,915.0,877.0,1229.5,801.5,1684.0,455.0,462.0,1138.0,778.5,801.0,1202.5,1500.0,909.0,364.5,785.0,345.5,779.5,408.0,191.0,425.0,892.5,464.0,854.5,295.0,207.5,397.0,383.5,1048.0,303.5,985.0,505.5,1342.5,762.5,1216.5,990.0,589.5,1736.0,692.5,495.0,556.0,351.5,1202.5,445.5,875.0,1230.0,697.0,410.0,226.0,877.5,758.5,960.0,452.5,779.5,512.5,585.5,1077.5,608.5,502.0,1290.5,689.0,929.5,1423.0,614.0],\"xaxis\":\"x\",\"yaxis\":\"y\",\"type\":\"histogram\"}],                        {\"template\":{\"data\":{\"barpolar\":[{\"marker\":{\"line\":{\"color\":\"white\",\"width\":0.5},\"pattern\":{\"fillmode\":\"overlay\",\"size\":10,\"solidity\":0.2}},\"type\":\"barpolar\"}],\"bar\":[{\"error_x\":{\"color\":\"rgb(36,36,36)\"},\"error_y\":{\"color\":\"rgb(36,36,36)\"},\"marker\":{\"line\":{\"color\":\"white\",\"width\":0.5},\"pattern\":{\"fillmode\":\"overlay\",\"size\":10,\"solidity\":0.2}},\"type\":\"bar\"}],\"carpet\":[{\"aaxis\":{\"endlinecolor\":\"rgb(36,36,36)\",\"gridcolor\":\"white\",\"linecolor\":\"white\",\"minorgridcolor\":\"white\",\"startlinecolor\":\"rgb(36,36,36)\"},\"baxis\":{\"endlinecolor\":\"rgb(36,36,36)\",\"gridcolor\":\"white\",\"linecolor\":\"white\",\"minorgridcolor\":\"white\",\"startlinecolor\":\"rgb(36,36,36)\"},\"type\":\"carpet\"}],\"choropleth\":[{\"colorbar\":{\"outlinewidth\":1,\"tickcolor\":\"rgb(36,36,36)\",\"ticks\":\"outside\"},\"type\":\"choropleth\"}],\"contourcarpet\":[{\"colorbar\":{\"outlinewidth\":1,\"tickcolor\":\"rgb(36,36,36)\",\"ticks\":\"outside\"},\"type\":\"contourcarpet\"}],\"contour\":[{\"colorbar\":{\"outlinewidth\":1,\"tickcolor\":\"rgb(36,36,36)\",\"ticks\":\"outside\"},\"colorscale\":[[0.0,\"#440154\"],[0.1111111111111111,\"#482878\"],[0.2222222222222222,\"#3e4989\"],[0.3333333333333333,\"#31688e\"],[0.4444444444444444,\"#26828e\"],[0.5555555555555556,\"#1f9e89\"],[0.6666666666666666,\"#35b779\"],[0.7777777777777778,\"#6ece58\"],[0.8888888888888888,\"#b5de2b\"],[1.0,\"#fde725\"]],\"type\":\"contour\"}],\"heatmapgl\":[{\"colorbar\":{\"outlinewidth\":1,\"tickcolor\":\"rgb(36,36,36)\",\"ticks\":\"outside\"},\"colorscale\":[[0.0,\"#440154\"],[0.1111111111111111,\"#482878\"],[0.2222222222222222,\"#3e4989\"],[0.3333333333333333,\"#31688e\"],[0.4444444444444444,\"#26828e\"],[0.5555555555555556,\"#1f9e89\"],[0.6666666666666666,\"#35b779\"],[0.7777777777777778,\"#6ece58\"],[0.8888888888888888,\"#b5de2b\"],[1.0,\"#fde725\"]],\"type\":\"heatmapgl\"}],\"heatmap\":[{\"colorbar\":{\"outlinewidth\":1,\"tickcolor\":\"rgb(36,36,36)\",\"ticks\":\"outside\"},\"colorscale\":[[0.0,\"#440154\"],[0.1111111111111111,\"#482878\"],[0.2222222222222222,\"#3e4989\"],[0.3333333333333333,\"#31688e\"],[0.4444444444444444,\"#26828e\"],[0.5555555555555556,\"#1f9e89\"],[0.6666666666666666,\"#35b779\"],[0.7777777777777778,\"#6ece58\"],[0.8888888888888888,\"#b5de2b\"],[1.0,\"#fde725\"]],\"type\":\"heatmap\"}],\"histogram2dcontour\":[{\"colorbar\":{\"outlinewidth\":1,\"tickcolor\":\"rgb(36,36,36)\",\"ticks\":\"outside\"},\"colorscale\":[[0.0,\"#440154\"],[0.1111111111111111,\"#482878\"],[0.2222222222222222,\"#3e4989\"],[0.3333333333333333,\"#31688e\"],[0.4444444444444444,\"#26828e\"],[0.5555555555555556,\"#1f9e89\"],[0.6666666666666666,\"#35b779\"],[0.7777777777777778,\"#6ece58\"],[0.8888888888888888,\"#b5de2b\"],[1.0,\"#fde725\"]],\"type\":\"histogram2dcontour\"}],\"histogram2d\":[{\"colorbar\":{\"outlinewidth\":1,\"tickcolor\":\"rgb(36,36,36)\",\"ticks\":\"outside\"},\"colorscale\":[[0.0,\"#440154\"],[0.1111111111111111,\"#482878\"],[0.2222222222222222,\"#3e4989\"],[0.3333333333333333,\"#31688e\"],[0.4444444444444444,\"#26828e\"],[0.5555555555555556,\"#1f9e89\"],[0.6666666666666666,\"#35b779\"],[0.7777777777777778,\"#6ece58\"],[0.8888888888888888,\"#b5de2b\"],[1.0,\"#fde725\"]],\"type\":\"histogram2d\"}],\"histogram\":[{\"marker\":{\"line\":{\"color\":\"white\",\"width\":0.6}},\"type\":\"histogram\"}],\"mesh3d\":[{\"colorbar\":{\"outlinewidth\":1,\"tickcolor\":\"rgb(36,36,36)\",\"ticks\":\"outside\"},\"type\":\"mesh3d\"}],\"parcoords\":[{\"line\":{\"colorbar\":{\"outlinewidth\":1,\"tickcolor\":\"rgb(36,36,36)\",\"ticks\":\"outside\"}},\"type\":\"parcoords\"}],\"pie\":[{\"automargin\":true,\"type\":\"pie\"}],\"scatter3d\":[{\"line\":{\"colorbar\":{\"outlinewidth\":1,\"tickcolor\":\"rgb(36,36,36)\",\"ticks\":\"outside\"}},\"marker\":{\"colorbar\":{\"outlinewidth\":1,\"tickcolor\":\"rgb(36,36,36)\",\"ticks\":\"outside\"}},\"type\":\"scatter3d\"}],\"scattercarpet\":[{\"marker\":{\"colorbar\":{\"outlinewidth\":1,\"tickcolor\":\"rgb(36,36,36)\",\"ticks\":\"outside\"}},\"type\":\"scattercarpet\"}],\"scattergeo\":[{\"marker\":{\"colorbar\":{\"outlinewidth\":1,\"tickcolor\":\"rgb(36,36,36)\",\"ticks\":\"outside\"}},\"type\":\"scattergeo\"}],\"scattergl\":[{\"marker\":{\"colorbar\":{\"outlinewidth\":1,\"tickcolor\":\"rgb(36,36,36)\",\"ticks\":\"outside\"}},\"type\":\"scattergl\"}],\"scattermapbox\":[{\"marker\":{\"colorbar\":{\"outlinewidth\":1,\"tickcolor\":\"rgb(36,36,36)\",\"ticks\":\"outside\"}},\"type\":\"scattermapbox\"}],\"scatterpolargl\":[{\"marker\":{\"colorbar\":{\"outlinewidth\":1,\"tickcolor\":\"rgb(36,36,36)\",\"ticks\":\"outside\"}},\"type\":\"scatterpolargl\"}],\"scatterpolar\":[{\"marker\":{\"colorbar\":{\"outlinewidth\":1,\"tickcolor\":\"rgb(36,36,36)\",\"ticks\":\"outside\"}},\"type\":\"scatterpolar\"}],\"scatter\":[{\"fillpattern\":{\"fillmode\":\"overlay\",\"size\":10,\"solidity\":0.2},\"type\":\"scatter\"}],\"scatterternary\":[{\"marker\":{\"colorbar\":{\"outlinewidth\":1,\"tickcolor\":\"rgb(36,36,36)\",\"ticks\":\"outside\"}},\"type\":\"scatterternary\"}],\"surface\":[{\"colorbar\":{\"outlinewidth\":1,\"tickcolor\":\"rgb(36,36,36)\",\"ticks\":\"outside\"},\"colorscale\":[[0.0,\"#440154\"],[0.1111111111111111,\"#482878\"],[0.2222222222222222,\"#3e4989\"],[0.3333333333333333,\"#31688e\"],[0.4444444444444444,\"#26828e\"],[0.5555555555555556,\"#1f9e89\"],[0.6666666666666666,\"#35b779\"],[0.7777777777777778,\"#6ece58\"],[0.8888888888888888,\"#b5de2b\"],[1.0,\"#fde725\"]],\"type\":\"surface\"}],\"table\":[{\"cells\":{\"fill\":{\"color\":\"rgb(237,237,237)\"},\"line\":{\"color\":\"white\"}},\"header\":{\"fill\":{\"color\":\"rgb(217,217,217)\"},\"line\":{\"color\":\"white\"}},\"type\":\"table\"}]},\"layout\":{\"annotationdefaults\":{\"arrowhead\":0,\"arrowwidth\":1},\"autotypenumbers\":\"strict\",\"coloraxis\":{\"colorbar\":{\"outlinewidth\":1,\"tickcolor\":\"rgb(36,36,36)\",\"ticks\":\"outside\"}},\"colorscale\":{\"diverging\":[[0.0,\"rgb(103,0,31)\"],[0.1,\"rgb(178,24,43)\"],[0.2,\"rgb(214,96,77)\"],[0.3,\"rgb(244,165,130)\"],[0.4,\"rgb(253,219,199)\"],[0.5,\"rgb(247,247,247)\"],[0.6,\"rgb(209,229,240)\"],[0.7,\"rgb(146,197,222)\"],[0.8,\"rgb(67,147,195)\"],[0.9,\"rgb(33,102,172)\"],[1.0,\"rgb(5,48,97)\"]],\"sequential\":[[0.0,\"#440154\"],[0.1111111111111111,\"#482878\"],[0.2222222222222222,\"#3e4989\"],[0.3333333333333333,\"#31688e\"],[0.4444444444444444,\"#26828e\"],[0.5555555555555556,\"#1f9e89\"],[0.6666666666666666,\"#35b779\"],[0.7777777777777778,\"#6ece58\"],[0.8888888888888888,\"#b5de2b\"],[1.0,\"#fde725\"]],\"sequentialminus\":[[0.0,\"#440154\"],[0.1111111111111111,\"#482878\"],[0.2222222222222222,\"#3e4989\"],[0.3333333333333333,\"#31688e\"],[0.4444444444444444,\"#26828e\"],[0.5555555555555556,\"#1f9e89\"],[0.6666666666666666,\"#35b779\"],[0.7777777777777778,\"#6ece58\"],[0.8888888888888888,\"#b5de2b\"],[1.0,\"#fde725\"]]},\"colorway\":[\"#1F77B4\",\"#FF7F0E\",\"#2CA02C\",\"#D62728\",\"#9467BD\",\"#8C564B\",\"#E377C2\",\"#7F7F7F\",\"#BCBD22\",\"#17BECF\"],\"font\":{\"color\":\"rgb(36,36,36)\"},\"geo\":{\"bgcolor\":\"white\",\"lakecolor\":\"white\",\"landcolor\":\"white\",\"showlakes\":true,\"showland\":true,\"subunitcolor\":\"white\"},\"hoverlabel\":{\"align\":\"left\"},\"hovermode\":\"closest\",\"mapbox\":{\"style\":\"light\"},\"paper_bgcolor\":\"white\",\"plot_bgcolor\":\"white\",\"polar\":{\"angularaxis\":{\"gridcolor\":\"rgb(232,232,232)\",\"linecolor\":\"rgb(36,36,36)\",\"showgrid\":false,\"showline\":true,\"ticks\":\"outside\"},\"bgcolor\":\"white\",\"radialaxis\":{\"gridcolor\":\"rgb(232,232,232)\",\"linecolor\":\"rgb(36,36,36)\",\"showgrid\":false,\"showline\":true,\"ticks\":\"outside\"}},\"scene\":{\"xaxis\":{\"backgroundcolor\":\"white\",\"gridcolor\":\"rgb(232,232,232)\",\"gridwidth\":2,\"linecolor\":\"rgb(36,36,36)\",\"showbackground\":true,\"showgrid\":false,\"showline\":true,\"ticks\":\"outside\",\"zeroline\":false,\"zerolinecolor\":\"rgb(36,36,36)\"},\"yaxis\":{\"backgroundcolor\":\"white\",\"gridcolor\":\"rgb(232,232,232)\",\"gridwidth\":2,\"linecolor\":\"rgb(36,36,36)\",\"showbackground\":true,\"showgrid\":false,\"showline\":true,\"ticks\":\"outside\",\"zeroline\":false,\"zerolinecolor\":\"rgb(36,36,36)\"},\"zaxis\":{\"backgroundcolor\":\"white\",\"gridcolor\":\"rgb(232,232,232)\",\"gridwidth\":2,\"linecolor\":\"rgb(36,36,36)\",\"showbackground\":true,\"showgrid\":false,\"showline\":true,\"ticks\":\"outside\",\"zeroline\":false,\"zerolinecolor\":\"rgb(36,36,36)\"}},\"shapedefaults\":{\"fillcolor\":\"black\",\"line\":{\"width\":0},\"opacity\":0.3},\"ternary\":{\"aaxis\":{\"gridcolor\":\"rgb(232,232,232)\",\"linecolor\":\"rgb(36,36,36)\",\"showgrid\":false,\"showline\":true,\"ticks\":\"outside\"},\"baxis\":{\"gridcolor\":\"rgb(232,232,232)\",\"linecolor\":\"rgb(36,36,36)\",\"showgrid\":false,\"showline\":true,\"ticks\":\"outside\"},\"bgcolor\":\"white\",\"caxis\":{\"gridcolor\":\"rgb(232,232,232)\",\"linecolor\":\"rgb(36,36,36)\",\"showgrid\":false,\"showline\":true,\"ticks\":\"outside\"}},\"title\":{\"x\":0.5,\"xanchor\":\"center\"},\"xaxis\":{\"automargin\":true,\"gridcolor\":\"rgb(232,232,232)\",\"linecolor\":\"rgb(36,36,36)\",\"showgrid\":true,\"showline\":true,\"ticks\":\"outside\",\"title\":{\"standoff\":15},\"zeroline\":false,\"zerolinecolor\":\"rgb(36,36,36)\"},\"yaxis\":{\"automargin\":true,\"gridcolor\":\"rgb(232,232,232)\",\"linecolor\":\"rgb(36,36,36)\",\"showgrid\":true,\"showline\":true,\"ticks\":\"outside\",\"title\":{\"standoff\":15},\"zeroline\":false,\"zerolinecolor\":\"rgb(36,36,36)\"},\"autosize\":true,\"height\":400,\"margin\":{\"b\":30,\"l\":30,\"r\":30,\"t\":30},\"width\":600}},\"xaxis\":{\"anchor\":\"y\",\"domain\":[0.0,1.0],\"title\":{\"text\":\"value\"}},\"yaxis\":{\"anchor\":\"x\",\"domain\":[0.0,1.0],\"title\":{\"text\":\"count\"}},\"legend\":{\"title\":{\"text\":\"variable\"},\"tracegroupgap\":0},\"barmode\":\"relative\"},                        {\"responsive\": true}                    ).then(function(){\n",
       "                            \n",
       "var gd = document.getElementById('967e3bfc-922e-4f6b-95b1-12b062835039');\n",
       "var x = new MutationObserver(function (mutations, observer) {{\n",
       "        var display = window.getComputedStyle(gd).display;\n",
       "        if (!display || display === 'none') {{\n",
       "            console.log([gd, 'removed!']);\n",
       "            Plotly.purge(gd);\n",
       "            observer.disconnect();\n",
       "        }}\n",
       "}});\n",
       "\n",
       "// Listen for the removal of the full notebook cells\n",
       "var notebookContainer = gd.closest('#notebook-container');\n",
       "if (notebookContainer) {{\n",
       "    x.observe(notebookContainer, {childList: true});\n",
       "}}\n",
       "\n",
       "// Listen for the clearing of the current output cell\n",
       "var outputEl = gd.closest('.output');\n",
       "if (outputEl) {{\n",
       "    x.observe(outputEl, {childList: true});\n",
       "}}\n",
       "\n",
       "                        })                };                });            </script>        </div>"
      ]
     },
     "metadata": {},
     "output_type": "display_data"
    },
    {
     "name": "stdout",
     "output_type": "stream",
     "text": [
      "13484.026315789473\n"
     ]
    },
    {
     "data": {
      "text/plain": [
       "np.float64(0.0)"
      ]
     },
     "execution_count": 87,
     "metadata": {},
     "output_type": "execute_result"
    }
   ],
   "source": [
    "# Hypothesis test: \n",
    "obs = outages_cleaned[outages_cleaned['cause_category'] == 'fuel supply emergency']['outage_duration'].mean()\n",
    "size = outages_cleaned[outages_cleaned['cause_category'] == 'fuel supply emergency'].shape[0]\n",
    "\n",
    "props = outages_cleaned['cause_category'].value_counts(normalize = True)\n",
    "stats = []\n",
    "\n",
    "for i in range(1000):\n",
    "    durations = np.random.choice(outages_cleaned['outage_duration'], size, replace=True)\n",
    "    stats.append(np.median(durations))\n",
    "    \n",
    "stats = np.array(stats)\n",
    "fig = px.histogram(stats)\n",
    "fig.show()\n",
    "print(obs)\n",
    "p = (stats >= obs).mean()\n",
    "p"
   ]
  },
  {
   "cell_type": "markdown",
   "metadata": {},
   "source": [
    "## Step 5: Framing a Prediction Problem"
   ]
  },
  {
   "cell_type": "code",
   "execution_count": 22,
   "metadata": {
    "ExecuteTime": {
     "end_time": "2019-10-31T23:36:28.657068Z",
     "start_time": "2019-10-31T23:36:28.654650Z"
    }
   },
   "outputs": [],
   "source": [
    "# TODO"
   ]
  },
  {
   "cell_type": "markdown",
   "metadata": {},
   "source": [
    "## Step 6: Baseline Model"
   ]
  },
  {
   "cell_type": "code",
   "execution_count": 23,
   "metadata": {
    "ExecuteTime": {
     "end_time": "2019-10-31T23:36:28.662099Z",
     "start_time": "2019-10-31T23:36:28.660016Z"
    }
   },
   "outputs": [],
   "source": [
    "# TODO"
   ]
  },
  {
   "cell_type": "markdown",
   "metadata": {},
   "source": [
    "## Step 7: Final Model"
   ]
  },
  {
   "cell_type": "code",
   "execution_count": 24,
   "metadata": {
    "ExecuteTime": {
     "end_time": "2019-10-31T23:36:28.662099Z",
     "start_time": "2019-10-31T23:36:28.660016Z"
    }
   },
   "outputs": [],
   "source": [
    "# TODO"
   ]
  },
  {
   "cell_type": "markdown",
   "metadata": {},
   "source": [
    "## Step 8: Fairness Analysis"
   ]
  },
  {
   "cell_type": "code",
   "execution_count": 25,
   "metadata": {
    "ExecuteTime": {
     "end_time": "2019-10-31T23:36:28.666489Z",
     "start_time": "2019-10-31T23:36:28.664381Z"
    }
   },
   "outputs": [],
   "source": [
    "# TODO"
   ]
  }
 ],
 "metadata": {
  "kernelspec": {
   "display_name": "Python 3 (ipykernel)",
   "language": "python",
   "name": "python3"
  },
  "language_info": {
   "codemirror_mode": {
    "name": "ipython",
    "version": 3
   },
   "file_extension": ".py",
   "mimetype": "text/x-python",
   "name": "python",
   "nbconvert_exporter": "python",
   "pygments_lexer": "ipython3",
   "version": "3.12.6"
  }
 },
 "nbformat": 4,
 "nbformat_minor": 2
}
